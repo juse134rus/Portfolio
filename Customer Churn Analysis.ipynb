{
 "cells": [
  {
   "cell_type": "markdown",
   "metadata": {},
   "source": [
    "# Проект: Анализ оттока клиентов\n",
    "\n",
    "**Цель:** Проанализировать клиентов банка и выделить сегменты клиентов, которые склонны уходить из банка.\n",
    "\n",
    "По итогу исследования мы эффективно выделим сегменты клиентов, чтобы они были однородными, высокоточными и покрывали максимум проблемных зон банка. Это даст понимание маркетинговому отделу на какие сегменты разработать программы воздействия, что приведет к уменьшению оттока.\n",
    "\n",
    "**Заказчик** — отдел маркетинга."
   ]
  },
  {
   "cell_type": "markdown",
   "metadata": {},
   "source": [
    "**Ход выполнения проекта:**\n",
    "\n",
    "1. Предобработка данных\n",
    "2. Исследовательский анализ данных\n",
    "3. Проверка гипотез\n",
    "4. Выделение и приоритезация сегментов пользователей на основе корреляционного EDA, анализа и проверки гипотез.\n",
    "5. Выводы и рекомендации."
   ]
  },
  {
   "cell_type": "markdown",
   "metadata": {},
   "source": [
    "**Материалы:**\n",
    "* [Презентация](https://docs.google.com/presentation/d/140xLpF5FIA5dxlJBBP-IwzfZ9mzLN9XNDvReu5ZtZHM/edit?usp=sharing)\n",
    "* [Дашборд](https://public.tableau.com/views/DashboardMetanPromBank/Dashboard1?:language=en-US&:display_count=n&:origin=viz_share_link)"
   ]
  },
  {
   "cell_type": "markdown",
   "metadata": {},
   "source": [
    "## Предобработка данных"
   ]
  },
  {
   "cell_type": "code",
   "execution_count": 1,
   "metadata": {},
   "outputs": [],
   "source": [
    "import pandas as pd\n",
    "import numpy as np\n",
    "import seaborn as sns\n",
    "import matplotlib.pyplot as plt\n",
    "import math as mth\n",
    "from scipy import stats as st\n",
    "from scipy.stats import levene\n",
    "import warnings; warnings.filterwarnings(action = 'ignore')"
   ]
  },
  {
   "cell_type": "code",
   "execution_count": null,
   "metadata": {},
   "outputs": [],
   "source": [
    "try:\n",
    "    bank_dataset = pd.read_csv('/datasets/bank_dataset.csv')\n",
    "except:\n",
    "    bank_dataset = pd.read_csv('*')"
   ]
  },
  {
   "cell_type": "code",
   "execution_count": 3,
   "metadata": {
    "scrolled": false
   },
   "outputs": [
    {
     "data": {
      "text/html": [
       "<div>\n",
       "<style scoped>\n",
       "    .dataframe tbody tr th:only-of-type {\n",
       "        vertical-align: middle;\n",
       "    }\n",
       "\n",
       "    .dataframe tbody tr th {\n",
       "        vertical-align: top;\n",
       "    }\n",
       "\n",
       "    .dataframe thead th {\n",
       "        text-align: right;\n",
       "    }\n",
       "</style>\n",
       "<table border=\"1\" class=\"dataframe\">\n",
       "  <thead>\n",
       "    <tr style=\"text-align: right;\">\n",
       "      <th></th>\n",
       "      <th>userid</th>\n",
       "      <th>score</th>\n",
       "      <th>City</th>\n",
       "      <th>Gender</th>\n",
       "      <th>Age</th>\n",
       "      <th>Objects</th>\n",
       "      <th>Balance</th>\n",
       "      <th>Products</th>\n",
       "      <th>CreditCard</th>\n",
       "      <th>Loyalty</th>\n",
       "      <th>estimated_salary</th>\n",
       "      <th>Churn</th>\n",
       "    </tr>\n",
       "  </thead>\n",
       "  <tbody>\n",
       "    <tr>\n",
       "      <th>0</th>\n",
       "      <td>15677338</td>\n",
       "      <td>619</td>\n",
       "      <td>Ярославль</td>\n",
       "      <td>Ж</td>\n",
       "      <td>42</td>\n",
       "      <td>2</td>\n",
       "      <td>NaN</td>\n",
       "      <td>1</td>\n",
       "      <td>1</td>\n",
       "      <td>1</td>\n",
       "      <td>101348.88</td>\n",
       "      <td>1</td>\n",
       "    </tr>\n",
       "    <tr>\n",
       "      <th>1</th>\n",
       "      <td>15690047</td>\n",
       "      <td>608</td>\n",
       "      <td>Рыбинск</td>\n",
       "      <td>Ж</td>\n",
       "      <td>41</td>\n",
       "      <td>1</td>\n",
       "      <td>83807.86</td>\n",
       "      <td>1</td>\n",
       "      <td>0</td>\n",
       "      <td>1</td>\n",
       "      <td>112542.58</td>\n",
       "      <td>0</td>\n",
       "    </tr>\n",
       "    <tr>\n",
       "      <th>2</th>\n",
       "      <td>15662040</td>\n",
       "      <td>502</td>\n",
       "      <td>Ярославль</td>\n",
       "      <td>Ж</td>\n",
       "      <td>42</td>\n",
       "      <td>8</td>\n",
       "      <td>159660.80</td>\n",
       "      <td>3</td>\n",
       "      <td>1</td>\n",
       "      <td>0</td>\n",
       "      <td>113931.57</td>\n",
       "      <td>1</td>\n",
       "    </tr>\n",
       "    <tr>\n",
       "      <th>3</th>\n",
       "      <td>15744090</td>\n",
       "      <td>699</td>\n",
       "      <td>Ярославль</td>\n",
       "      <td>Ж</td>\n",
       "      <td>39</td>\n",
       "      <td>1</td>\n",
       "      <td>NaN</td>\n",
       "      <td>2</td>\n",
       "      <td>0</td>\n",
       "      <td>0</td>\n",
       "      <td>93826.63</td>\n",
       "      <td>0</td>\n",
       "    </tr>\n",
       "    <tr>\n",
       "      <th>4</th>\n",
       "      <td>15780624</td>\n",
       "      <td>850</td>\n",
       "      <td>Рыбинск</td>\n",
       "      <td>Ж</td>\n",
       "      <td>43</td>\n",
       "      <td>2</td>\n",
       "      <td>125510.82</td>\n",
       "      <td>1</td>\n",
       "      <td>1</td>\n",
       "      <td>1</td>\n",
       "      <td>79084.10</td>\n",
       "      <td>0</td>\n",
       "    </tr>\n",
       "    <tr>\n",
       "      <th>5</th>\n",
       "      <td>15616748</td>\n",
       "      <td>645</td>\n",
       "      <td>Рыбинск</td>\n",
       "      <td>М</td>\n",
       "      <td>44</td>\n",
       "      <td>8</td>\n",
       "      <td>113755.78</td>\n",
       "      <td>2</td>\n",
       "      <td>1</td>\n",
       "      <td>0</td>\n",
       "      <td>149756.71</td>\n",
       "      <td>1</td>\n",
       "    </tr>\n",
       "    <tr>\n",
       "      <th>6</th>\n",
       "      <td>15635267</td>\n",
       "      <td>822</td>\n",
       "      <td>Ярославль</td>\n",
       "      <td>М</td>\n",
       "      <td>50</td>\n",
       "      <td>7</td>\n",
       "      <td>NaN</td>\n",
       "      <td>2</td>\n",
       "      <td>1</td>\n",
       "      <td>1</td>\n",
       "      <td>10062.80</td>\n",
       "      <td>0</td>\n",
       "    </tr>\n",
       "    <tr>\n",
       "      <th>7</th>\n",
       "      <td>15698884</td>\n",
       "      <td>376</td>\n",
       "      <td>Ростов Великий</td>\n",
       "      <td>Ж</td>\n",
       "      <td>29</td>\n",
       "      <td>4</td>\n",
       "      <td>115046.74</td>\n",
       "      <td>4</td>\n",
       "      <td>1</td>\n",
       "      <td>0</td>\n",
       "      <td>119346.88</td>\n",
       "      <td>1</td>\n",
       "    </tr>\n",
       "    <tr>\n",
       "      <th>8</th>\n",
       "      <td>15835101</td>\n",
       "      <td>501</td>\n",
       "      <td>Ярославль</td>\n",
       "      <td>М</td>\n",
       "      <td>44</td>\n",
       "      <td>4</td>\n",
       "      <td>142051.07</td>\n",
       "      <td>2</td>\n",
       "      <td>0</td>\n",
       "      <td>1</td>\n",
       "      <td>74940.50</td>\n",
       "      <td>0</td>\n",
       "    </tr>\n",
       "    <tr>\n",
       "      <th>9</th>\n",
       "      <td>15635125</td>\n",
       "      <td>684</td>\n",
       "      <td>Ярославль</td>\n",
       "      <td>М</td>\n",
       "      <td>27</td>\n",
       "      <td>2</td>\n",
       "      <td>134603.88</td>\n",
       "      <td>1</td>\n",
       "      <td>1</td>\n",
       "      <td>1</td>\n",
       "      <td>71725.73</td>\n",
       "      <td>0</td>\n",
       "    </tr>\n",
       "  </tbody>\n",
       "</table>\n",
       "</div>"
      ],
      "text/plain": [
       "     userid  score            City Gender  Age  Objects    Balance  Products  \\\n",
       "0  15677338    619       Ярославль      Ж   42        2        NaN         1   \n",
       "1  15690047    608         Рыбинск      Ж   41        1   83807.86         1   \n",
       "2  15662040    502       Ярославль      Ж   42        8  159660.80         3   \n",
       "3  15744090    699       Ярославль      Ж   39        1        NaN         2   \n",
       "4  15780624    850         Рыбинск      Ж   43        2  125510.82         1   \n",
       "5  15616748    645         Рыбинск      М   44        8  113755.78         2   \n",
       "6  15635267    822       Ярославль      М   50        7        NaN         2   \n",
       "7  15698884    376  Ростов Великий      Ж   29        4  115046.74         4   \n",
       "8  15835101    501       Ярославль      М   44        4  142051.07         2   \n",
       "9  15635125    684       Ярославль      М   27        2  134603.88         1   \n",
       "\n",
       "   CreditCard  Loyalty  estimated_salary  Churn  \n",
       "0           1        1         101348.88      1  \n",
       "1           0        1         112542.58      0  \n",
       "2           1        0         113931.57      1  \n",
       "3           0        0          93826.63      0  \n",
       "4           1        1          79084.10      0  \n",
       "5           1        0         149756.71      1  \n",
       "6           1        1          10062.80      0  \n",
       "7           1        0         119346.88      1  \n",
       "8           0        1          74940.50      0  \n",
       "9           1        1          71725.73      0  "
      ]
     },
     "metadata": {},
     "output_type": "display_data"
    },
    {
     "name": "stdout",
     "output_type": "stream",
     "text": [
      "<class 'pandas.core.frame.DataFrame'>\n",
      "RangeIndex: 10000 entries, 0 to 9999\n",
      "Data columns (total 12 columns):\n",
      " #   Column            Non-Null Count  Dtype  \n",
      "---  ------            --------------  -----  \n",
      " 0   userid            10000 non-null  int64  \n",
      " 1   score             10000 non-null  int64  \n",
      " 2   City              10000 non-null  object \n",
      " 3   Gender            10000 non-null  object \n",
      " 4   Age               10000 non-null  int64  \n",
      " 5   Objects           10000 non-null  int64  \n",
      " 6   Balance           6383 non-null   float64\n",
      " 7   Products          10000 non-null  int64  \n",
      " 8   CreditCard        10000 non-null  int64  \n",
      " 9   Loyalty           10000 non-null  int64  \n",
      " 10  estimated_salary  10000 non-null  float64\n",
      " 11  Churn             10000 non-null  int64  \n",
      "dtypes: float64(2), int64(8), object(2)\n",
      "memory usage: 937.6+ KB\n"
     ]
    }
   ],
   "source": [
    "display(bank_dataset.head(10))\n",
    "bank_dataset.info()"
   ]
  },
  {
   "cell_type": "code",
   "execution_count": 4,
   "metadata": {},
   "outputs": [
    {
     "data": {
      "text/plain": [
       "userid                 0\n",
       "score                  0\n",
       "City                   0\n",
       "Gender                 0\n",
       "Age                    0\n",
       "Objects                0\n",
       "Balance             3617\n",
       "Products               0\n",
       "CreditCard             0\n",
       "Loyalty                0\n",
       "estimated_salary       0\n",
       "Churn                  0\n",
       "dtype: int64"
      ]
     },
     "execution_count": 4,
     "metadata": {},
     "output_type": "execute_result"
    }
   ],
   "source": [
    "bank_dataset.isna().sum()"
   ]
  },
  {
   "cell_type": "markdown",
   "metadata": {},
   "source": [
    "Пропуски имеются только в столбце баланса, но их много, отсутствуют данные о балансе порядка 37% клиентов банка. Это может быть вызвано сбоем на этапах сбора/выгрузки информации или другими причинами. Природу пропусков мы исследуем дальше."
   ]
  },
  {
   "cell_type": "code",
   "execution_count": 5,
   "metadata": {},
   "outputs": [
    {
     "data": {
      "image/png": "[encoded data removed]",
      "text/plain": [
       "<Figure size 720x360 with 1 Axes>"
      ]
     },
     "metadata": {
      "needs_background": "light"
     },
     "output_type": "display_data"
    }
   ],
   "source": [
    "plt.figure(figsize=(10, 5))\n",
    "bank_dataset['Balance'].hist(bins=50)\n",
    "plt.title('Гистограмма распределения баланса на счетах клиентов банка', fontsize=20)\n",
    "plt.xlabel('Баланс', fontsize=15)\n",
    "plt.ylabel('Количество клиентов', fontsize=15)\n",
    "plt.show()"
   ]
  },
  {
   "cell_type": "markdown",
   "metadata": {},
   "source": [
    "Распределение нормальное – это плюс."
   ]
  },
  {
   "cell_type": "markdown",
   "metadata": {},
   "source": [
    "Исследуем разницу клиентов с пропусками в балансе и без."
   ]
  },
  {
   "cell_type": "code",
   "execution_count": 6,
   "metadata": {},
   "outputs": [
    {
     "data": {
      "text/html": [
       "<div>\n",
       "<style scoped>\n",
       "    .dataframe tbody tr th:only-of-type {\n",
       "        vertical-align: middle;\n",
       "    }\n",
       "\n",
       "    .dataframe tbody tr th {\n",
       "        vertical-align: top;\n",
       "    }\n",
       "\n",
       "    .dataframe thead th {\n",
       "        text-align: right;\n",
       "    }\n",
       "</style>\n",
       "<table border=\"1\" class=\"dataframe\">\n",
       "  <thead>\n",
       "    <tr style=\"text-align: right;\">\n",
       "      <th></th>\n",
       "      <th>count</th>\n",
       "      <th>mean</th>\n",
       "      <th>std</th>\n",
       "      <th>min</th>\n",
       "      <th>25%</th>\n",
       "      <th>50%</th>\n",
       "      <th>75%</th>\n",
       "      <th>max</th>\n",
       "    </tr>\n",
       "  </thead>\n",
       "  <tbody>\n",
       "    <tr>\n",
       "      <th>userid</th>\n",
       "      <td>3617.0</td>\n",
       "      <td>15734685.59</td>\n",
       "      <td>71947.49</td>\n",
       "      <td>15608442.00</td>\n",
       "      <td>15672255.00</td>\n",
       "      <td>15736083.00</td>\n",
       "      <td>15796286.00</td>\n",
       "      <td>15858100.00</td>\n",
       "    </tr>\n",
       "    <tr>\n",
       "      <th>score</th>\n",
       "      <td>3617.0</td>\n",
       "      <td>649.45</td>\n",
       "      <td>96.16</td>\n",
       "      <td>350.00</td>\n",
       "      <td>583.00</td>\n",
       "      <td>651.00</td>\n",
       "      <td>717.00</td>\n",
       "      <td>850.00</td>\n",
       "    </tr>\n",
       "    <tr>\n",
       "      <th>Age</th>\n",
       "      <td>3617.0</td>\n",
       "      <td>38.43</td>\n",
       "      <td>10.49</td>\n",
       "      <td>18.00</td>\n",
       "      <td>31.00</td>\n",
       "      <td>37.00</td>\n",
       "      <td>43.00</td>\n",
       "      <td>88.00</td>\n",
       "    </tr>\n",
       "    <tr>\n",
       "      <th>Objects</th>\n",
       "      <td>3617.0</td>\n",
       "      <td>5.07</td>\n",
       "      <td>2.86</td>\n",
       "      <td>0.00</td>\n",
       "      <td>3.00</td>\n",
       "      <td>5.00</td>\n",
       "      <td>7.00</td>\n",
       "      <td>10.00</td>\n",
       "    </tr>\n",
       "    <tr>\n",
       "      <th>Balance</th>\n",
       "      <td>0.0</td>\n",
       "      <td>NaN</td>\n",
       "      <td>NaN</td>\n",
       "      <td>NaN</td>\n",
       "      <td>NaN</td>\n",
       "      <td>NaN</td>\n",
       "      <td>NaN</td>\n",
       "      <td>NaN</td>\n",
       "    </tr>\n",
       "    <tr>\n",
       "      <th>Products</th>\n",
       "      <td>3617.0</td>\n",
       "      <td>1.78</td>\n",
       "      <td>0.50</td>\n",
       "      <td>1.00</td>\n",
       "      <td>1.00</td>\n",
       "      <td>2.00</td>\n",
       "      <td>2.00</td>\n",
       "      <td>4.00</td>\n",
       "    </tr>\n",
       "    <tr>\n",
       "      <th>CreditCard</th>\n",
       "      <td>3617.0</td>\n",
       "      <td>0.72</td>\n",
       "      <td>0.45</td>\n",
       "      <td>0.00</td>\n",
       "      <td>0.00</td>\n",
       "      <td>1.00</td>\n",
       "      <td>1.00</td>\n",
       "      <td>1.00</td>\n",
       "    </tr>\n",
       "    <tr>\n",
       "      <th>Loyalty</th>\n",
       "      <td>3617.0</td>\n",
       "      <td>0.52</td>\n",
       "      <td>0.50</td>\n",
       "      <td>0.00</td>\n",
       "      <td>0.00</td>\n",
       "      <td>1.00</td>\n",
       "      <td>1.00</td>\n",
       "      <td>1.00</td>\n",
       "    </tr>\n",
       "    <tr>\n",
       "      <th>estimated_salary</th>\n",
       "      <td>3617.0</td>\n",
       "      <td>98983.56</td>\n",
       "      <td>57730.83</td>\n",
       "      <td>90.07</td>\n",
       "      <td>49506.82</td>\n",
       "      <td>98618.79</td>\n",
       "      <td>148330.97</td>\n",
       "      <td>199992.48</td>\n",
       "    </tr>\n",
       "    <tr>\n",
       "      <th>Churn</th>\n",
       "      <td>3617.0</td>\n",
       "      <td>0.14</td>\n",
       "      <td>0.35</td>\n",
       "      <td>0.00</td>\n",
       "      <td>0.00</td>\n",
       "      <td>0.00</td>\n",
       "      <td>0.00</td>\n",
       "      <td>1.00</td>\n",
       "    </tr>\n",
       "  </tbody>\n",
       "</table>\n",
       "</div>"
      ],
      "text/plain": [
       "                   count         mean       std          min          25%  \\\n",
       "userid            3617.0  15734685.59  71947.49  15608442.00  15672255.00   \n",
       "score             3617.0       649.45     96.16       350.00       583.00   \n",
       "Age               3617.0        38.43     10.49        18.00        31.00   \n",
       "Objects           3617.0         5.07      2.86         0.00         3.00   \n",
       "Balance              0.0          NaN       NaN          NaN          NaN   \n",
       "Products          3617.0         1.78      0.50         1.00         1.00   \n",
       "CreditCard        3617.0         0.72      0.45         0.00         0.00   \n",
       "Loyalty           3617.0         0.52      0.50         0.00         0.00   \n",
       "estimated_salary  3617.0     98983.56  57730.83        90.07     49506.82   \n",
       "Churn             3617.0         0.14      0.35         0.00         0.00   \n",
       "\n",
       "                          50%          75%          max  \n",
       "userid            15736083.00  15796286.00  15858100.00  \n",
       "score                  651.00       717.00       850.00  \n",
       "Age                     37.00        43.00        88.00  \n",
       "Objects                  5.00         7.00        10.00  \n",
       "Balance                   NaN          NaN          NaN  \n",
       "Products                 2.00         2.00         4.00  \n",
       "CreditCard               1.00         1.00         1.00  \n",
       "Loyalty                  1.00         1.00         1.00  \n",
       "estimated_salary     98618.79    148330.97    199992.48  \n",
       "Churn                    0.00         0.00         1.00  "
      ]
     },
     "metadata": {},
     "output_type": "display_data"
    },
    {
     "data": {
      "text/html": [
       "<div>\n",
       "<style scoped>\n",
       "    .dataframe tbody tr th:only-of-type {\n",
       "        vertical-align: middle;\n",
       "    }\n",
       "\n",
       "    .dataframe tbody tr th {\n",
       "        vertical-align: top;\n",
       "    }\n",
       "\n",
       "    .dataframe thead th {\n",
       "        text-align: right;\n",
       "    }\n",
       "</style>\n",
       "<table border=\"1\" class=\"dataframe\">\n",
       "  <thead>\n",
       "    <tr style=\"text-align: right;\">\n",
       "      <th></th>\n",
       "      <th>count</th>\n",
       "      <th>mean</th>\n",
       "      <th>std</th>\n",
       "      <th>min</th>\n",
       "      <th>25%</th>\n",
       "      <th>50%</th>\n",
       "      <th>75%</th>\n",
       "      <th>max</th>\n",
       "    </tr>\n",
       "  </thead>\n",
       "  <tbody>\n",
       "    <tr>\n",
       "      <th>userid</th>\n",
       "      <td>6383.0</td>\n",
       "      <td>15733104.80</td>\n",
       "      <td>71929.13</td>\n",
       "      <td>15608437.00</td>\n",
       "      <td>15670940.00</td>\n",
       "      <td>15732262.00</td>\n",
       "      <td>15795842.00</td>\n",
       "      <td>15858426.00</td>\n",
       "    </tr>\n",
       "    <tr>\n",
       "      <th>score</th>\n",
       "      <td>6383.0</td>\n",
       "      <td>651.14</td>\n",
       "      <td>96.93</td>\n",
       "      <td>350.00</td>\n",
       "      <td>584.00</td>\n",
       "      <td>652.00</td>\n",
       "      <td>718.00</td>\n",
       "      <td>850.00</td>\n",
       "    </tr>\n",
       "    <tr>\n",
       "      <th>Age</th>\n",
       "      <td>6383.0</td>\n",
       "      <td>39.20</td>\n",
       "      <td>10.48</td>\n",
       "      <td>18.00</td>\n",
       "      <td>32.00</td>\n",
       "      <td>38.00</td>\n",
       "      <td>44.00</td>\n",
       "      <td>92.00</td>\n",
       "    </tr>\n",
       "    <tr>\n",
       "      <th>Objects</th>\n",
       "      <td>6383.0</td>\n",
       "      <td>4.98</td>\n",
       "      <td>2.91</td>\n",
       "      <td>0.00</td>\n",
       "      <td>2.00</td>\n",
       "      <td>5.00</td>\n",
       "      <td>8.00</td>\n",
       "      <td>10.00</td>\n",
       "    </tr>\n",
       "    <tr>\n",
       "      <th>Balance</th>\n",
       "      <td>6383.0</td>\n",
       "      <td>119827.49</td>\n",
       "      <td>30095.06</td>\n",
       "      <td>3768.69</td>\n",
       "      <td>100181.98</td>\n",
       "      <td>119839.69</td>\n",
       "      <td>139512.29</td>\n",
       "      <td>250898.09</td>\n",
       "    </tr>\n",
       "    <tr>\n",
       "      <th>Products</th>\n",
       "      <td>6383.0</td>\n",
       "      <td>1.39</td>\n",
       "      <td>0.58</td>\n",
       "      <td>1.00</td>\n",
       "      <td>1.00</td>\n",
       "      <td>1.00</td>\n",
       "      <td>2.00</td>\n",
       "      <td>4.00</td>\n",
       "    </tr>\n",
       "    <tr>\n",
       "      <th>CreditCard</th>\n",
       "      <td>6383.0</td>\n",
       "      <td>0.70</td>\n",
       "      <td>0.46</td>\n",
       "      <td>0.00</td>\n",
       "      <td>0.00</td>\n",
       "      <td>1.00</td>\n",
       "      <td>1.00</td>\n",
       "      <td>1.00</td>\n",
       "    </tr>\n",
       "    <tr>\n",
       "      <th>Loyalty</th>\n",
       "      <td>6383.0</td>\n",
       "      <td>0.51</td>\n",
       "      <td>0.50</td>\n",
       "      <td>0.00</td>\n",
       "      <td>0.00</td>\n",
       "      <td>1.00</td>\n",
       "      <td>1.00</td>\n",
       "      <td>1.00</td>\n",
       "    </tr>\n",
       "    <tr>\n",
       "      <th>estimated_salary</th>\n",
       "      <td>6383.0</td>\n",
       "      <td>100717.35</td>\n",
       "      <td>57380.32</td>\n",
       "      <td>11.58</td>\n",
       "      <td>51736.85</td>\n",
       "      <td>101139.30</td>\n",
       "      <td>149596.62</td>\n",
       "      <td>199970.74</td>\n",
       "    </tr>\n",
       "    <tr>\n",
       "      <th>Churn</th>\n",
       "      <td>6383.0</td>\n",
       "      <td>0.24</td>\n",
       "      <td>0.43</td>\n",
       "      <td>0.00</td>\n",
       "      <td>0.00</td>\n",
       "      <td>0.00</td>\n",
       "      <td>0.00</td>\n",
       "      <td>1.00</td>\n",
       "    </tr>\n",
       "  </tbody>\n",
       "</table>\n",
       "</div>"
      ],
      "text/plain": [
       "                   count         mean       std          min          25%  \\\n",
       "userid            6383.0  15733104.80  71929.13  15608437.00  15670940.00   \n",
       "score             6383.0       651.14     96.93       350.00       584.00   \n",
       "Age               6383.0        39.20     10.48        18.00        32.00   \n",
       "Objects           6383.0         4.98      2.91         0.00         2.00   \n",
       "Balance           6383.0    119827.49  30095.06      3768.69    100181.98   \n",
       "Products          6383.0         1.39      0.58         1.00         1.00   \n",
       "CreditCard        6383.0         0.70      0.46         0.00         0.00   \n",
       "Loyalty           6383.0         0.51      0.50         0.00         0.00   \n",
       "estimated_salary  6383.0    100717.35  57380.32        11.58     51736.85   \n",
       "Churn             6383.0         0.24      0.43         0.00         0.00   \n",
       "\n",
       "                          50%          75%          max  \n",
       "userid            15732262.00  15795842.00  15858426.00  \n",
       "score                  652.00       718.00       850.00  \n",
       "Age                     38.00        44.00        92.00  \n",
       "Objects                  5.00         8.00        10.00  \n",
       "Balance             119839.69    139512.29    250898.09  \n",
       "Products                 1.00         2.00         4.00  \n",
       "CreditCard               1.00         1.00         1.00  \n",
       "Loyalty                  1.00         1.00         1.00  \n",
       "estimated_salary    101139.30    149596.62    199970.74  \n",
       "Churn                    0.00         0.00         1.00  "
      ]
     },
     "metadata": {},
     "output_type": "display_data"
    }
   ],
   "source": [
    "display(round(bank_dataset[bank_dataset['Balance'].isna()].describe().T,2))\n",
    "\n",
    "display(round(bank_dataset[bank_dataset['Balance'].notna()].describe().T,2))"
   ]
  },
  {
   "cell_type": "markdown",
   "metadata": {},
   "source": [
    "Зависимости \"все пропуски относятся к ушедшим клиентам\" нет, пропуски в балансе есть и у действующих клиентов.\n",
    "\n",
    "Существенная разница есть в количестве продуктов. Возможно это клиенты у которых нет баланса из-за специфики продукта, например страховка жизни или авто.\n",
    "\n",
    "Посмотрим в разрезе по городам."
   ]
  },
  {
   "cell_type": "code",
   "execution_count": 7,
   "metadata": {},
   "outputs": [
    {
     "data": {
      "text/plain": [
       "Ярославль    2418\n",
       "Рыбинск      1199\n",
       "Name: City, dtype: int64"
      ]
     },
     "execution_count": 7,
     "metadata": {},
     "output_type": "execute_result"
    }
   ],
   "source": [
    "bank_dataset[bank_dataset['Balance'].isna()]['City'].value_counts()"
   ]
  },
  {
   "cell_type": "markdown",
   "metadata": {},
   "source": [
    "В таблице нет пропусков среди клиентов города Ростов Великий. Возможно продукта, в котором нет баланса, нет в данном городе."
   ]
  },
  {
   "cell_type": "markdown",
   "metadata": {},
   "source": [
    "Исходя из полученной аналитики касательно пропусков баланса, можно сделать вывод, что это категория пропусков **MNAR** (Missing Not At Random / Отсутствует не случайно) — пропуски зависят от данных, которых нет в нашем датасете, без дополнительного обоснования их нельзя отбрасывать или заполнять одним значением, т.к. это приведёт к заметным искажениям."
   ]
  },
  {
   "cell_type": "markdown",
   "metadata": {},
   "source": [
    "Проверим датасет на дубликаты."
   ]
  },
  {
   "cell_type": "code",
   "execution_count": 8,
   "metadata": {},
   "outputs": [
    {
     "name": "stdout",
     "output_type": "stream",
     "text": [
      "Полных дублей в датасете: 0\n",
      "Неявных, если сравнивать только идентификатор пользователя: 0\n"
     ]
    }
   ],
   "source": [
    "print('Полных дублей в датасете:', bank_dataset.duplicated().sum(),)\n",
    "print('Неявных, если сравнивать только идентификатор пользователя:', bank_dataset.duplicated('userid').sum())"
   ]
  },
  {
   "cell_type": "markdown",
   "metadata": {},
   "source": [
    "Дубликатов нет, это хорошо."
   ]
  },
  {
   "cell_type": "markdown",
   "metadata": {},
   "source": [
    "Приведём названия столбцов к нижнему регистру и переименуем для удобства."
   ]
  },
  {
   "cell_type": "code",
   "execution_count": 9,
   "metadata": {},
   "outputs": [
    {
     "data": {
      "text/plain": [
       "Index(['userid', 'score', 'city', 'gender', 'age', 'objects', 'balance',\n",
       "       'products', 'credit_card', 'loyalty', 'estimated_salary', 'churn'],\n",
       "      dtype='object')"
      ]
     },
     "execution_count": 9,
     "metadata": {},
     "output_type": "execute_result"
    }
   ],
   "source": [
    "bank_dataset.columns = bank_dataset.columns.str.lower()\n",
    "bank_dataset = bank_dataset.rename(columns={'creditcard': 'credit_card'})\n",
    "bank_dataset.columns"
   ]
  },
  {
   "cell_type": "markdown",
   "metadata": {},
   "source": [
    "Исходя из задачи, нам не нужны user_id в построении портретов пользователей. Удалим данный столбец."
   ]
  },
  {
   "cell_type": "code",
   "execution_count": 10,
   "metadata": {},
   "outputs": [
    {
     "data": {
      "text/html": [
       "<div>\n",
       "<style scoped>\n",
       "    .dataframe tbody tr th:only-of-type {\n",
       "        vertical-align: middle;\n",
       "    }\n",
       "\n",
       "    .dataframe tbody tr th {\n",
       "        vertical-align: top;\n",
       "    }\n",
       "\n",
       "    .dataframe thead th {\n",
       "        text-align: right;\n",
       "    }\n",
       "</style>\n",
       "<table border=\"1\" class=\"dataframe\">\n",
       "  <thead>\n",
       "    <tr style=\"text-align: right;\">\n",
       "      <th></th>\n",
       "      <th>score</th>\n",
       "      <th>city</th>\n",
       "      <th>gender</th>\n",
       "      <th>age</th>\n",
       "      <th>objects</th>\n",
       "      <th>balance</th>\n",
       "      <th>products</th>\n",
       "      <th>credit_card</th>\n",
       "      <th>loyalty</th>\n",
       "      <th>estimated_salary</th>\n",
       "      <th>churn</th>\n",
       "    </tr>\n",
       "  </thead>\n",
       "  <tbody>\n",
       "    <tr>\n",
       "      <th>0</th>\n",
       "      <td>619</td>\n",
       "      <td>Ярославль</td>\n",
       "      <td>Ж</td>\n",
       "      <td>42</td>\n",
       "      <td>2</td>\n",
       "      <td>NaN</td>\n",
       "      <td>1</td>\n",
       "      <td>1</td>\n",
       "      <td>1</td>\n",
       "      <td>101348.88</td>\n",
       "      <td>1</td>\n",
       "    </tr>\n",
       "    <tr>\n",
       "      <th>1</th>\n",
       "      <td>608</td>\n",
       "      <td>Рыбинск</td>\n",
       "      <td>Ж</td>\n",
       "      <td>41</td>\n",
       "      <td>1</td>\n",
       "      <td>83807.86</td>\n",
       "      <td>1</td>\n",
       "      <td>0</td>\n",
       "      <td>1</td>\n",
       "      <td>112542.58</td>\n",
       "      <td>0</td>\n",
       "    </tr>\n",
       "    <tr>\n",
       "      <th>2</th>\n",
       "      <td>502</td>\n",
       "      <td>Ярославль</td>\n",
       "      <td>Ж</td>\n",
       "      <td>42</td>\n",
       "      <td>8</td>\n",
       "      <td>159660.80</td>\n",
       "      <td>3</td>\n",
       "      <td>1</td>\n",
       "      <td>0</td>\n",
       "      <td>113931.57</td>\n",
       "      <td>1</td>\n",
       "    </tr>\n",
       "    <tr>\n",
       "      <th>3</th>\n",
       "      <td>699</td>\n",
       "      <td>Ярославль</td>\n",
       "      <td>Ж</td>\n",
       "      <td>39</td>\n",
       "      <td>1</td>\n",
       "      <td>NaN</td>\n",
       "      <td>2</td>\n",
       "      <td>0</td>\n",
       "      <td>0</td>\n",
       "      <td>93826.63</td>\n",
       "      <td>0</td>\n",
       "    </tr>\n",
       "    <tr>\n",
       "      <th>4</th>\n",
       "      <td>850</td>\n",
       "      <td>Рыбинск</td>\n",
       "      <td>Ж</td>\n",
       "      <td>43</td>\n",
       "      <td>2</td>\n",
       "      <td>125510.82</td>\n",
       "      <td>1</td>\n",
       "      <td>1</td>\n",
       "      <td>1</td>\n",
       "      <td>79084.10</td>\n",
       "      <td>0</td>\n",
       "    </tr>\n",
       "    <tr>\n",
       "      <th>5</th>\n",
       "      <td>645</td>\n",
       "      <td>Рыбинск</td>\n",
       "      <td>М</td>\n",
       "      <td>44</td>\n",
       "      <td>8</td>\n",
       "      <td>113755.78</td>\n",
       "      <td>2</td>\n",
       "      <td>1</td>\n",
       "      <td>0</td>\n",
       "      <td>149756.71</td>\n",
       "      <td>1</td>\n",
       "    </tr>\n",
       "    <tr>\n",
       "      <th>6</th>\n",
       "      <td>822</td>\n",
       "      <td>Ярославль</td>\n",
       "      <td>М</td>\n",
       "      <td>50</td>\n",
       "      <td>7</td>\n",
       "      <td>NaN</td>\n",
       "      <td>2</td>\n",
       "      <td>1</td>\n",
       "      <td>1</td>\n",
       "      <td>10062.80</td>\n",
       "      <td>0</td>\n",
       "    </tr>\n",
       "    <tr>\n",
       "      <th>7</th>\n",
       "      <td>376</td>\n",
       "      <td>Ростов Великий</td>\n",
       "      <td>Ж</td>\n",
       "      <td>29</td>\n",
       "      <td>4</td>\n",
       "      <td>115046.74</td>\n",
       "      <td>4</td>\n",
       "      <td>1</td>\n",
       "      <td>0</td>\n",
       "      <td>119346.88</td>\n",
       "      <td>1</td>\n",
       "    </tr>\n",
       "    <tr>\n",
       "      <th>8</th>\n",
       "      <td>501</td>\n",
       "      <td>Ярославль</td>\n",
       "      <td>М</td>\n",
       "      <td>44</td>\n",
       "      <td>4</td>\n",
       "      <td>142051.07</td>\n",
       "      <td>2</td>\n",
       "      <td>0</td>\n",
       "      <td>1</td>\n",
       "      <td>74940.50</td>\n",
       "      <td>0</td>\n",
       "    </tr>\n",
       "    <tr>\n",
       "      <th>9</th>\n",
       "      <td>684</td>\n",
       "      <td>Ярославль</td>\n",
       "      <td>М</td>\n",
       "      <td>27</td>\n",
       "      <td>2</td>\n",
       "      <td>134603.88</td>\n",
       "      <td>1</td>\n",
       "      <td>1</td>\n",
       "      <td>1</td>\n",
       "      <td>71725.73</td>\n",
       "      <td>0</td>\n",
       "    </tr>\n",
       "  </tbody>\n",
       "</table>\n",
       "</div>"
      ],
      "text/plain": [
       "   score            city gender  age  objects    balance  products  \\\n",
       "0    619       Ярославль      Ж   42        2        NaN         1   \n",
       "1    608         Рыбинск      Ж   41        1   83807.86         1   \n",
       "2    502       Ярославль      Ж   42        8  159660.80         3   \n",
       "3    699       Ярославль      Ж   39        1        NaN         2   \n",
       "4    850         Рыбинск      Ж   43        2  125510.82         1   \n",
       "5    645         Рыбинск      М   44        8  113755.78         2   \n",
       "6    822       Ярославль      М   50        7        NaN         2   \n",
       "7    376  Ростов Великий      Ж   29        4  115046.74         4   \n",
       "8    501       Ярославль      М   44        4  142051.07         2   \n",
       "9    684       Ярославль      М   27        2  134603.88         1   \n",
       "\n",
       "   credit_card  loyalty  estimated_salary  churn  \n",
       "0            1        1         101348.88      1  \n",
       "1            0        1         112542.58      0  \n",
       "2            1        0         113931.57      1  \n",
       "3            0        0          93826.63      0  \n",
       "4            1        1          79084.10      0  \n",
       "5            1        0         149756.71      1  \n",
       "6            1        1          10062.80      0  \n",
       "7            1        0         119346.88      1  \n",
       "8            0        1          74940.50      0  \n",
       "9            1        1          71725.73      0  "
      ]
     },
     "metadata": {},
     "output_type": "display_data"
    }
   ],
   "source": [
    "bank_dataset = bank_dataset.drop(columns = ['userid'],axis = 1)\n",
    "display(bank_dataset.head(10))"
   ]
  },
  {
   "cell_type": "markdown",
   "metadata": {},
   "source": [
    "**Предобработка завершена:**\n",
    "   - импортированы библиотеки, загружен датасет, проведено ознакомление с данными\n",
    "   - найдены пропуски и выдвинуты предположения об их \"природе\". Решено оставить пропуски \"как есть\", чтобы не исказить дальнейшие результаты проверки гипотез\n",
    "   - дубликатов в датасете не найдено\n",
    "   - названия столбцов приведены к единому стилю\n",
    "   - удален столбец с id клиентов"
   ]
  },
  {
   "cell_type": "markdown",
   "metadata": {},
   "source": [
    "## Исследовательский анализ данных"
   ]
  },
  {
   "cell_type": "markdown",
   "metadata": {},
   "source": [
    "**Кодирование и категоризация данных**\n",
    "\n",
    "Для дальнейшего анализа необходимо перевести категориальные значения в бинарные. Такие данные находятся в столбцах с половым признаком и городом клиента (gender и city). Так же необходимо выделить категории по возрасту, что бы в дальнейшем работать с группами."
   ]
  },
  {
   "cell_type": "markdown",
   "metadata": {},
   "source": [
    "Категоризация возраста"
   ]
  },
  {
   "cell_type": "code",
   "execution_count": 11,
   "metadata": {
    "scrolled": false
   },
   "outputs": [
    {
     "data": {
      "image/png": "[encoded data removed]",
      "text/plain": [
       "<Figure size 1080x504 with 1 Axes>"
      ]
     },
     "metadata": {
      "needs_background": "light"
     },
     "output_type": "display_data"
    }
   ],
   "source": [
    "fig, ax = plt.subplots(figsize = (15, 7))\n",
    "w=2\n",
    "    \n",
    "sns.histplot(data=bank_dataset[bank_dataset['churn']==0], x='age', kde=True, \n",
    "             stat='density', common_norm=False, ax=ax, bins=np.arange (min(bank_dataset.age), max(bank_dataset.age) + w, w))\n",
    "sns.histplot(data=bank_dataset[bank_dataset['churn']==1], x='age', label = 'отток', color = '#FFD966', kde=True, \n",
    "             stat='density', common_norm=False, ax=ax, alpha=.5, bins=np.arange (min(bank_dataset.age), max(bank_dataset.age) + w, w))\n",
    "\n",
    "plt.ylabel('Плотность')\n",
    "plt.xlabel('Возраст')\n",
    "plt.legend()\n",
    "plt.title('Возраст клиентов')\n",
    "plt.show();"
   ]
  },
  {
   "cell_type": "markdown",
   "metadata": {},
   "source": [
    "Основная отточная категория клиентов от 40 лет. Создадим категории с такими параметрами."
   ]
  },
  {
   "cell_type": "code",
   "execution_count": 12,
   "metadata": {},
   "outputs": [],
   "source": [
    "def categorize_age(age):\n",
    "    try:\n",
    "        if 18 <= age <= 39:\n",
    "            return '18-39'\n",
    "        elif age >= 40:\n",
    "            return 'after_40'\n",
    "    except:\n",
    "        pass"
   ]
  },
  {
   "cell_type": "code",
   "execution_count": 13,
   "metadata": {},
   "outputs": [],
   "source": [
    "bank_dataset['age_category'] = bank_dataset['age'].apply(categorize_age)"
   ]
  },
  {
   "cell_type": "code",
   "execution_count": 14,
   "metadata": {},
   "outputs": [],
   "source": [
    "bank_dataset['age_category_2'] = bank_dataset['age_category']"
   ]
  },
  {
   "cell_type": "code",
   "execution_count": 15,
   "metadata": {},
   "outputs": [
    {
     "data": {
      "text/html": [
       "<div>\n",
       "<style scoped>\n",
       "    .dataframe tbody tr th:only-of-type {\n",
       "        vertical-align: middle;\n",
       "    }\n",
       "\n",
       "    .dataframe tbody tr th {\n",
       "        vertical-align: top;\n",
       "    }\n",
       "\n",
       "    .dataframe thead th {\n",
       "        text-align: right;\n",
       "    }\n",
       "</style>\n",
       "<table border=\"1\" class=\"dataframe\">\n",
       "  <thead>\n",
       "    <tr style=\"text-align: right;\">\n",
       "      <th></th>\n",
       "      <th>score</th>\n",
       "      <th>city</th>\n",
       "      <th>gender</th>\n",
       "      <th>age</th>\n",
       "      <th>objects</th>\n",
       "      <th>balance</th>\n",
       "      <th>products</th>\n",
       "      <th>credit_card</th>\n",
       "      <th>loyalty</th>\n",
       "      <th>estimated_salary</th>\n",
       "      <th>churn</th>\n",
       "      <th>age_category</th>\n",
       "      <th>18-39</th>\n",
       "      <th>after_40</th>\n",
       "    </tr>\n",
       "  </thead>\n",
       "  <tbody>\n",
       "    <tr>\n",
       "      <th>0</th>\n",
       "      <td>619</td>\n",
       "      <td>Ярославль</td>\n",
       "      <td>Ж</td>\n",
       "      <td>42</td>\n",
       "      <td>2</td>\n",
       "      <td>NaN</td>\n",
       "      <td>1</td>\n",
       "      <td>1</td>\n",
       "      <td>1</td>\n",
       "      <td>101348.88</td>\n",
       "      <td>1</td>\n",
       "      <td>after_40</td>\n",
       "      <td>0</td>\n",
       "      <td>1</td>\n",
       "    </tr>\n",
       "    <tr>\n",
       "      <th>1</th>\n",
       "      <td>608</td>\n",
       "      <td>Рыбинск</td>\n",
       "      <td>Ж</td>\n",
       "      <td>41</td>\n",
       "      <td>1</td>\n",
       "      <td>83807.86</td>\n",
       "      <td>1</td>\n",
       "      <td>0</td>\n",
       "      <td>1</td>\n",
       "      <td>112542.58</td>\n",
       "      <td>0</td>\n",
       "      <td>after_40</td>\n",
       "      <td>0</td>\n",
       "      <td>1</td>\n",
       "    </tr>\n",
       "    <tr>\n",
       "      <th>2</th>\n",
       "      <td>502</td>\n",
       "      <td>Ярославль</td>\n",
       "      <td>Ж</td>\n",
       "      <td>42</td>\n",
       "      <td>8</td>\n",
       "      <td>159660.80</td>\n",
       "      <td>3</td>\n",
       "      <td>1</td>\n",
       "      <td>0</td>\n",
       "      <td>113931.57</td>\n",
       "      <td>1</td>\n",
       "      <td>after_40</td>\n",
       "      <td>0</td>\n",
       "      <td>1</td>\n",
       "    </tr>\n",
       "    <tr>\n",
       "      <th>3</th>\n",
       "      <td>699</td>\n",
       "      <td>Ярославль</td>\n",
       "      <td>Ж</td>\n",
       "      <td>39</td>\n",
       "      <td>1</td>\n",
       "      <td>NaN</td>\n",
       "      <td>2</td>\n",
       "      <td>0</td>\n",
       "      <td>0</td>\n",
       "      <td>93826.63</td>\n",
       "      <td>0</td>\n",
       "      <td>18-39</td>\n",
       "      <td>1</td>\n",
       "      <td>0</td>\n",
       "    </tr>\n",
       "    <tr>\n",
       "      <th>4</th>\n",
       "      <td>850</td>\n",
       "      <td>Рыбинск</td>\n",
       "      <td>Ж</td>\n",
       "      <td>43</td>\n",
       "      <td>2</td>\n",
       "      <td>125510.82</td>\n",
       "      <td>1</td>\n",
       "      <td>1</td>\n",
       "      <td>1</td>\n",
       "      <td>79084.10</td>\n",
       "      <td>0</td>\n",
       "      <td>after_40</td>\n",
       "      <td>0</td>\n",
       "      <td>1</td>\n",
       "    </tr>\n",
       "  </tbody>\n",
       "</table>\n",
       "</div>"
      ],
      "text/plain": [
       "   score       city gender  age  objects    balance  products  credit_card  \\\n",
       "0    619  Ярославль      Ж   42        2        NaN         1            1   \n",
       "1    608    Рыбинск      Ж   41        1   83807.86         1            0   \n",
       "2    502  Ярославль      Ж   42        8  159660.80         3            1   \n",
       "3    699  Ярославль      Ж   39        1        NaN         2            0   \n",
       "4    850    Рыбинск      Ж   43        2  125510.82         1            1   \n",
       "\n",
       "   loyalty  estimated_salary  churn age_category  18-39  after_40  \n",
       "0        1         101348.88      1     after_40      0         1  \n",
       "1        1         112542.58      0     after_40      0         1  \n",
       "2        0         113931.57      1     after_40      0         1  \n",
       "3        0          93826.63      0        18-39      1         0  \n",
       "4        1          79084.10      0     after_40      0         1  "
      ]
     },
     "execution_count": 15,
     "metadata": {},
     "output_type": "execute_result"
    }
   ],
   "source": [
    "bank_dataset = pd.get_dummies(bank_dataset, columns = ['age_category_2'])\n",
    "bank_dataset = bank_dataset.rename (columns = (\n",
    "    {'age_category_2_18-39':'18-39', 'age_category_2_after_40':'after_40'}))\n",
    "\n",
    "bank_dataset.head()"
   ]
  },
  {
   "cell_type": "markdown",
   "metadata": {},
   "source": [
    "Категоризация по полу и городу"
   ]
  },
  {
   "cell_type": "code",
   "execution_count": 16,
   "metadata": {},
   "outputs": [
    {
     "data": {
      "text/html": [
       "<div>\n",
       "<style scoped>\n",
       "    .dataframe tbody tr th:only-of-type {\n",
       "        vertical-align: middle;\n",
       "    }\n",
       "\n",
       "    .dataframe tbody tr th {\n",
       "        vertical-align: top;\n",
       "    }\n",
       "\n",
       "    .dataframe thead th {\n",
       "        text-align: right;\n",
       "    }\n",
       "</style>\n",
       "<table border=\"1\" class=\"dataframe\">\n",
       "  <thead>\n",
       "    <tr style=\"text-align: right;\">\n",
       "      <th></th>\n",
       "      <th>score</th>\n",
       "      <th>city</th>\n",
       "      <th>gender</th>\n",
       "      <th>age</th>\n",
       "      <th>objects</th>\n",
       "      <th>balance</th>\n",
       "      <th>products</th>\n",
       "      <th>credit_card</th>\n",
       "      <th>loyalty</th>\n",
       "      <th>estimated_salary</th>\n",
       "      <th>churn</th>\n",
       "      <th>age_category</th>\n",
       "      <th>18-39</th>\n",
       "      <th>after_40</th>\n",
       "      <th>city_2</th>\n",
       "      <th>gender_2</th>\n",
       "    </tr>\n",
       "  </thead>\n",
       "  <tbody>\n",
       "    <tr>\n",
       "      <th>0</th>\n",
       "      <td>619</td>\n",
       "      <td>Ярославль</td>\n",
       "      <td>Ж</td>\n",
       "      <td>42</td>\n",
       "      <td>2</td>\n",
       "      <td>NaN</td>\n",
       "      <td>1</td>\n",
       "      <td>1</td>\n",
       "      <td>1</td>\n",
       "      <td>101348.88</td>\n",
       "      <td>1</td>\n",
       "      <td>after_40</td>\n",
       "      <td>0</td>\n",
       "      <td>1</td>\n",
       "      <td>Ярославль</td>\n",
       "      <td>Ж</td>\n",
       "    </tr>\n",
       "    <tr>\n",
       "      <th>1</th>\n",
       "      <td>608</td>\n",
       "      <td>Рыбинск</td>\n",
       "      <td>Ж</td>\n",
       "      <td>41</td>\n",
       "      <td>1</td>\n",
       "      <td>83807.86</td>\n",
       "      <td>1</td>\n",
       "      <td>0</td>\n",
       "      <td>1</td>\n",
       "      <td>112542.58</td>\n",
       "      <td>0</td>\n",
       "      <td>after_40</td>\n",
       "      <td>0</td>\n",
       "      <td>1</td>\n",
       "      <td>Рыбинск</td>\n",
       "      <td>Ж</td>\n",
       "    </tr>\n",
       "    <tr>\n",
       "      <th>2</th>\n",
       "      <td>502</td>\n",
       "      <td>Ярославль</td>\n",
       "      <td>Ж</td>\n",
       "      <td>42</td>\n",
       "      <td>8</td>\n",
       "      <td>159660.80</td>\n",
       "      <td>3</td>\n",
       "      <td>1</td>\n",
       "      <td>0</td>\n",
       "      <td>113931.57</td>\n",
       "      <td>1</td>\n",
       "      <td>after_40</td>\n",
       "      <td>0</td>\n",
       "      <td>1</td>\n",
       "      <td>Ярославль</td>\n",
       "      <td>Ж</td>\n",
       "    </tr>\n",
       "    <tr>\n",
       "      <th>3</th>\n",
       "      <td>699</td>\n",
       "      <td>Ярославль</td>\n",
       "      <td>Ж</td>\n",
       "      <td>39</td>\n",
       "      <td>1</td>\n",
       "      <td>NaN</td>\n",
       "      <td>2</td>\n",
       "      <td>0</td>\n",
       "      <td>0</td>\n",
       "      <td>93826.63</td>\n",
       "      <td>0</td>\n",
       "      <td>18-39</td>\n",
       "      <td>1</td>\n",
       "      <td>0</td>\n",
       "      <td>Ярославль</td>\n",
       "      <td>Ж</td>\n",
       "    </tr>\n",
       "    <tr>\n",
       "      <th>4</th>\n",
       "      <td>850</td>\n",
       "      <td>Рыбинск</td>\n",
       "      <td>Ж</td>\n",
       "      <td>43</td>\n",
       "      <td>2</td>\n",
       "      <td>125510.82</td>\n",
       "      <td>1</td>\n",
       "      <td>1</td>\n",
       "      <td>1</td>\n",
       "      <td>79084.10</td>\n",
       "      <td>0</td>\n",
       "      <td>after_40</td>\n",
       "      <td>0</td>\n",
       "      <td>1</td>\n",
       "      <td>Рыбинск</td>\n",
       "      <td>Ж</td>\n",
       "    </tr>\n",
       "  </tbody>\n",
       "</table>\n",
       "</div>"
      ],
      "text/plain": [
       "   score       city gender  age  objects    balance  products  credit_card  \\\n",
       "0    619  Ярославль      Ж   42        2        NaN         1            1   \n",
       "1    608    Рыбинск      Ж   41        1   83807.86         1            0   \n",
       "2    502  Ярославль      Ж   42        8  159660.80         3            1   \n",
       "3    699  Ярославль      Ж   39        1        NaN         2            0   \n",
       "4    850    Рыбинск      Ж   43        2  125510.82         1            1   \n",
       "\n",
       "   loyalty  estimated_salary  churn age_category  18-39  after_40     city_2  \\\n",
       "0        1         101348.88      1     after_40      0         1  Ярославль   \n",
       "1        1         112542.58      0     after_40      0         1    Рыбинск   \n",
       "2        0         113931.57      1     after_40      0         1  Ярославль   \n",
       "3        0          93826.63      0        18-39      1         0  Ярославль   \n",
       "4        1          79084.10      0     after_40      0         1    Рыбинск   \n",
       "\n",
       "  gender_2  \n",
       "0        Ж  \n",
       "1        Ж  \n",
       "2        Ж  \n",
       "3        Ж  \n",
       "4        Ж  "
      ]
     },
     "execution_count": 16,
     "metadata": {},
     "output_type": "execute_result"
    }
   ],
   "source": [
    "bank_dataset['city_2'] = bank_dataset['city']\n",
    "bank_dataset['gender_2'] = bank_dataset['gender']\n",
    "\n",
    "bank_dataset.head()"
   ]
  },
  {
   "cell_type": "code",
   "execution_count": 17,
   "metadata": {},
   "outputs": [
    {
     "data": {
      "text/html": [
       "<div>\n",
       "<style scoped>\n",
       "    .dataframe tbody tr th:only-of-type {\n",
       "        vertical-align: middle;\n",
       "    }\n",
       "\n",
       "    .dataframe tbody tr th {\n",
       "        vertical-align: top;\n",
       "    }\n",
       "\n",
       "    .dataframe thead th {\n",
       "        text-align: right;\n",
       "    }\n",
       "</style>\n",
       "<table border=\"1\" class=\"dataframe\">\n",
       "  <thead>\n",
       "    <tr style=\"text-align: right;\">\n",
       "      <th></th>\n",
       "      <th>score</th>\n",
       "      <th>city</th>\n",
       "      <th>gender</th>\n",
       "      <th>age</th>\n",
       "      <th>objects</th>\n",
       "      <th>balance</th>\n",
       "      <th>products</th>\n",
       "      <th>credit_card</th>\n",
       "      <th>loyalty</th>\n",
       "      <th>estimated_salary</th>\n",
       "      <th>churn</th>\n",
       "      <th>age_category</th>\n",
       "      <th>18-39</th>\n",
       "      <th>after_40</th>\n",
       "      <th>Ростов Великий</th>\n",
       "      <th>Рыбинск</th>\n",
       "      <th>Ярославль</th>\n",
       "      <th>female</th>\n",
       "      <th>male</th>\n",
       "    </tr>\n",
       "  </thead>\n",
       "  <tbody>\n",
       "    <tr>\n",
       "      <th>0</th>\n",
       "      <td>619</td>\n",
       "      <td>Ярославль</td>\n",
       "      <td>Ж</td>\n",
       "      <td>42</td>\n",
       "      <td>2</td>\n",
       "      <td>NaN</td>\n",
       "      <td>1</td>\n",
       "      <td>1</td>\n",
       "      <td>1</td>\n",
       "      <td>101348.88</td>\n",
       "      <td>1</td>\n",
       "      <td>after_40</td>\n",
       "      <td>0</td>\n",
       "      <td>1</td>\n",
       "      <td>0</td>\n",
       "      <td>0</td>\n",
       "      <td>1</td>\n",
       "      <td>1</td>\n",
       "      <td>0</td>\n",
       "    </tr>\n",
       "    <tr>\n",
       "      <th>1</th>\n",
       "      <td>608</td>\n",
       "      <td>Рыбинск</td>\n",
       "      <td>Ж</td>\n",
       "      <td>41</td>\n",
       "      <td>1</td>\n",
       "      <td>83807.86</td>\n",
       "      <td>1</td>\n",
       "      <td>0</td>\n",
       "      <td>1</td>\n",
       "      <td>112542.58</td>\n",
       "      <td>0</td>\n",
       "      <td>after_40</td>\n",
       "      <td>0</td>\n",
       "      <td>1</td>\n",
       "      <td>0</td>\n",
       "      <td>1</td>\n",
       "      <td>0</td>\n",
       "      <td>1</td>\n",
       "      <td>0</td>\n",
       "    </tr>\n",
       "    <tr>\n",
       "      <th>2</th>\n",
       "      <td>502</td>\n",
       "      <td>Ярославль</td>\n",
       "      <td>Ж</td>\n",
       "      <td>42</td>\n",
       "      <td>8</td>\n",
       "      <td>159660.80</td>\n",
       "      <td>3</td>\n",
       "      <td>1</td>\n",
       "      <td>0</td>\n",
       "      <td>113931.57</td>\n",
       "      <td>1</td>\n",
       "      <td>after_40</td>\n",
       "      <td>0</td>\n",
       "      <td>1</td>\n",
       "      <td>0</td>\n",
       "      <td>0</td>\n",
       "      <td>1</td>\n",
       "      <td>1</td>\n",
       "      <td>0</td>\n",
       "    </tr>\n",
       "    <tr>\n",
       "      <th>3</th>\n",
       "      <td>699</td>\n",
       "      <td>Ярославль</td>\n",
       "      <td>Ж</td>\n",
       "      <td>39</td>\n",
       "      <td>1</td>\n",
       "      <td>NaN</td>\n",
       "      <td>2</td>\n",
       "      <td>0</td>\n",
       "      <td>0</td>\n",
       "      <td>93826.63</td>\n",
       "      <td>0</td>\n",
       "      <td>18-39</td>\n",
       "      <td>1</td>\n",
       "      <td>0</td>\n",
       "      <td>0</td>\n",
       "      <td>0</td>\n",
       "      <td>1</td>\n",
       "      <td>1</td>\n",
       "      <td>0</td>\n",
       "    </tr>\n",
       "    <tr>\n",
       "      <th>4</th>\n",
       "      <td>850</td>\n",
       "      <td>Рыбинск</td>\n",
       "      <td>Ж</td>\n",
       "      <td>43</td>\n",
       "      <td>2</td>\n",
       "      <td>125510.82</td>\n",
       "      <td>1</td>\n",
       "      <td>1</td>\n",
       "      <td>1</td>\n",
       "      <td>79084.10</td>\n",
       "      <td>0</td>\n",
       "      <td>after_40</td>\n",
       "      <td>0</td>\n",
       "      <td>1</td>\n",
       "      <td>0</td>\n",
       "      <td>1</td>\n",
       "      <td>0</td>\n",
       "      <td>1</td>\n",
       "      <td>0</td>\n",
       "    </tr>\n",
       "  </tbody>\n",
       "</table>\n",
       "</div>"
      ],
      "text/plain": [
       "   score       city gender  age  objects    balance  products  credit_card  \\\n",
       "0    619  Ярославль      Ж   42        2        NaN         1            1   \n",
       "1    608    Рыбинск      Ж   41        1   83807.86         1            0   \n",
       "2    502  Ярославль      Ж   42        8  159660.80         3            1   \n",
       "3    699  Ярославль      Ж   39        1        NaN         2            0   \n",
       "4    850    Рыбинск      Ж   43        2  125510.82         1            1   \n",
       "\n",
       "   loyalty  estimated_salary  churn age_category  18-39  after_40  \\\n",
       "0        1         101348.88      1     after_40      0         1   \n",
       "1        1         112542.58      0     after_40      0         1   \n",
       "2        0         113931.57      1     after_40      0         1   \n",
       "3        0          93826.63      0        18-39      1         0   \n",
       "4        1          79084.10      0     after_40      0         1   \n",
       "\n",
       "   Ростов Великий  Рыбинск  Ярославль  female  male  \n",
       "0               0        0          1       1     0  \n",
       "1               0        1          0       1     0  \n",
       "2               0        0          1       1     0  \n",
       "3               0        0          1       1     0  \n",
       "4               0        1          0       1     0  "
      ]
     },
     "execution_count": 17,
     "metadata": {},
     "output_type": "execute_result"
    }
   ],
   "source": [
    "bank_dataset = pd.get_dummies(bank_dataset, columns = ['city_2', 'gender_2'])\n",
    "bank_dataset = bank_dataset.rename(columns = (\n",
    "    {'city_2_Ростов Великий':'Ростов Великий', 'city_2_Рыбинск':'Рыбинск','city_2_Ярославль':'Ярославль', \n",
    "     'gender_2_Ж':'female', 'gender_2_М':'male'}))\n",
    "\n",
    "bank_dataset.head()"
   ]
  },
  {
   "cell_type": "markdown",
   "metadata": {},
   "source": [
    "Категоризацию закончили. \n",
    "\n",
    "Приступим к анализу и проверим корреляцию столбцов с контрольным показателем факта ухода клиента."
   ]
  },
  {
   "cell_type": "code",
   "execution_count": 18,
   "metadata": {},
   "outputs": [
    {
     "data": {
      "image/png": "[encoded data removed]",
      "text/plain": [
       "<Figure size 576x576 with 2 Axes>"
      ]
     },
     "metadata": {
      "needs_background": "light"
     },
     "output_type": "display_data"
    }
   ],
   "source": [
    "plt.figure(figsize=(8, 8))\n",
    "\n",
    "sns.heatmap(\n",
    "    bank_dataset.corr()[['churn']].drop('churn').sort_values('churn', key=abs),\n",
    "    vmin=-1,\n",
    "    vmax=1,\n",
    "    annot=True,\n",
    "    cmap='bwr',\n",
    "    fmt='.2f',\n",
    "    linewidths=1,\n",
    "    linecolor='black',\n",
    "    annot_kws={'size':16}\n",
    ")\n",
    "\n",
    "plt.title('Зависимость оттока от остальных переменных')\n",
    "plt.show()"
   ]
  },
  {
   "cell_type": "markdown",
   "metadata": {},
   "source": [
    "Корреляционный анализ показал, что на факт оттока наиболее влияют следующие параметры:\n",
    " - возраст клиента\n",
    " - город\n",
    " - активность клиента\n",
    " - пол\n",
    " \n",
    "Оценка силы связи по шкале Чеддока сортирована от умеренной до слабой."
   ]
  },
  {
   "cell_type": "markdown",
   "metadata": {},
   "source": [
    "Посмотрим на средние значения признаков в двух группах. Кто ушел - 1 и кто остался - 0."
   ]
  },
  {
   "cell_type": "code",
   "execution_count": 19,
   "metadata": {},
   "outputs": [
    {
     "data": {
      "text/html": [
       "<div>\n",
       "<style scoped>\n",
       "    .dataframe tbody tr th:only-of-type {\n",
       "        vertical-align: middle;\n",
       "    }\n",
       "\n",
       "    .dataframe tbody tr th {\n",
       "        vertical-align: top;\n",
       "    }\n",
       "\n",
       "    .dataframe thead th {\n",
       "        text-align: right;\n",
       "    }\n",
       "</style>\n",
       "<table border=\"1\" class=\"dataframe\">\n",
       "  <thead>\n",
       "    <tr style=\"text-align: right;\">\n",
       "      <th>churn</th>\n",
       "      <th>0</th>\n",
       "      <th>1</th>\n",
       "    </tr>\n",
       "  </thead>\n",
       "  <tbody>\n",
       "    <tr>\n",
       "      <th>score</th>\n",
       "      <td>651.85</td>\n",
       "      <td>645.35</td>\n",
       "    </tr>\n",
       "    <tr>\n",
       "      <th>age</th>\n",
       "      <td>37.41</td>\n",
       "      <td>44.84</td>\n",
       "    </tr>\n",
       "    <tr>\n",
       "      <th>objects</th>\n",
       "      <td>5.03</td>\n",
       "      <td>4.93</td>\n",
       "    </tr>\n",
       "    <tr>\n",
       "      <th>balance</th>\n",
       "      <td>119535.86</td>\n",
       "      <td>120746.97</td>\n",
       "    </tr>\n",
       "    <tr>\n",
       "      <th>products</th>\n",
       "      <td>1.54</td>\n",
       "      <td>1.48</td>\n",
       "    </tr>\n",
       "    <tr>\n",
       "      <th>credit_card</th>\n",
       "      <td>0.71</td>\n",
       "      <td>0.70</td>\n",
       "    </tr>\n",
       "    <tr>\n",
       "      <th>loyalty</th>\n",
       "      <td>0.55</td>\n",
       "      <td>0.36</td>\n",
       "    </tr>\n",
       "    <tr>\n",
       "      <th>estimated_salary</th>\n",
       "      <td>99738.39</td>\n",
       "      <td>101465.68</td>\n",
       "    </tr>\n",
       "    <tr>\n",
       "      <th>18-39</th>\n",
       "      <td>0.68</td>\n",
       "      <td>0.29</td>\n",
       "    </tr>\n",
       "    <tr>\n",
       "      <th>after_40</th>\n",
       "      <td>0.32</td>\n",
       "      <td>0.71</td>\n",
       "    </tr>\n",
       "    <tr>\n",
       "      <th>Ростов Великий</th>\n",
       "      <td>0.21</td>\n",
       "      <td>0.40</td>\n",
       "    </tr>\n",
       "    <tr>\n",
       "      <th>Рыбинск</th>\n",
       "      <td>0.26</td>\n",
       "      <td>0.20</td>\n",
       "    </tr>\n",
       "    <tr>\n",
       "      <th>Ярославль</th>\n",
       "      <td>0.53</td>\n",
       "      <td>0.40</td>\n",
       "    </tr>\n",
       "    <tr>\n",
       "      <th>female</th>\n",
       "      <td>0.43</td>\n",
       "      <td>0.56</td>\n",
       "    </tr>\n",
       "    <tr>\n",
       "      <th>male</th>\n",
       "      <td>0.57</td>\n",
       "      <td>0.44</td>\n",
       "    </tr>\n",
       "  </tbody>\n",
       "</table>\n",
       "</div>"
      ],
      "text/plain": [
       "churn                     0          1\n",
       "score                651.85     645.35\n",
       "age                   37.41      44.84\n",
       "objects                5.03       4.93\n",
       "balance           119535.86  120746.97\n",
       "products               1.54       1.48\n",
       "credit_card            0.71       0.70\n",
       "loyalty                0.55       0.36\n",
       "estimated_salary   99738.39  101465.68\n",
       "18-39                  0.68       0.29\n",
       "after_40               0.32       0.71\n",
       "Ростов Великий         0.21       0.40\n",
       "Рыбинск                0.26       0.20\n",
       "Ярославль              0.53       0.40\n",
       "female                 0.43       0.56\n",
       "male                   0.57       0.44"
      ]
     },
     "execution_count": 19,
     "metadata": {},
     "output_type": "execute_result"
    }
   ],
   "source": [
    "round(bank_dataset.groupby('churn').agg('mean').T, 2)"
   ]
  },
  {
   "cell_type": "markdown",
   "metadata": {},
   "source": [
    "- у тех, кто остался, скоринговый балл немного выше\n",
    "- средний возраст ушедших клиентов - 45 лет, у оставшихся - 37 лет\n",
    "- активность оставшихся клиентов выше\n",
    "\n",
    "Наличие кредитной карты, количество объектов в собственности, остаток средств на балансе и ЗП на отток существенного влияния не оказывают (в обеих группах показатели практически одинаковы)\n",
    "\n",
    "Благодаря категоризации и бинаризации мы можем взглянуть на данные немного ближе и увидеть следующие особенности:\n",
    "- основной отток происходит у клиентов в возрасте 40+ лет. Более младшая категория клиентов уходит гораздо реже\n",
    "- отток клиентов из Ростов Великий выше, чем в остальных городах\n",
    "- у женщин отток выше чем у мужчин"
   ]
  },
  {
   "cell_type": "markdown",
   "metadata": {},
   "source": [
    "Расчитаем средний уровень оттока."
   ]
  },
  {
   "cell_type": "code",
   "execution_count": 20,
   "metadata": {},
   "outputs": [],
   "source": [
    "mean_churn = round(len(bank_dataset.query('churn==1'))/len(bank_dataset), 2)"
   ]
  },
  {
   "cell_type": "markdown",
   "metadata": {},
   "source": [
    "Создадим функции для автоматизации получения графиков."
   ]
  },
  {
   "cell_type": "code",
   "execution_count": 21,
   "metadata": {},
   "outputs": [],
   "source": [
    "def numeric_plots(data, col, title, w):\n",
    "    fig, ax = plt.subplots(figsize = (15, 7))\n",
    "    w=w\n",
    "    \n",
    "    sns.histplot(data=data[data['churn']==0][col], stat='density', common_norm=False, \n",
    "                 bins=np.arange (min(data[col]), max(data[col]) + w, w), ax=ax)\n",
    "    sns.histplot(data=data[data['churn']==1][col], label='отток', color='#FFD966', stat='density', common_norm=False, \n",
    "                 bins=np.arange (min(data[col]), max(data[col]) + w, w), ax=ax, alpha=.5)\n",
    "\n",
    "    plt.xlabel('')\n",
    "    plt.ylabel('Плотность пользователей')\n",
    "    plt.legend()\n",
    "    \n",
    "    fig.suptitle(title)\n",
    "    plt.show();"
   ]
  },
  {
   "cell_type": "code",
   "execution_count": 22,
   "metadata": {},
   "outputs": [],
   "source": [
    "def categorical_plots(data, col, title):\n",
    "    fig, ax = plt.subplots(figsize = (15, 7))\n",
    "\n",
    "    sns.barplot(x=col, data=data, y='churn', ci=None, palette='Blues_d', ax=ax)\n",
    "    plt.ylabel('Уровень оттока')\n",
    "    plt.xlabel('')\n",
    "    \n",
    "    plt.axhline(y=mean_churn, linewidth=3, color='r')\n",
    "    fig.suptitle(title)\n",
    "    plt.show()"
   ]
  },
  {
   "cell_type": "code",
   "execution_count": 23,
   "metadata": {},
   "outputs": [],
   "source": [
    "numeric = pd.DataFrame({'col' : ['score', 'age', 'estimated_salary'], \n",
    "                        'title' : ['Баллы кредитного скорринга', 'Возраст', \n",
    "                                   'Заработная плата клиента'], \n",
    "                        'w' : [10, 2, 5000]\n",
    "                       })\n",
    "\n",
    "categorical = pd.DataFrame({'col' : ['city', 'gender', 'objects', 'products', 'credit_card', 'loyalty'],\n",
    "                            'title' : ['Город', 'Пол', 'Количество объектов в собственности', \n",
    "                                       'Количество продуктов банка', 'Наличие кредитной карты', 'Активность']\n",
    "                            })"
   ]
  },
  {
   "cell_type": "code",
   "execution_count": 24,
   "metadata": {
    "scrolled": false
   },
   "outputs": [
    {
     "data": {
      "image/png": "[encoded data removed]",
      "text/plain": [
       "<Figure size 1080x504 with 1 Axes>"
      ]
     },
     "metadata": {
      "needs_background": "light"
     },
     "output_type": "display_data"
    },
    {
     "data": {
      "image/png": "[encoded data removed]",
      "text/plain": [
       "<Figure size 1080x504 with 1 Axes>"
      ]
     },
     "metadata": {
      "needs_background": "light"
     },
     "output_type": "display_data"
    },
    {
     "data": {
      "image/png": "[encoded data removed]",
      "text/plain": [
       "<Figure size 1080x504 with 1 Axes>"
      ]
     },
     "metadata": {
      "needs_background": "light"
     },
     "output_type": "display_data"
    }
   ],
   "source": [
    "for index, row in numeric.iterrows():\n",
    "    numeric_plots(bank_dataset, row[0], row[1], row[2])"
   ]
  },
  {
   "cell_type": "code",
   "execution_count": 25,
   "metadata": {
    "scrolled": false
   },
   "outputs": [
    {
     "data": {
      "image/png": "[encoded data removed]",
      "text/plain": [
       "<Figure size 1080x504 with 1 Axes>"
      ]
     },
     "metadata": {
      "needs_background": "light"
     },
     "output_type": "display_data"
    }
   ],
   "source": [
    "fig, ax = plt.subplots(figsize = (15, 7))\n",
    "\n",
    "sns.histplot(data=bank_dataset[bank_dataset['churn']==0]['balance'], \n",
    "             stat='density', common_norm=False, bins=50, binwidth=5000, ax=ax)\n",
    "sns.histplot(data=bank_dataset[bank_dataset['churn']==1]['balance'], label='отток', color='#FFD966', \n",
    "             stat='density', common_norm=False, bins=50, binwidth=5000, ax=ax, alpha=.5)\n",
    "\n",
    "plt.xlabel('')\n",
    "plt.ylabel('Плотность пользователей')\n",
    "plt.legend()\n",
    "    \n",
    "fig.suptitle('Баланс клиента')\n",
    "plt.show();"
   ]
  },
  {
   "cell_type": "code",
   "execution_count": 26,
   "metadata": {
    "scrolled": false
   },
   "outputs": [
    {
     "data": {
      "image/png": "[encoded data removed]",
      "text/plain": [
       "<Figure size 1080x504 with 1 Axes>"
      ]
     },
     "metadata": {
      "needs_background": "light"
     },
     "output_type": "display_data"
    },
    {
     "data": {
      "image/png": "[encoded data removed]",
      "text/plain": [
       "<Figure size 1080x504 with 1 Axes>"
      ]
     },
     "metadata": {
      "needs_background": "light"
     },
     "output_type": "display_data"
    },
    {
     "data": {
      "image/png": "[encoded data removed]",
      "text/plain": [
       "<Figure size 1080x504 with 1 Axes>"
      ]
     },
     "metadata": {
      "needs_background": "light"
     },
     "output_type": "display_data"
    },
    {
     "data": {
      "image/png": "[encoded data removed]",
      "text/plain": [
       "<Figure size 1080x504 with 1 Axes>"
      ]
     },
     "metadata": {
      "needs_background": "light"
     },
     "output_type": "display_data"
    },
    {
     "data": {
      "image/png": "[encoded data removed]",
      "text/plain": [
       "<Figure size 1080x504 with 1 Axes>"
      ]
     },
     "metadata": {
      "needs_background": "light"
     },
     "output_type": "display_data"
    },
    {
     "data": {
      "image/png": "[encoded data removed]",
      "text/plain": [
       "<Figure size 1080x504 with 1 Axes>"
      ]
     },
     "metadata": {
      "needs_background": "light"
     },
     "output_type": "display_data"
    }
   ],
   "source": [
    "for index, row in categorical.iterrows():\n",
    "    categorical_plots(bank_dataset, row[0], row[1])"
   ]
  },
  {
   "cell_type": "markdown",
   "metadata": {},
   "source": [
    "Выводы из графического анализа в разрезе ушедших клиентов:\n",
    "\n",
    "- **кредитный скорринг** действующих клиентов более смещён в сторону увеличения, сосредоточен у показателя ~765 очков и имеет \"ступеньку\" на ~840 очках. Среди ушедших клиентов заметна более пологая кривая в сторону увеличения показателя.\n",
    "- в **городе** Ростов Великий уровень ушедших сильно выше среднего. \n",
    "- мы помним, что распределение клиентов по **половому** признаку было в пользу мужчин, но среди ушедших клиентов оказалось больше женщин.\n",
    "- анализ по **возрасту** показывает, что более молодые клиенты чаще остаются в банке, тогда как возрастные чаще прекращают обслуживаться по тем или иным причинам.\n",
    "- **баланс** ушедших клиентов более \"сгруппирован\" в районе отметки в 120 тыс.\n",
    "- распределение по **продуктам** банка выглядит так, что средний уровень оттока ниже только для клиентов с 2 продуктами.\n",
    "- зависимости межу уходом из банка и фактом использования **кредитной карты** среди клиентов нет. Пропорции одинаковые.\n",
    "- **не активные** клиенты чаще уходили из банка. Среди действующих клиентов достаточно не активных, хорошо бы успеть перевести их в статус активных."
   ]
  },
  {
   "cell_type": "markdown",
   "metadata": {},
   "source": [
    "## Проверка гипотез"
   ]
  },
  {
   "cell_type": "markdown",
   "metadata": {},
   "source": [
    "Далее мы напишем функцию для проведения проверки гипотез. При условии что у нас есть достаточно большое количество наблюдений мы можем применять ttest даже в выборках с распределением, отличным от нормального.\n",
    "\n",
    "Проверять будем гипотезы о равенстве:\n",
    "1. уровня дохода\n",
    "2. возрасте клиента\n",
    "3. количестве используемых продуктов банка\n",
    "4. активности"
   ]
  },
  {
   "cell_type": "code",
   "execution_count": 27,
   "metadata": {},
   "outputs": [],
   "source": [
    "ALPHA = .05\n",
    "\n",
    "def hypo(col):\n",
    "    p1 = bank_dataset[bank_dataset['churn'] == True][col]\n",
    "    p2 = bank_dataset[bank_dataset['churn'] == False][col]\n",
    "    \n",
    "    results = st.ttest_ind(p1, p2)\n",
    "    print('p-value = {:.5f}'.format(results.pvalue))\n",
    "    \n",
    "    if results.pvalue < ALPHA:\n",
    "        print(\"Отвергаем нулевую гипотезу\")\n",
    "    else:\n",
    "        print(\"Не получилось отвергнуть нулевую гипотезу\")"
   ]
  },
  {
   "cell_type": "markdown",
   "metadata": {},
   "source": [
    "Приступим к проверке гипотез. Первым делом проверим уровни дохода:\n",
    "- **Нулевая гипотеза:** уровень дохода ушедших клиентов равен среднему уровню дохода оставшихся клиентов.\n",
    "- **Альтернативная гипотеза:** уровень дохода ушедших клиентов отличается от среднего уровня дохода оставшихся клиентов."
   ]
  },
  {
   "cell_type": "code",
   "execution_count": 28,
   "metadata": {},
   "outputs": [
    {
     "name": "stdout",
     "output_type": "stream",
     "text": [
      "p-value = 0.22644\n",
      "Не получилось отвергнуть нулевую гипотезу\n"
     ]
    }
   ],
   "source": [
    "hypo('estimated_salary')"
   ]
  },
  {
   "cell_type": "markdown",
   "metadata": {},
   "source": [
    "Статистический тест показал, что различий в уровне дохода среди ушедших и оставшихся клиентов нет. Следовательно, этот показатель не стоит учитывать при разборе причин оттока."
   ]
  },
  {
   "cell_type": "markdown",
   "metadata": {},
   "source": [
    "Проверим возраст отточных и действующих клиентов:\n",
    "- **Нулевая гипотеза:** возраст ушедших клиентов равен среднему возрасту оставшихся клиентов.\n",
    "- **Альтернативная гипотеза:** возраст ушедших клиентов отличается от среднего возраста оставшихся клиентов."
   ]
  },
  {
   "cell_type": "code",
   "execution_count": 29,
   "metadata": {},
   "outputs": [
    {
     "name": "stdout",
     "output_type": "stream",
     "text": [
      "p-value = 0.00000\n",
      "Отвергаем нулевую гипотезу\n"
     ]
    }
   ],
   "source": [
    "hypo('age')"
   ]
  },
  {
   "cell_type": "markdown",
   "metadata": {},
   "source": [
    "Возраст групп не равен, то есть можно говорить о существенном отличии возраста. Из графиков ранее было видно, что смещение в сторону молодых клиентов."
   ]
  },
  {
   "cell_type": "markdown",
   "metadata": {},
   "source": [
    "Исследуем стили потребления, сравнив количество используемых продуктов банка:\n",
    "- **Нулевая гипотеза:** показатель используемых продуктов банка ушедших клиентов равен показателю используемых продуктов оставшихся клиентов.\n",
    "- **Альтернативная гипотеза:** показатель используемых продуктов банка ушедших клиентов отличается от показателя используемых продуктов оставшихся клиентов."
   ]
  },
  {
   "cell_type": "code",
   "execution_count": 30,
   "metadata": {},
   "outputs": [
    {
     "name": "stdout",
     "output_type": "stream",
     "text": [
      "p-value = 0.00000\n",
      "Отвергаем нулевую гипотезу\n"
     ]
    }
   ],
   "source": [
    "hypo('products')"
   ]
  },
  {
   "cell_type": "markdown",
   "metadata": {},
   "source": [
    "Количество используемых продуктов исследуемыми группами не равно. То есть, стиль потребления продуктов банка у отточных и действующих отличается. Повторимся, что банку следует пересмотреть матрицу продуктов, отсеять убыточные и генерирующие отток и сконцентрироваться на продвижении двух-трёх основных продуктов."
   ]
  },
  {
   "cell_type": "markdown",
   "metadata": {},
   "source": [
    "Исходя из графического анализа, уровень активности также будет отличаться:\n",
    "- **Нулевая гипотеза:** уровень активности ушедших клиентов равен уровню активности оставшихся клиентов.\n",
    "- **Альтернативная гипотеза:** уровень активности ушедших клиентов отличается от уровня активности оставшихся клиентов."
   ]
  },
  {
   "cell_type": "code",
   "execution_count": 31,
   "metadata": {},
   "outputs": [
    {
     "name": "stdout",
     "output_type": "stream",
     "text": [
      "p-value = 0.00000\n",
      "Отвергаем нулевую гипотезу\n"
     ]
    }
   ],
   "source": [
    "hypo('loyalty')"
   ]
  },
  {
   "cell_type": "markdown",
   "metadata": {},
   "source": [
    "Активность отличается. Как говорили ранее, одна из задач банка – повышать уровень активности клиентов, такие клиенты реже разрывают отношения с банком."
   ]
  },
  {
   "cell_type": "markdown",
   "metadata": {},
   "source": [
    "## Выделение и приоритезация сегментов пользователей"
   ]
  },
  {
   "cell_type": "markdown",
   "metadata": {},
   "source": [
    "### Выделение сегментов\n",
    "\n",
    "По итогам проведенного анализа и проверки гипотез выделим несколько высокоотточных сегментов пользователей.\n",
    "\n",
    "В качестве критериев для выделения выберем следующие параметры:\n",
    "\n",
    "1. пол\n",
    "2. возраст\n",
    "3. количество используемых продуктов\n",
    "4. активность\n",
    "5. город"
   ]
  },
  {
   "cell_type": "markdown",
   "metadata": {},
   "source": [
    "Определим размер отточных клиентов."
   ]
  },
  {
   "cell_type": "code",
   "execution_count": 32,
   "metadata": {},
   "outputs": [],
   "source": [
    "churn = len(bank_dataset[bank_dataset['churn'] == 1])"
   ]
  },
  {
   "cell_type": "markdown",
   "metadata": {},
   "source": [
    "**Сегмент 1:**\n",
    "\n",
    "- пол - женский\n",
    "- возраст - 40+\n",
    "- активность - не активный"
   ]
  },
  {
   "cell_type": "code",
   "execution_count": 33,
   "metadata": {},
   "outputs": [
    {
     "name": "stdout",
     "output_type": "stream",
     "text": [
      "Размер сегмента: 938\n",
      "Количество оттока сегмента: 511\n",
      "Процент оттока сегмента: 54.48 %\n",
      "Процент оттока: 25.09 %\n"
     ]
    }
   ],
   "source": [
    "segment1 = bank_dataset.query('gender == \"Ж\" and after_40 == 1 and loyalty == 0')\n",
    "segment1_churn = bank_dataset.query('gender == \"Ж\" and after_40 == 1 and loyalty == 0 and churn == 1')\n",
    "\n",
    "\n",
    "print('Размер сегмента:', len(segment1))\n",
    "print('Количество оттока сегмента:', len(segment1_churn))\n",
    "print('Процент оттока сегмента:', round(len(segment1_churn)/len(segment1)*100,2), '%')\n",
    "print('Процент оттока:', round(len(segment1_churn)/churn*100,2), '%')"
   ]
  },
  {
   "cell_type": "markdown",
   "metadata": {},
   "source": [
    "**Сегмент 2:**\n",
    "\n",
    "- пол - мужской\n",
    "- возраст - 40+\n",
    "- количество используемых продуктов - 1"
   ]
  },
  {
   "cell_type": "code",
   "execution_count": 34,
   "metadata": {},
   "outputs": [
    {
     "name": "stdout",
     "output_type": "stream",
     "text": [
      "Размер сегмента: 1177\n",
      "Количество оттока сегмента: 470\n",
      "Процент оттока сегмента: 39.93 %\n",
      "Процент оттока: 23.07 %\n"
     ]
    }
   ],
   "source": [
    "segment2_churn = bank_dataset.query('gender == \"М\" and after_40 == 1 and products == 1 and churn == 1')\n",
    "segment2 = bank_dataset.query('gender == \"М\" and after_40 == 1 and products == 1')\n",
    "\n",
    "print('Размер сегмента:', len(segment2))\n",
    "print('Количество оттока сегмента:', len(segment2_churn))\n",
    "print('Процент оттока сегмента:', round(len(segment2_churn)/len(segment2)*100,2), '%')\n",
    "print('Процент оттока:', round(len(segment2_churn)/churn*100,2), '%')"
   ]
  },
  {
   "cell_type": "markdown",
   "metadata": {},
   "source": [
    "**Сегмент 3:**\n",
    "\n",
    "- город - Ростов Великий\n",
    "- возраст - 40+\n",
    "- количество используемых продуктов - 1"
   ]
  },
  {
   "cell_type": "code",
   "execution_count": 35,
   "metadata": {},
   "outputs": [
    {
     "name": "stdout",
     "output_type": "stream",
     "text": [
      "Размер сегмента: 660\n",
      "Количество оттока сегмента: 411\n",
      "Процент оттока сегмента: 62.27 %\n",
      "Процент оттока: 20.18 %\n"
     ]
    }
   ],
   "source": [
    "segment3_churn = bank_dataset.query('city == \"Ростов Великий\" and after_40 == 1 and products == 1 and churn == 1')\n",
    "segment3 = bank_dataset.query('city == \"Ростов Великий\" and after_40 == 1 and products == 1')\n",
    "\n",
    "print('Размер сегмента:', len(segment3))\n",
    "print('Количество оттока сегмента:', len(segment3_churn))\n",
    "print('Процент оттока сегмента:', round(len(segment3_churn)/len(segment3)*100,2), '%')\n",
    "print('Процент оттока:', round(len(segment3_churn)/churn*100,2), '%')"
   ]
  },
  {
   "cell_type": "markdown",
   "metadata": {},
   "source": [
    "**Сегмент 4:**\n",
    "\n",
    "- город - Ярославль\n",
    "- возраст - 40+\n",
    "- количество используемых продуктов - 1"
   ]
  },
  {
   "cell_type": "code",
   "execution_count": 36,
   "metadata": {},
   "outputs": [
    {
     "name": "stdout",
     "output_type": "stream",
     "text": [
      "Размер сегмента: 1036\n",
      "Количество оттока сегмента: 416\n",
      "Процент оттока сегмента: 40.15 %\n",
      "Процент оттока: 20.42 %\n"
     ]
    }
   ],
   "source": [
    "segment4_churn = bank_dataset.query('city == \"Ярославль\" and after_40 == 1 and products == 1 and churn == 1')\n",
    "segment4 = bank_dataset.query('city == \"Ярославль\" and after_40 == 1 and products == 1')\n",
    "\n",
    "print('Размер сегмента:', len(segment4))\n",
    "print('Количество оттока сегмента:', len(segment4_churn))\n",
    "print('Процент оттока сегмента:', round(len(segment4_churn)/len(segment4)*100,2), '%')\n",
    "print('Процент оттока:', round(len(segment4_churn)/churn*100,2), '%')"
   ]
  },
  {
   "cell_type": "markdown",
   "metadata": {},
   "source": [
    "### Приоритезация сегментов"
   ]
  },
  {
   "cell_type": "markdown",
   "metadata": {},
   "source": [
    "Расположим приоритет сегментов по убыванию количества отточных клиентов:"
   ]
  },
  {
   "cell_type": "markdown",
   "metadata": {},
   "source": [
    "1. **Сегмент 1:**\n",
    "\n",
    "- пол - женский\n",
    "- возраст - 40+\n",
    "- количество используемых продуктов - 1\n",
    "\n",
    "Показатели отточности:\n",
    "- Размер сегмента: 938\n",
    "- Количество оттока сегмента: 511\n",
    "- Процент оттока сегмента: 54.48 %\n",
    "- Процент оттока: 25.09 %"
   ]
  },
  {
   "cell_type": "markdown",
   "metadata": {},
   "source": [
    "2. **Сегмент 2:**\n",
    "\n",
    "- пол - мужской\n",
    "- возраст - 40+\n",
    "- количество используемых продуктов - 1\n",
    "\n",
    "Показатели отточности:\n",
    "- Размер сегмента: 1177\n",
    "- Количество оттока сегмента: 470\n",
    "- Процент оттока сегмента: 39.93 %\n",
    "- Процент оттока: 23.07 %"
   ]
  },
  {
   "cell_type": "markdown",
   "metadata": {},
   "source": [
    "3. **Сегмент 3:**\n",
    "\n",
    "- город - Ростов Великий\n",
    "- возраст - 40+\n",
    "- количество используемых продуктов - 1\n",
    "\n",
    "Показатели отточности:\n",
    "- Размер сегмента: 660\n",
    "- Количество оттока сегмента: 411\n",
    "- Процент оттока сегмента: 62.27 %\n",
    "- Процент оттока: 20.18 %"
   ]
  },
  {
   "cell_type": "markdown",
   "metadata": {},
   "source": [
    "4. **Сегмент 4:**\n",
    "\n",
    "- город - Ярославль\n",
    "- возраст - 40+\n",
    "- количество используемых продуктов - 1\n",
    "\n",
    "Показатели отточности:\n",
    "- Размер сегмента: 1036\n",
    "- Количество оттока сегмента: 416\n",
    "- Процент оттока сегмента: 40.15 %\n",
    "- Процент оттока: 20.42 %"
   ]
  },
  {
   "cell_type": "markdown",
   "metadata": {},
   "source": [
    "Если рассматривать приоритизацию из расчета доли отточных клиентов, то порядок будет немного другой:\n",
    "1. **Сегмент 1**\n",
    "2. **Сегмент 2**\n",
    "3. **Сегмент 4**\n",
    "4. **Сегмент 3**"
   ]
  },
  {
   "cell_type": "markdown",
   "metadata": {},
   "source": [
    "## Выводы и рекомендации"
   ]
  },
  {
   "cell_type": "markdown",
   "metadata": {},
   "source": [
    "**В ходе исследования мы:**\n",
    "1. импортировали библиотеки, ознакомились с данным;\n",
    "2. предобработав данные, нашли пропуски в графе баланса клиентов, которые не стали заполнять, но на выводы это не повлияло. Дубликатов в датасете не найдено;\n",
    "3. на этапе исследовательского анализа данных были получены интересные выводы и вот некоторые из них:\n",
    "   - данные имеют нормальное распределение;\n",
    "   - в Ростове Великом доля оттока выше, чем в других городах. Эта проблема требует дополнительного исследования и, скорее всего, увеличения представительства банка в городе;\n",
    "   - женщины чаще разрывают отношения с банком. Одним из мероприятий, уменьшающих отток женской аудитории, может быть увеличение количества женских образов в рекламной камипании банка;\n",
    "   - **возраст** – это фактор, наиболее сильно влияющий на отток клиентов. Проверка гипотезы показала, что средний возраст бывших клиентов отличается от текущих в сторону увеличения. Другими словами, банк теряет возрастную аудиторию. Этот вопрос так же требует дополнительных исследований. Одним из мероприятий может быть льготное обслуживание или простая программа лояльности;\n",
    "   - анализ количества используемых клиентом продуктов банка позволяет сделать вывод, что наиболее выгодный формат – 1-2 продукта. Если клиенты используют 3-4 продукта, они, скорее всего, остануться недовольны и уйдут. Банку следует проанализировать матрицу продукта, отбросить неэффективные и сконцентрироваться на продвижении основных простых популярных у аудитории продуктов;\n",
    "   - корреляционный анализ показал, что **активность** – второй по значимости фактор, влияющий на отток. Из статистической проверки гипотез следует, что средний показатель лояльности отличается у действующих и бывших клиентов. Тут банку так же следует провести дополнительные исследования, определить наиболее выгодные пути повышения лояльности аудитории и завоёвывать доверие клиента, т.к. лояльные клиенты прекращали обслуживание реже.\n",
    "4. проверка гипотез t-критериями показала, что уровень дохода бывших и действующих клиентов не отличается, тогда как возраст, стиль потребления продуктов банка и активность клиентов имеют значимые отличия. Следовательно, чтобы уменьшить отток клиентов, банку необходимо глубже анализировать именно эти показатели и эффективно реагировать проводимыми кампаниями на показатель удовлетворённости и оттока клиентов."
   ]
  },
  {
   "cell_type": "markdown",
   "metadata": {},
   "source": [
    "**Рекомендации для отдела маркетинга:**\n",
    "\n",
    "**Сегмент 1:**\n",
    "- пол - женский\n",
    "- возраст - 40+\n",
    "- количество используемых продуктов - 1\n",
    "\n",
    "Рекомендации:\n",
    "- больше использовать женские образы в рекламных кампаниях\n",
    "- предложить повышенный кешбек на косметику, товары для дома и услуги салонов красоты\n",
    "- льготное обслуживание или простая программа лояльности\n",
    "- прислать рассылку с популярными услугами или форму для заполнения на предодобренную кредитную карту с небольшим лимитом\n",
    "\n",
    "\n",
    "**Сегмент 2:**\n",
    "- пол - мужской\n",
    "- возраст - 40+\n",
    "- количество используемых продуктов - 1\n",
    "\n",
    "Рекомендации:\n",
    "- предложить повышенный кешбек на товары для спорта, активного отдыха и рыбалки\n",
    "- предложить специальные условия по страхованию объектов собственности\n",
    "- льготное обслуживание или простая программа лояльности\n",
    "- прислать рассылку с популярными услугами или форму для заполнения на предодобренную кредитную карту с небольшим лимитом\n",
    "\n",
    "\n",
    "**Сегмент 3:**\n",
    "- город - Ростов Великий\n",
    "- возраст - 40+\n",
    "- количество используемых продуктов - 1\n",
    "\n",
    "Рекомендации:\n",
    "- увеличить количество банкоматов и отделений банков\n",
    "- льготное обслуживание или простая программа лояльности\n",
    "- прислать рассылку с популярными услугами или форму для заполнения на предодобренную кредитную карту с небольшим лимитом\n",
    "\n",
    "\n",
    "**Сегмент 4:**\n",
    "- город - Ярославль\n",
    "- возраст - 40+\n",
    "- количество используемых продуктов - 1\n",
    "\n",
    "Рекомендации:\n",
    "- система скидок в местных сетевых магазинах\n",
    "- льготное обслуживание или простая программа лояльности\n",
    "- прислать рассылку с популярными услугами или форму для заполнения на предодобренную кредитную карту с небольшим лимитом"
   ]
  }
 ],
 "metadata": {
  "ExecuteTimeLog": [
   {
    "duration": 1303,
    "start_time": "2023-03-24T10:22:53.955Z"
   },
   {
    "duration": 236,
    "start_time": "2023-03-24T10:22:56.297Z"
   },
   {
    "duration": 28,
    "start_time": "2023-03-24T10:23:01.308Z"
   },
   {
    "duration": 1068,
    "start_time": "2023-03-24T10:23:52.541Z"
   },
   {
    "duration": 24,
    "start_time": "2023-03-24T10:23:53.610Z"
   },
   {
    "duration": 90,
    "start_time": "2023-03-24T10:29:06.192Z"
   },
   {
    "duration": 1259,
    "start_time": "2023-03-24T10:29:14.902Z"
   },
   {
    "duration": 23,
    "start_time": "2023-03-24T10:29:16.163Z"
   },
   {
    "duration": 14,
    "start_time": "2023-03-24T10:38:09.313Z"
   },
   {
    "duration": 19,
    "start_time": "2023-03-24T10:38:25.589Z"
   },
   {
    "duration": 69,
    "start_time": "2023-03-24T10:38:25.870Z"
   },
   {
    "duration": 15,
    "start_time": "2023-03-24T10:38:29.354Z"
   },
   {
    "duration": 14,
    "start_time": "2023-03-24T10:39:07.463Z"
   },
   {
    "duration": 12,
    "start_time": "2023-03-24T10:39:14.243Z"
   },
   {
    "duration": 5,
    "start_time": "2023-03-24T10:45:56.363Z"
   },
   {
    "duration": 6,
    "start_time": "2023-03-24T10:46:15.947Z"
   },
   {
    "duration": 6,
    "start_time": "2023-03-24T10:46:22.109Z"
   },
   {
    "duration": 5,
    "start_time": "2023-03-24T10:46:28.368Z"
   },
   {
    "duration": 4,
    "start_time": "2023-03-24T10:46:35.754Z"
   },
   {
    "duration": 5,
    "start_time": "2023-03-24T10:46:42.856Z"
   },
   {
    "duration": 4,
    "start_time": "2023-03-24T10:46:49.298Z"
   },
   {
    "duration": 6,
    "start_time": "2023-03-24T10:46:54.109Z"
   },
   {
    "duration": 11,
    "start_time": "2023-03-24T10:47:45.164Z"
   },
   {
    "duration": 40,
    "start_time": "2023-03-24T10:49:09.944Z"
   },
   {
    "duration": 40,
    "start_time": "2023-03-24T10:53:39.086Z"
   },
   {
    "duration": 6,
    "start_time": "2023-03-24T10:54:17.010Z"
   },
   {
    "duration": 9,
    "start_time": "2023-03-24T10:54:59.420Z"
   },
   {
    "duration": 8,
    "start_time": "2023-03-24T10:56:13.398Z"
   },
   {
    "duration": 6,
    "start_time": "2023-03-24T11:02:16.238Z"
   },
   {
    "duration": 14,
    "start_time": "2023-03-24T11:03:11.988Z"
   },
   {
    "duration": 8,
    "start_time": "2023-03-24T11:56:56.261Z"
   },
   {
    "duration": 2214,
    "start_time": "2023-03-24T12:51:19.710Z"
   },
   {
    "duration": 0,
    "start_time": "2023-03-24T12:51:21.926Z"
   },
   {
    "duration": 1867,
    "start_time": "2023-03-24T12:52:33.291Z"
   },
   {
    "duration": 15,
    "start_time": "2023-03-24T12:52:36.455Z"
   },
   {
    "duration": 13,
    "start_time": "2023-03-24T12:52:41.560Z"
   },
   {
    "duration": 1349,
    "start_time": "2023-03-24T12:53:55.171Z"
   },
   {
    "duration": 14,
    "start_time": "2023-03-24T12:53:56.984Z"
   },
   {
    "duration": 1725,
    "start_time": "2023-03-24T12:54:31.854Z"
   },
   {
    "duration": 256,
    "start_time": "2023-03-24T12:55:00.269Z"
   },
   {
    "duration": 11,
    "start_time": "2023-03-24T12:55:05.985Z"
   },
   {
    "duration": 137,
    "start_time": "2023-03-24T12:55:35.063Z"
   },
   {
    "duration": 12,
    "start_time": "2023-03-24T12:55:38.217Z"
   },
   {
    "duration": 15,
    "start_time": "2023-03-24T12:55:49.070Z"
   },
   {
    "duration": 50,
    "start_time": "2023-03-24T12:55:50.084Z"
   },
   {
    "duration": 66,
    "start_time": "2023-03-24T12:55:51.672Z"
   },
   {
    "duration": 125,
    "start_time": "2023-03-24T12:56:07.896Z"
   },
   {
    "duration": 6,
    "start_time": "2023-03-24T12:56:09.616Z"
   },
   {
    "duration": 1121,
    "start_time": "2023-03-24T12:57:31.797Z"
   },
   {
    "duration": 16,
    "start_time": "2023-03-24T12:57:33.465Z"
   },
   {
    "duration": 13,
    "start_time": "2023-03-24T12:57:34.456Z"
   },
   {
    "duration": 39,
    "start_time": "2023-03-24T12:57:36.382Z"
   },
   {
    "duration": 7,
    "start_time": "2023-03-24T12:57:37.680Z"
   },
   {
    "duration": 6,
    "start_time": "2023-03-24T12:57:38.996Z"
   },
   {
    "duration": 15,
    "start_time": "2023-03-24T12:57:39.559Z"
   },
   {
    "duration": 190,
    "start_time": "2023-03-24T12:59:17.602Z"
   },
   {
    "duration": 56,
    "start_time": "2023-03-24T12:59:56.757Z"
   },
   {
    "duration": 40,
    "start_time": "2023-03-24T13:00:10.434Z"
   },
   {
    "duration": 237,
    "start_time": "2023-03-24T13:02:42.954Z"
   },
   {
    "duration": 62,
    "start_time": "2023-03-24T13:05:27.817Z"
   },
   {
    "duration": 62,
    "start_time": "2023-03-24T13:06:00.408Z"
   },
   {
    "duration": 233,
    "start_time": "2023-03-24T13:06:02.054Z"
   },
   {
    "duration": 12,
    "start_time": "2023-03-24T13:06:58.685Z"
   },
   {
    "duration": 12,
    "start_time": "2023-03-24T13:07:50.332Z"
   },
   {
    "duration": 10,
    "start_time": "2023-03-24T13:09:09.163Z"
   },
   {
    "duration": 7,
    "start_time": "2023-03-24T13:09:33.862Z"
   },
   {
    "duration": 26,
    "start_time": "2023-03-24T13:09:44.153Z"
   },
   {
    "duration": 39,
    "start_time": "2023-03-24T13:12:24.516Z"
   },
   {
    "duration": 125,
    "start_time": "2023-03-24T13:17:55.803Z"
   },
   {
    "duration": 137,
    "start_time": "2023-03-24T13:18:18.664Z"
   },
   {
    "duration": 72,
    "start_time": "2023-03-24T13:18:48.498Z"
   },
   {
    "duration": 2583,
    "start_time": "2023-03-24T13:18:52.490Z"
   },
   {
    "duration": 2618,
    "start_time": "2023-03-24T13:20:33.814Z"
   },
   {
    "duration": 2637,
    "start_time": "2023-03-24T13:20:43.610Z"
   },
   {
    "duration": 469,
    "start_time": "2023-03-24T13:39:29.387Z"
   },
   {
    "duration": 6,
    "start_time": "2023-03-24T13:55:12.257Z"
   },
   {
    "duration": 5,
    "start_time": "2023-03-24T13:55:50.457Z"
   },
   {
    "duration": 9,
    "start_time": "2023-03-24T13:56:28.139Z"
   },
   {
    "duration": 10,
    "start_time": "2023-03-24T13:57:07.834Z"
   },
   {
    "duration": 9,
    "start_time": "2023-03-24T13:58:30.083Z"
   },
   {
    "duration": 8,
    "start_time": "2023-03-24T14:00:14.532Z"
   },
   {
    "duration": 47,
    "start_time": "2023-03-27T06:55:01.021Z"
   },
   {
    "duration": 1407,
    "start_time": "2023-03-27T06:55:10.086Z"
   },
   {
    "duration": 186,
    "start_time": "2023-03-27T06:55:11.495Z"
   },
   {
    "duration": 230,
    "start_time": "2023-03-27T06:55:11.682Z"
   },
   {
    "duration": 10,
    "start_time": "2023-03-27T06:55:11.914Z"
   },
   {
    "duration": 8,
    "start_time": "2023-03-27T06:55:11.926Z"
   },
   {
    "duration": 61,
    "start_time": "2023-03-27T06:55:11.936Z"
   },
   {
    "duration": 90,
    "start_time": "2023-03-27T06:55:11.999Z"
   },
   {
    "duration": 3408,
    "start_time": "2023-03-27T06:55:12.090Z"
   },
   {
    "duration": 416,
    "start_time": "2023-03-27T06:55:15.500Z"
   },
   {
    "duration": 4,
    "start_time": "2023-03-27T06:55:15.918Z"
   },
   {
    "duration": 14,
    "start_time": "2023-03-27T06:55:15.924Z"
   },
   {
    "duration": 10,
    "start_time": "2023-03-27T06:55:15.940Z"
   },
   {
    "duration": 23,
    "start_time": "2023-03-27T06:55:15.951Z"
   },
   {
    "duration": 7,
    "start_time": "2023-03-27T06:55:15.976Z"
   },
   {
    "duration": 5,
    "start_time": "2023-03-27T07:16:31.869Z"
   },
   {
    "duration": 15,
    "start_time": "2023-03-27T07:33:05.556Z"
   },
   {
    "duration": 11,
    "start_time": "2023-03-27T07:33:22.837Z"
   },
   {
    "duration": 10,
    "start_time": "2023-03-27T07:33:42.901Z"
   },
   {
    "duration": 106,
    "start_time": "2023-03-27T07:35:18.344Z"
   },
   {
    "duration": 9,
    "start_time": "2023-03-27T07:35:30.168Z"
   },
   {
    "duration": 6,
    "start_time": "2023-03-27T07:35:37.322Z"
   },
   {
    "duration": 8,
    "start_time": "2023-03-27T07:35:54.893Z"
   },
   {
    "duration": 55,
    "start_time": "2023-03-27T07:38:29.670Z"
   },
   {
    "duration": 12,
    "start_time": "2023-03-27T07:38:36.635Z"
   },
   {
    "duration": 6,
    "start_time": "2023-03-27T07:38:37.542Z"
   },
   {
    "duration": 55,
    "start_time": "2023-03-27T07:38:42.616Z"
   },
   {
    "duration": 2,
    "start_time": "2023-03-27T07:40:17.591Z"
   },
   {
    "duration": 36,
    "start_time": "2023-03-27T07:40:18.135Z"
   },
   {
    "duration": 21,
    "start_time": "2023-03-27T07:40:19.032Z"
   },
   {
    "duration": 11,
    "start_time": "2023-03-27T07:40:20.748Z"
   },
   {
    "duration": 6,
    "start_time": "2023-03-27T07:40:22.856Z"
   },
   {
    "duration": 24,
    "start_time": "2023-03-27T07:40:26.028Z"
   },
   {
    "duration": 8,
    "start_time": "2023-03-27T07:42:19.872Z"
   },
   {
    "duration": 9,
    "start_time": "2023-03-27T07:42:20.333Z"
   },
   {
    "duration": 10,
    "start_time": "2023-03-27T07:42:20.759Z"
   },
   {
    "duration": 6,
    "start_time": "2023-03-27T07:42:35.275Z"
   },
   {
    "duration": 6,
    "start_time": "2023-03-27T07:42:35.719Z"
   },
   {
    "duration": 67,
    "start_time": "2023-03-27T07:42:36.103Z"
   },
   {
    "duration": 6,
    "start_time": "2023-03-27T07:42:43.569Z"
   },
   {
    "duration": 1414,
    "start_time": "2023-03-27T08:07:06.601Z"
   },
   {
    "duration": 1186,
    "start_time": "2023-03-27T08:07:16.523Z"
   },
   {
    "duration": 39,
    "start_time": "2023-03-27T08:07:17.711Z"
   },
   {
    "duration": 39,
    "start_time": "2023-03-27T08:07:17.751Z"
   },
   {
    "duration": 8,
    "start_time": "2023-03-27T08:07:17.792Z"
   },
   {
    "duration": 16,
    "start_time": "2023-03-27T08:07:17.802Z"
   },
   {
    "duration": 7,
    "start_time": "2023-03-27T08:07:17.820Z"
   },
   {
    "duration": 9,
    "start_time": "2023-03-27T08:07:17.828Z"
   },
   {
    "duration": 8,
    "start_time": "2023-03-27T08:07:17.839Z"
   },
   {
    "duration": 11,
    "start_time": "2023-03-27T08:07:17.849Z"
   },
   {
    "duration": 26,
    "start_time": "2023-03-27T08:07:17.862Z"
   },
   {
    "duration": 9,
    "start_time": "2023-03-27T08:07:17.893Z"
   },
   {
    "duration": 1512,
    "start_time": "2023-03-27T08:09:00.305Z"
   },
   {
    "duration": 1173,
    "start_time": "2023-03-27T08:09:09.117Z"
   },
   {
    "duration": 38,
    "start_time": "2023-03-27T08:09:10.292Z"
   },
   {
    "duration": 33,
    "start_time": "2023-03-27T08:09:10.332Z"
   },
   {
    "duration": 19,
    "start_time": "2023-03-27T08:09:10.368Z"
   },
   {
    "duration": 253,
    "start_time": "2023-03-27T08:09:10.389Z"
   },
   {
    "duration": 11,
    "start_time": "2023-03-27T08:09:10.644Z"
   },
   {
    "duration": 23,
    "start_time": "2023-03-27T08:09:10.656Z"
   },
   {
    "duration": 22,
    "start_time": "2023-03-27T08:09:10.681Z"
   },
   {
    "duration": 20,
    "start_time": "2023-03-27T08:09:10.705Z"
   },
   {
    "duration": 25,
    "start_time": "2023-03-27T08:09:10.728Z"
   },
   {
    "duration": 8,
    "start_time": "2023-03-27T08:09:10.756Z"
   },
   {
    "duration": 22,
    "start_time": "2023-03-27T08:09:10.766Z"
   },
   {
    "duration": 1191,
    "start_time": "2023-03-27T08:10:22.321Z"
   },
   {
    "duration": 40,
    "start_time": "2023-03-27T08:10:23.514Z"
   },
   {
    "duration": 33,
    "start_time": "2023-03-27T08:10:23.556Z"
   },
   {
    "duration": 237,
    "start_time": "2023-03-27T08:10:23.591Z"
   },
   {
    "duration": 9,
    "start_time": "2023-03-27T08:10:23.829Z"
   },
   {
    "duration": 12,
    "start_time": "2023-03-27T08:10:23.840Z"
   },
   {
    "duration": 36,
    "start_time": "2023-03-27T08:10:23.853Z"
   },
   {
    "duration": 7,
    "start_time": "2023-03-27T08:10:23.890Z"
   },
   {
    "duration": 22,
    "start_time": "2023-03-27T08:10:23.898Z"
   },
   {
    "duration": 12,
    "start_time": "2023-03-27T08:10:23.923Z"
   },
   {
    "duration": 4,
    "start_time": "2023-03-27T08:10:23.938Z"
   },
   {
    "duration": 10,
    "start_time": "2023-03-27T08:10:23.944Z"
   },
   {
    "duration": 1188,
    "start_time": "2023-03-27T08:11:59.726Z"
   },
   {
    "duration": 40,
    "start_time": "2023-03-27T08:12:00.916Z"
   },
   {
    "duration": 31,
    "start_time": "2023-03-27T08:12:00.958Z"
   },
   {
    "duration": 281,
    "start_time": "2023-03-27T08:12:00.991Z"
   },
   {
    "duration": 15,
    "start_time": "2023-03-27T08:12:01.277Z"
   },
   {
    "duration": 32,
    "start_time": "2023-03-27T08:12:01.294Z"
   },
   {
    "duration": 62,
    "start_time": "2023-03-27T08:12:01.328Z"
   },
   {
    "duration": 32,
    "start_time": "2023-03-27T08:12:01.392Z"
   },
   {
    "duration": 33,
    "start_time": "2023-03-27T08:12:01.426Z"
   },
   {
    "duration": 52,
    "start_time": "2023-03-27T08:12:01.461Z"
   },
   {
    "duration": 44,
    "start_time": "2023-03-27T08:12:01.515Z"
   },
   {
    "duration": 64,
    "start_time": "2023-03-27T08:12:01.561Z"
   },
   {
    "duration": 169,
    "start_time": "2023-03-27T08:13:55.455Z"
   },
   {
    "duration": 1441,
    "start_time": "2023-03-27T08:14:03.014Z"
   },
   {
    "duration": 57,
    "start_time": "2023-03-27T08:14:04.457Z"
   },
   {
    "duration": 36,
    "start_time": "2023-03-27T08:14:04.516Z"
   },
   {
    "duration": 271,
    "start_time": "2023-03-27T08:14:04.555Z"
   },
   {
    "duration": 9,
    "start_time": "2023-03-27T08:14:04.829Z"
   },
   {
    "duration": 26,
    "start_time": "2023-03-27T08:14:04.840Z"
   },
   {
    "duration": 13,
    "start_time": "2023-03-27T08:14:04.881Z"
   },
   {
    "duration": 9,
    "start_time": "2023-03-27T08:14:04.896Z"
   },
   {
    "duration": 21,
    "start_time": "2023-03-27T08:14:04.907Z"
   },
   {
    "duration": 7,
    "start_time": "2023-03-27T08:14:04.929Z"
   },
   {
    "duration": 8,
    "start_time": "2023-03-27T08:14:04.938Z"
   },
   {
    "duration": 36,
    "start_time": "2023-03-27T08:14:04.948Z"
   },
   {
    "duration": 53,
    "start_time": "2023-03-27T08:15:16.061Z"
   },
   {
    "duration": 41,
    "start_time": "2023-03-27T08:15:27.001Z"
   },
   {
    "duration": 49,
    "start_time": "2023-03-27T08:15:43.238Z"
   },
   {
    "duration": 40,
    "start_time": "2023-03-27T08:15:55.621Z"
   },
   {
    "duration": 51,
    "start_time": "2023-03-27T08:15:58.345Z"
   },
   {
    "duration": 14,
    "start_time": "2023-03-27T08:42:18.514Z"
   },
   {
    "duration": 19,
    "start_time": "2023-03-27T08:43:04.188Z"
   },
   {
    "duration": 14,
    "start_time": "2023-03-27T08:43:16.559Z"
   },
   {
    "duration": 10,
    "start_time": "2023-03-27T08:43:48.934Z"
   },
   {
    "duration": 18,
    "start_time": "2023-03-27T08:44:22.042Z"
   },
   {
    "duration": 21,
    "start_time": "2023-03-27T08:44:25.396Z"
   },
   {
    "duration": 13,
    "start_time": "2023-03-27T08:45:45.332Z"
   },
   {
    "duration": 14,
    "start_time": "2023-03-27T08:45:57.605Z"
   },
   {
    "duration": 18,
    "start_time": "2023-03-27T08:48:53.402Z"
   },
   {
    "duration": 1054,
    "start_time": "2023-03-27T08:49:26.887Z"
   },
   {
    "duration": 12,
    "start_time": "2023-03-27T08:49:37.191Z"
   },
   {
    "duration": 31,
    "start_time": "2023-03-27T08:49:43.960Z"
   },
   {
    "duration": 1331,
    "start_time": "2023-03-27T08:49:44.577Z"
   },
   {
    "duration": 12,
    "start_time": "2023-03-27T08:50:04.748Z"
   },
   {
    "duration": 16,
    "start_time": "2023-03-27T08:50:05.194Z"
   },
   {
    "duration": 28,
    "start_time": "2023-03-27T08:50:43.977Z"
   },
   {
    "duration": 15,
    "start_time": "2023-03-27T08:50:44.448Z"
   },
   {
    "duration": 11,
    "start_time": "2023-03-27T08:51:03.704Z"
   },
   {
    "duration": 11,
    "start_time": "2023-03-27T08:52:05.645Z"
   },
   {
    "duration": 16,
    "start_time": "2023-03-27T08:52:11.493Z"
   },
   {
    "duration": 13,
    "start_time": "2023-03-27T08:52:37.317Z"
   },
   {
    "duration": 13,
    "start_time": "2023-03-27T08:53:09.121Z"
   },
   {
    "duration": 20,
    "start_time": "2023-03-27T08:53:35.207Z"
   },
   {
    "duration": 26,
    "start_time": "2023-03-27T08:54:35.994Z"
   },
   {
    "duration": 9,
    "start_time": "2023-03-27T09:01:27.662Z"
   },
   {
    "duration": 5,
    "start_time": "2023-03-27T09:01:33.804Z"
   },
   {
    "duration": 12,
    "start_time": "2023-03-27T09:01:45.699Z"
   },
   {
    "duration": 19,
    "start_time": "2023-03-27T09:02:06.897Z"
   },
   {
    "duration": 16,
    "start_time": "2023-03-27T09:02:08.592Z"
   },
   {
    "duration": 16,
    "start_time": "2023-03-27T09:02:17.531Z"
   },
   {
    "duration": 14,
    "start_time": "2023-03-27T09:02:22.403Z"
   },
   {
    "duration": 25,
    "start_time": "2023-03-27T09:03:35.365Z"
   },
   {
    "duration": 15,
    "start_time": "2023-03-27T09:03:39.027Z"
   },
   {
    "duration": 13,
    "start_time": "2023-03-27T09:05:04.659Z"
   },
   {
    "duration": 17,
    "start_time": "2023-03-27T09:05:10.344Z"
   },
   {
    "duration": 16,
    "start_time": "2023-03-27T09:05:16.728Z"
   },
   {
    "duration": 12,
    "start_time": "2023-03-27T09:05:17.296Z"
   },
   {
    "duration": 1416,
    "start_time": "2023-03-27T09:05:37.819Z"
   },
   {
    "duration": 45,
    "start_time": "2023-03-27T09:05:39.237Z"
   },
   {
    "duration": 140,
    "start_time": "2023-03-27T09:05:39.285Z"
   },
   {
    "duration": 307,
    "start_time": "2023-03-27T09:05:39.427Z"
   },
   {
    "duration": 13,
    "start_time": "2023-03-27T09:05:39.737Z"
   },
   {
    "duration": 34,
    "start_time": "2023-03-27T09:05:39.752Z"
   },
   {
    "duration": 17,
    "start_time": "2023-03-27T09:05:39.788Z"
   },
   {
    "duration": 49,
    "start_time": "2023-03-27T09:05:39.808Z"
   },
   {
    "duration": 31,
    "start_time": "2023-03-27T09:05:39.860Z"
   },
   {
    "duration": 17,
    "start_time": "2023-03-27T09:05:39.892Z"
   },
   {
    "duration": 6,
    "start_time": "2023-03-27T09:05:39.911Z"
   },
   {
    "duration": 16,
    "start_time": "2023-03-27T09:05:39.920Z"
   },
   {
    "duration": 16,
    "start_time": "2023-03-27T09:05:51.941Z"
   },
   {
    "duration": 28,
    "start_time": "2023-03-27T09:07:10.365Z"
   },
   {
    "duration": 11,
    "start_time": "2023-03-27T09:07:12.522Z"
   },
   {
    "duration": 11,
    "start_time": "2023-03-27T09:07:21.252Z"
   },
   {
    "duration": 13,
    "start_time": "2023-03-27T09:07:32.400Z"
   },
   {
    "duration": 16,
    "start_time": "2023-03-27T09:08:17.132Z"
   },
   {
    "duration": 15,
    "start_time": "2023-03-27T09:08:22.296Z"
   },
   {
    "duration": 21,
    "start_time": "2023-03-27T09:14:39.106Z"
   },
   {
    "duration": 15,
    "start_time": "2023-03-27T09:16:39.806Z"
   },
   {
    "duration": 389,
    "start_time": "2023-03-27T09:19:48.810Z"
   },
   {
    "duration": 123,
    "start_time": "2023-03-27T09:22:51.902Z"
   },
   {
    "duration": 26,
    "start_time": "2023-03-27T09:22:57.600Z"
   },
   {
    "duration": 493,
    "start_time": "2023-03-27T09:23:03.935Z"
   },
   {
    "duration": 407,
    "start_time": "2023-03-27T09:23:23.851Z"
   },
   {
    "duration": 398,
    "start_time": "2023-03-27T09:23:32.852Z"
   },
   {
    "duration": 389,
    "start_time": "2023-03-27T09:23:51.806Z"
   },
   {
    "duration": 483,
    "start_time": "2023-03-27T09:24:08.651Z"
   },
   {
    "duration": 411,
    "start_time": "2023-03-27T09:24:29.051Z"
   },
   {
    "duration": 434,
    "start_time": "2023-03-27T09:25:03.105Z"
   },
   {
    "duration": 365,
    "start_time": "2023-03-27T09:25:13.309Z"
   },
   {
    "duration": 409,
    "start_time": "2023-03-27T09:25:20.655Z"
   },
   {
    "duration": 387,
    "start_time": "2023-03-27T09:25:28.113Z"
   },
   {
    "duration": 389,
    "start_time": "2023-03-27T09:25:32.916Z"
   },
   {
    "duration": 6,
    "start_time": "2023-03-27T09:35:02.020Z"
   },
   {
    "duration": 10,
    "start_time": "2023-03-27T09:35:02.502Z"
   },
   {
    "duration": 11,
    "start_time": "2023-03-27T09:35:44.720Z"
   },
   {
    "duration": 6,
    "start_time": "2023-03-27T09:36:20.339Z"
   },
   {
    "duration": 4,
    "start_time": "2023-03-27T09:36:20.716Z"
   },
   {
    "duration": 445,
    "start_time": "2023-03-27T09:36:21.016Z"
   },
   {
    "duration": 7,
    "start_time": "2023-03-27T09:36:52.154Z"
   },
   {
    "duration": 6,
    "start_time": "2023-03-27T09:36:52.521Z"
   },
   {
    "duration": 6,
    "start_time": "2023-03-27T09:36:52.956Z"
   },
   {
    "duration": 493,
    "start_time": "2023-03-27T09:36:53.452Z"
   },
   {
    "duration": 5,
    "start_time": "2023-03-27T09:37:52.866Z"
   },
   {
    "duration": 111,
    "start_time": "2023-03-27T09:37:57.304Z"
   },
   {
    "duration": 6,
    "start_time": "2023-03-27T09:37:57.722Z"
   },
   {
    "duration": 7,
    "start_time": "2023-03-27T09:37:58.159Z"
   },
   {
    "duration": 432,
    "start_time": "2023-03-27T09:37:58.612Z"
   },
   {
    "duration": 121,
    "start_time": "2023-03-27T09:39:06.520Z"
   },
   {
    "duration": 8,
    "start_time": "2023-03-27T09:39:13.910Z"
   },
   {
    "duration": 6,
    "start_time": "2023-03-27T09:39:14.440Z"
   },
   {
    "duration": 10,
    "start_time": "2023-03-27T09:39:14.892Z"
   },
   {
    "duration": 467,
    "start_time": "2023-03-27T09:39:15.402Z"
   },
   {
    "duration": 459,
    "start_time": "2023-03-27T09:39:19.851Z"
   },
   {
    "duration": 3142,
    "start_time": "2023-03-27T09:40:04.365Z"
   },
   {
    "duration": 2805,
    "start_time": "2023-03-27T09:40:39.029Z"
   },
   {
    "duration": 11,
    "start_time": "2023-03-27T09:46:36.574Z"
   },
   {
    "duration": 421,
    "start_time": "2023-03-27T09:46:45.129Z"
   },
   {
    "duration": 1424,
    "start_time": "2023-03-27T09:48:03.315Z"
   },
   {
    "duration": 0,
    "start_time": "2023-03-27T09:48:04.746Z"
   },
   {
    "duration": 11,
    "start_time": "2023-03-27T09:48:18.554Z"
   },
   {
    "duration": 3536,
    "start_time": "2023-03-27T09:48:19.716Z"
   },
   {
    "duration": 17,
    "start_time": "2023-03-27T09:49:17.022Z"
   },
   {
    "duration": 62,
    "start_time": "2023-03-27T09:49:21.507Z"
   },
   {
    "duration": 6,
    "start_time": "2023-03-27T09:51:23.508Z"
   },
   {
    "duration": 1642,
    "start_time": "2023-03-27T09:51:31.642Z"
   },
   {
    "duration": 87,
    "start_time": "2023-03-27T09:51:33.298Z"
   },
   {
    "duration": 109,
    "start_time": "2023-03-27T09:51:33.387Z"
   },
   {
    "duration": 720,
    "start_time": "2023-03-27T09:51:33.499Z"
   },
   {
    "duration": 55,
    "start_time": "2023-03-27T09:51:34.222Z"
   },
   {
    "duration": 21,
    "start_time": "2023-03-27T09:51:34.279Z"
   },
   {
    "duration": 7,
    "start_time": "2023-03-27T09:51:34.303Z"
   },
   {
    "duration": 62,
    "start_time": "2023-03-27T09:51:34.313Z"
   },
   {
    "duration": 130,
    "start_time": "2023-03-27T09:51:34.378Z"
   },
   {
    "duration": 39,
    "start_time": "2023-03-27T09:51:34.511Z"
   },
   {
    "duration": 3600,
    "start_time": "2023-03-27T09:51:34.552Z"
   },
   {
    "duration": 440,
    "start_time": "2023-03-27T09:51:38.154Z"
   },
   {
    "duration": 8,
    "start_time": "2023-03-27T09:51:38.596Z"
   },
   {
    "duration": 16,
    "start_time": "2023-03-27T09:51:38.605Z"
   },
   {
    "duration": 1383,
    "start_time": "2023-03-27T09:53:33.442Z"
   },
   {
    "duration": 40,
    "start_time": "2023-03-27T09:53:34.828Z"
   },
   {
    "duration": 36,
    "start_time": "2023-03-27T09:53:34.869Z"
   },
   {
    "duration": 255,
    "start_time": "2023-03-27T09:53:34.907Z"
   },
   {
    "duration": 31,
    "start_time": "2023-03-27T09:53:35.164Z"
   },
   {
    "duration": 20,
    "start_time": "2023-03-27T09:53:35.200Z"
   },
   {
    "duration": 8,
    "start_time": "2023-03-27T09:53:35.222Z"
   },
   {
    "duration": 8,
    "start_time": "2023-03-27T09:53:35.232Z"
   },
   {
    "duration": 64,
    "start_time": "2023-03-27T09:53:35.242Z"
   },
   {
    "duration": 20,
    "start_time": "2023-03-27T09:53:35.309Z"
   },
   {
    "duration": 79,
    "start_time": "2023-03-27T09:53:35.332Z"
   },
   {
    "duration": 0,
    "start_time": "2023-03-27T09:53:35.413Z"
   },
   {
    "duration": 0,
    "start_time": "2023-03-27T09:53:35.414Z"
   },
   {
    "duration": 0,
    "start_time": "2023-03-27T09:53:35.416Z"
   },
   {
    "duration": 56635,
    "start_time": "2023-03-27T09:53:47.477Z"
   },
   {
    "duration": 0,
    "start_time": "2023-03-27T09:54:44.117Z"
   },
   {
    "duration": 1390,
    "start_time": "2023-03-27T09:54:51.425Z"
   },
   {
    "duration": 45,
    "start_time": "2023-03-27T09:54:52.818Z"
   },
   {
    "duration": 43,
    "start_time": "2023-03-27T09:54:52.865Z"
   },
   {
    "duration": 285,
    "start_time": "2023-03-27T09:54:52.911Z"
   },
   {
    "duration": 10,
    "start_time": "2023-03-27T09:54:53.198Z"
   },
   {
    "duration": 31,
    "start_time": "2023-03-27T09:54:53.210Z"
   },
   {
    "duration": 22,
    "start_time": "2023-03-27T09:54:53.244Z"
   },
   {
    "duration": 25,
    "start_time": "2023-03-27T09:54:53.268Z"
   },
   {
    "duration": 73,
    "start_time": "2023-03-27T09:54:53.294Z"
   },
   {
    "duration": 27,
    "start_time": "2023-03-27T09:54:53.370Z"
   },
   {
    "duration": 2791,
    "start_time": "2023-03-27T09:54:53.399Z"
   },
   {
    "duration": 386,
    "start_time": "2023-03-27T09:54:56.194Z"
   },
   {
    "duration": 13,
    "start_time": "2023-03-27T09:54:56.582Z"
   },
   {
    "duration": 13,
    "start_time": "2023-03-27T09:54:56.597Z"
   },
   {
    "duration": 7,
    "start_time": "2023-03-27T10:00:57.830Z"
   },
   {
    "duration": 4,
    "start_time": "2023-03-27T10:00:59.127Z"
   },
   {
    "duration": 123,
    "start_time": "2023-03-27T10:00:59.738Z"
   },
   {
    "duration": 500,
    "start_time": "2023-03-27T10:01:13.314Z"
   },
   {
    "duration": 5,
    "start_time": "2023-03-27T10:01:30.942Z"
   },
   {
    "duration": 4,
    "start_time": "2023-03-27T10:01:31.545Z"
   },
   {
    "duration": 2190,
    "start_time": "2023-03-27T10:01:32.212Z"
   },
   {
    "duration": 4,
    "start_time": "2023-03-27T10:42:05.111Z"
   },
   {
    "duration": 11,
    "start_time": "2023-03-27T10:42:08.826Z"
   },
   {
    "duration": 3,
    "start_time": "2023-03-27T10:43:45.424Z"
   },
   {
    "duration": 12,
    "start_time": "2023-03-27T10:43:45.730Z"
   },
   {
    "duration": 17,
    "start_time": "2023-03-27T10:43:51.873Z"
   },
   {
    "duration": 10,
    "start_time": "2023-03-27T10:43:55.441Z"
   },
   {
    "duration": 10,
    "start_time": "2023-03-27T10:46:33.419Z"
   },
   {
    "duration": 20,
    "start_time": "2023-03-27T10:49:48.899Z"
   },
   {
    "duration": 23,
    "start_time": "2023-03-27T10:49:52.900Z"
   },
   {
    "duration": 451,
    "start_time": "2023-03-27T10:50:21.999Z"
   },
   {
    "duration": 13,
    "start_time": "2023-03-27T10:50:39.025Z"
   },
   {
    "duration": 93,
    "start_time": "2023-03-27T10:50:43.255Z"
   },
   {
    "duration": 382,
    "start_time": "2023-03-27T10:50:49.446Z"
   },
   {
    "duration": 366,
    "start_time": "2023-03-27T10:50:54.397Z"
   },
   {
    "duration": 374,
    "start_time": "2023-03-27T10:51:19.958Z"
   },
   {
    "duration": 158,
    "start_time": "2023-03-27T10:53:19.500Z"
   },
   {
    "duration": 248,
    "start_time": "2023-03-27T10:53:38.466Z"
   },
   {
    "duration": 156,
    "start_time": "2023-03-27T10:55:24.458Z"
   },
   {
    "duration": 448,
    "start_time": "2023-03-27T10:55:42.093Z"
   },
   {
    "duration": 14,
    "start_time": "2023-03-27T10:57:19.497Z"
   },
   {
    "duration": 3,
    "start_time": "2023-03-27T11:06:19.609Z"
   },
   {
    "duration": 5,
    "start_time": "2023-03-27T11:06:20.129Z"
   },
   {
    "duration": 13,
    "start_time": "2023-03-27T11:06:45.428Z"
   },
   {
    "duration": 14,
    "start_time": "2023-03-27T11:06:50.598Z"
   },
   {
    "duration": 5,
    "start_time": "2023-03-27T11:07:00.495Z"
   },
   {
    "duration": 19,
    "start_time": "2023-03-27T11:07:20.389Z"
   },
   {
    "duration": 10,
    "start_time": "2023-03-27T11:07:28.997Z"
   },
   {
    "duration": 5,
    "start_time": "2023-03-27T11:09:59.132Z"
   },
   {
    "duration": 192,
    "start_time": "2023-03-27T11:09:59.496Z"
   },
   {
    "duration": 5,
    "start_time": "2023-03-27T11:10:09.058Z"
   },
   {
    "duration": 1462,
    "start_time": "2023-03-27T11:10:09.648Z"
   },
   {
    "duration": 5,
    "start_time": "2023-03-27T11:10:51.733Z"
   },
   {
    "duration": 174,
    "start_time": "2023-03-27T11:10:52.757Z"
   },
   {
    "duration": 392,
    "start_time": "2023-03-27T11:14:38.418Z"
   },
   {
    "duration": 1401,
    "start_time": "2023-03-27T11:15:00.594Z"
   },
   {
    "duration": 132,
    "start_time": "2023-03-27T11:15:01.997Z"
   },
   {
    "duration": 0,
    "start_time": "2023-03-27T11:15:02.132Z"
   },
   {
    "duration": 0,
    "start_time": "2023-03-27T11:15:02.134Z"
   },
   {
    "duration": 0,
    "start_time": "2023-03-27T11:15:02.136Z"
   },
   {
    "duration": 0,
    "start_time": "2023-03-27T11:15:02.138Z"
   },
   {
    "duration": 0,
    "start_time": "2023-03-27T11:15:02.140Z"
   },
   {
    "duration": 0,
    "start_time": "2023-03-27T11:15:02.141Z"
   },
   {
    "duration": 0,
    "start_time": "2023-03-27T11:15:02.144Z"
   },
   {
    "duration": 0,
    "start_time": "2023-03-27T11:15:02.145Z"
   },
   {
    "duration": 0,
    "start_time": "2023-03-27T11:15:02.146Z"
   },
   {
    "duration": 0,
    "start_time": "2023-03-27T11:15:02.148Z"
   },
   {
    "duration": 0,
    "start_time": "2023-03-27T11:15:02.149Z"
   },
   {
    "duration": 2038,
    "start_time": "2023-03-27T11:19:36.866Z"
   },
   {
    "duration": 281,
    "start_time": "2023-03-27T11:19:38.906Z"
   },
   {
    "duration": 0,
    "start_time": "2023-03-27T11:19:39.192Z"
   },
   {
    "duration": 0,
    "start_time": "2023-03-27T11:19:39.193Z"
   },
   {
    "duration": 0,
    "start_time": "2023-03-27T11:19:39.195Z"
   },
   {
    "duration": 0,
    "start_time": "2023-03-27T11:19:39.196Z"
   },
   {
    "duration": 0,
    "start_time": "2023-03-27T11:19:39.197Z"
   },
   {
    "duration": 0,
    "start_time": "2023-03-27T11:19:39.199Z"
   },
   {
    "duration": 0,
    "start_time": "2023-03-27T11:19:39.200Z"
   },
   {
    "duration": 0,
    "start_time": "2023-03-27T11:19:39.201Z"
   },
   {
    "duration": 0,
    "start_time": "2023-03-27T11:19:39.203Z"
   },
   {
    "duration": 0,
    "start_time": "2023-03-27T11:19:39.204Z"
   },
   {
    "duration": 0,
    "start_time": "2023-03-27T11:19:39.205Z"
   },
   {
    "duration": 1984,
    "start_time": "2023-03-27T11:21:14.948Z"
   },
   {
    "duration": 2035,
    "start_time": "2023-03-27T11:21:46.444Z"
   },
   {
    "duration": 199,
    "start_time": "2023-03-27T11:22:05.234Z"
   },
   {
    "duration": 37,
    "start_time": "2023-03-27T11:22:10.878Z"
   },
   {
    "duration": 26,
    "start_time": "2023-03-27T11:22:32.175Z"
   },
   {
    "duration": 1307,
    "start_time": "2023-03-27T11:22:58.738Z"
   },
   {
    "duration": 119,
    "start_time": "2023-03-27T11:23:00.048Z"
   },
   {
    "duration": 0,
    "start_time": "2023-03-27T11:23:00.169Z"
   },
   {
    "duration": 0,
    "start_time": "2023-03-27T11:23:00.170Z"
   },
   {
    "duration": 0,
    "start_time": "2023-03-27T11:23:00.171Z"
   },
   {
    "duration": 0,
    "start_time": "2023-03-27T11:23:00.174Z"
   },
   {
    "duration": 0,
    "start_time": "2023-03-27T11:23:00.175Z"
   },
   {
    "duration": 0,
    "start_time": "2023-03-27T11:23:00.176Z"
   },
   {
    "duration": 0,
    "start_time": "2023-03-27T11:23:00.176Z"
   },
   {
    "duration": 0,
    "start_time": "2023-03-27T11:23:00.177Z"
   },
   {
    "duration": 0,
    "start_time": "2023-03-27T11:23:00.178Z"
   },
   {
    "duration": 0,
    "start_time": "2023-03-27T11:23:00.178Z"
   },
   {
    "duration": 0,
    "start_time": "2023-03-27T11:23:00.181Z"
   },
   {
    "duration": 100,
    "start_time": "2023-03-27T11:23:48.231Z"
   },
   {
    "duration": 28,
    "start_time": "2023-03-27T11:23:53.027Z"
   },
   {
    "duration": 1307,
    "start_time": "2023-03-27T11:24:06.492Z"
   },
   {
    "duration": 57,
    "start_time": "2023-03-27T11:24:07.801Z"
   },
   {
    "duration": 44,
    "start_time": "2023-03-27T11:24:07.859Z"
   },
   {
    "duration": 247,
    "start_time": "2023-03-27T11:24:07.905Z"
   },
   {
    "duration": 8,
    "start_time": "2023-03-27T11:24:08.156Z"
   },
   {
    "duration": 20,
    "start_time": "2023-03-27T11:24:08.178Z"
   },
   {
    "duration": 7,
    "start_time": "2023-03-27T11:24:08.201Z"
   },
   {
    "duration": 7,
    "start_time": "2023-03-27T11:24:08.210Z"
   },
   {
    "duration": 88,
    "start_time": "2023-03-27T11:24:08.220Z"
   },
   {
    "duration": 22,
    "start_time": "2023-03-27T11:24:08.310Z"
   },
   {
    "duration": 424,
    "start_time": "2023-03-27T11:24:08.334Z"
   },
   {
    "duration": 24,
    "start_time": "2023-03-27T11:24:08.761Z"
   },
   {
    "duration": 18,
    "start_time": "2023-03-27T11:24:08.787Z"
   },
   {
    "duration": 456,
    "start_time": "2023-03-27T11:29:11.535Z"
   },
   {
    "duration": 82,
    "start_time": "2023-03-27T11:29:29.597Z"
   },
   {
    "duration": 470,
    "start_time": "2023-03-27T11:29:42.073Z"
   },
   {
    "duration": 252,
    "start_time": "2023-03-27T11:30:12.266Z"
   },
   {
    "duration": 571,
    "start_time": "2023-03-27T11:30:20.875Z"
   },
   {
    "duration": 7,
    "start_time": "2023-03-27T11:33:29.868Z"
   },
   {
    "duration": 9,
    "start_time": "2023-03-27T11:33:44.774Z"
   },
   {
    "duration": 7,
    "start_time": "2023-03-27T11:33:47.374Z"
   },
   {
    "duration": 17,
    "start_time": "2023-03-27T11:34:39.485Z"
   },
   {
    "duration": 1395,
    "start_time": "2023-03-27T11:36:15.197Z"
   },
   {
    "duration": 1300,
    "start_time": "2023-03-27T11:36:27.299Z"
   },
   {
    "duration": 1288,
    "start_time": "2023-03-27T11:36:39.805Z"
   },
   {
    "duration": 4,
    "start_time": "2023-03-27T11:37:14.449Z"
   },
   {
    "duration": 8,
    "start_time": "2023-03-27T11:37:24.538Z"
   },
   {
    "duration": 3774,
    "start_time": "2023-03-27T11:37:35.936Z"
   },
   {
    "duration": 5,
    "start_time": "2023-03-27T11:38:35.418Z"
   },
   {
    "duration": 5,
    "start_time": "2023-03-27T11:38:36.402Z"
   },
   {
    "duration": 3815,
    "start_time": "2023-03-27T11:38:37.231Z"
   },
   {
    "duration": 3,
    "start_time": "2023-03-27T11:39:55.550Z"
   },
   {
    "duration": 5,
    "start_time": "2023-03-27T11:39:57.311Z"
   },
   {
    "duration": 15,
    "start_time": "2023-03-27T11:39:57.754Z"
   },
   {
    "duration": 4,
    "start_time": "2023-03-27T11:40:34.479Z"
   },
   {
    "duration": 3833,
    "start_time": "2023-03-27T11:40:36.256Z"
   },
   {
    "duration": 10,
    "start_time": "2023-03-27T11:43:44.172Z"
   },
   {
    "duration": 4031,
    "start_time": "2023-03-27T11:43:46.862Z"
   },
   {
    "duration": 5,
    "start_time": "2023-03-27T11:43:58.826Z"
   },
   {
    "duration": 3849,
    "start_time": "2023-03-27T11:44:01.047Z"
   },
   {
    "duration": 11,
    "start_time": "2023-03-27T11:44:33.501Z"
   },
   {
    "duration": 3779,
    "start_time": "2023-03-27T11:44:35.912Z"
   },
   {
    "duration": 4,
    "start_time": "2023-03-27T11:45:00.636Z"
   },
   {
    "duration": 3666,
    "start_time": "2023-03-27T11:45:02.605Z"
   },
   {
    "duration": 3,
    "start_time": "2023-03-27T11:46:40.726Z"
   },
   {
    "duration": 9,
    "start_time": "2023-03-27T11:46:57.601Z"
   },
   {
    "duration": 2771,
    "start_time": "2023-03-27T11:46:58.114Z"
   },
   {
    "duration": 7,
    "start_time": "2023-03-27T11:47:21.809Z"
   },
   {
    "duration": 4,
    "start_time": "2023-03-27T11:47:22.556Z"
   },
   {
    "duration": 2995,
    "start_time": "2023-03-27T11:47:23.161Z"
   },
   {
    "duration": 11,
    "start_time": "2023-03-27T11:48:43.920Z"
   },
   {
    "duration": 4,
    "start_time": "2023-03-27T11:48:59.335Z"
   },
   {
    "duration": 5,
    "start_time": "2023-03-27T11:49:00.225Z"
   },
   {
    "duration": 5,
    "start_time": "2023-03-27T11:49:00.607Z"
   },
   {
    "duration": 2856,
    "start_time": "2023-03-27T11:49:00.940Z"
   },
   {
    "duration": 3525,
    "start_time": "2023-03-27T11:49:28.772Z"
   },
   {
    "duration": 6,
    "start_time": "2023-03-27T11:50:07.717Z"
   },
   {
    "duration": 3692,
    "start_time": "2023-03-27T11:50:10.194Z"
   },
   {
    "duration": 4,
    "start_time": "2023-03-27T11:50:23.450Z"
   },
   {
    "duration": 4335,
    "start_time": "2023-03-27T11:50:33.862Z"
   },
   {
    "duration": 100,
    "start_time": "2023-03-27T11:50:38.199Z"
   },
   {
    "duration": 89,
    "start_time": "2023-03-27T11:50:38.300Z"
   },
   {
    "duration": 322,
    "start_time": "2023-03-27T11:50:38.392Z"
   },
   {
    "duration": 8,
    "start_time": "2023-03-27T11:50:38.716Z"
   },
   {
    "duration": 12,
    "start_time": "2023-03-27T11:50:38.726Z"
   },
   {
    "duration": 7,
    "start_time": "2023-03-27T11:50:38.739Z"
   },
   {
    "duration": 78,
    "start_time": "2023-03-27T11:50:38.748Z"
   },
   {
    "duration": 15,
    "start_time": "2023-03-27T11:50:38.829Z"
   },
   {
    "duration": 4,
    "start_time": "2023-03-27T11:50:38.847Z"
   },
   {
    "duration": 3711,
    "start_time": "2023-03-27T11:50:38.852Z"
   },
   {
    "duration": 438,
    "start_time": "2023-03-27T11:50:42.565Z"
   },
   {
    "duration": 8,
    "start_time": "2023-03-27T11:50:43.009Z"
   },
   {
    "duration": 14,
    "start_time": "2023-03-27T11:50:43.019Z"
   },
   {
    "duration": 5,
    "start_time": "2023-03-27T11:51:10.215Z"
   },
   {
    "duration": 282,
    "start_time": "2023-03-27T11:51:11.757Z"
   },
   {
    "duration": 7,
    "start_time": "2023-03-27T11:51:26.405Z"
   },
   {
    "duration": 3691,
    "start_time": "2023-03-27T11:51:27.119Z"
   },
   {
    "duration": 5,
    "start_time": "2023-03-27T11:52:00.720Z"
   },
   {
    "duration": 159,
    "start_time": "2023-03-27T11:52:01.208Z"
   },
   {
    "duration": 5,
    "start_time": "2023-03-27T11:52:12.054Z"
   },
   {
    "duration": 3616,
    "start_time": "2023-03-27T11:52:12.431Z"
   },
   {
    "duration": 4,
    "start_time": "2023-03-27T11:52:30.517Z"
   },
   {
    "duration": 3702,
    "start_time": "2023-03-27T11:52:31.306Z"
   },
   {
    "duration": 4,
    "start_time": "2023-03-27T11:53:24.047Z"
   },
   {
    "duration": 3844,
    "start_time": "2023-03-27T11:53:25.109Z"
   },
   {
    "duration": 5,
    "start_time": "2023-03-27T11:54:01.532Z"
   },
   {
    "duration": 3213,
    "start_time": "2023-03-27T11:54:01.996Z"
   },
   {
    "duration": 5,
    "start_time": "2023-03-27T11:55:00.508Z"
   },
   {
    "duration": 3051,
    "start_time": "2023-03-27T11:55:01.021Z"
   },
   {
    "duration": 5,
    "start_time": "2023-03-27T11:55:11.243Z"
   },
   {
    "duration": 3230,
    "start_time": "2023-03-27T11:55:11.631Z"
   },
   {
    "duration": 5,
    "start_time": "2023-03-27T11:55:36.143Z"
   },
   {
    "duration": 3102,
    "start_time": "2023-03-27T11:55:36.505Z"
   },
   {
    "duration": 4,
    "start_time": "2023-03-27T11:56:01.708Z"
   },
   {
    "duration": 3579,
    "start_time": "2023-03-27T11:56:02.093Z"
   },
   {
    "duration": 6,
    "start_time": "2023-03-27T11:57:02.394Z"
   },
   {
    "duration": 4091,
    "start_time": "2023-03-27T11:57:02.824Z"
   },
   {
    "duration": 6,
    "start_time": "2023-03-27T11:57:46.751Z"
   },
   {
    "duration": 320,
    "start_time": "2023-03-27T11:57:47.218Z"
   },
   {
    "duration": 7,
    "start_time": "2023-03-27T11:57:58.516Z"
   },
   {
    "duration": 3802,
    "start_time": "2023-03-27T11:58:00.057Z"
   },
   {
    "duration": 5,
    "start_time": "2023-03-27T11:58:14.128Z"
   },
   {
    "duration": 3447,
    "start_time": "2023-03-27T11:58:14.515Z"
   },
   {
    "duration": 5,
    "start_time": "2023-03-27T11:58:36.856Z"
   },
   {
    "duration": 3520,
    "start_time": "2023-03-27T11:58:37.217Z"
   },
   {
    "duration": 5,
    "start_time": "2023-03-27T11:58:48.321Z"
   },
   {
    "duration": 3454,
    "start_time": "2023-03-27T11:58:48.699Z"
   },
   {
    "duration": 8,
    "start_time": "2023-03-27T12:00:04.598Z"
   },
   {
    "duration": 3714,
    "start_time": "2023-03-27T12:00:04.914Z"
   },
   {
    "duration": 5,
    "start_time": "2023-03-27T12:00:57.033Z"
   },
   {
    "duration": 295,
    "start_time": "2023-03-27T12:00:58.509Z"
   },
   {
    "duration": 5,
    "start_time": "2023-03-27T12:01:07.801Z"
   },
   {
    "duration": 3546,
    "start_time": "2023-03-27T12:01:08.403Z"
   },
   {
    "duration": 4,
    "start_time": "2023-03-27T12:01:22.234Z"
   },
   {
    "duration": 3659,
    "start_time": "2023-03-27T12:01:22.901Z"
   },
   {
    "duration": 9,
    "start_time": "2023-03-27T12:01:31.867Z"
   },
   {
    "duration": 3843,
    "start_time": "2023-03-27T12:01:32.169Z"
   },
   {
    "duration": 5,
    "start_time": "2023-03-27T12:02:15.704Z"
   },
   {
    "duration": 3284,
    "start_time": "2023-03-27T12:02:15.964Z"
   },
   {
    "duration": 4,
    "start_time": "2023-03-27T12:02:32.705Z"
   },
   {
    "duration": 3627,
    "start_time": "2023-03-27T12:02:33.000Z"
   },
   {
    "duration": 7,
    "start_time": "2023-03-27T12:05:57.952Z"
   },
   {
    "duration": 3920,
    "start_time": "2023-03-27T12:05:58.463Z"
   },
   {
    "duration": 391,
    "start_time": "2023-03-27T12:13:39.410Z"
   },
   {
    "duration": 7,
    "start_time": "2023-03-27T12:19:50.802Z"
   },
   {
    "duration": 3594,
    "start_time": "2023-03-27T12:19:51.833Z"
   },
   {
    "duration": 6,
    "start_time": "2023-03-27T12:20:08.609Z"
   },
   {
    "duration": 3471,
    "start_time": "2023-03-27T12:20:08.969Z"
   },
   {
    "duration": 4,
    "start_time": "2023-03-27T12:22:51.126Z"
   },
   {
    "duration": 9,
    "start_time": "2023-03-27T12:23:31.734Z"
   },
   {
    "duration": 5,
    "start_time": "2023-03-27T12:23:43.566Z"
   },
   {
    "duration": 1601,
    "start_time": "2023-03-27T12:23:45.660Z"
   },
   {
    "duration": 4,
    "start_time": "2023-03-27T12:24:15.507Z"
   },
   {
    "duration": 10311,
    "start_time": "2023-03-27T12:24:18.264Z"
   },
   {
    "duration": 5,
    "start_time": "2023-03-27T12:25:20.249Z"
   },
   {
    "duration": 10987,
    "start_time": "2023-03-27T12:25:22.509Z"
   },
   {
    "duration": 6,
    "start_time": "2023-03-27T12:25:44.999Z"
   },
   {
    "duration": 1415,
    "start_time": "2023-03-27T12:26:42.808Z"
   },
   {
    "duration": 39,
    "start_time": "2023-03-27T12:26:44.226Z"
   },
   {
    "duration": 50,
    "start_time": "2023-03-27T12:26:44.268Z"
   },
   {
    "duration": 304,
    "start_time": "2023-03-27T12:26:44.320Z"
   },
   {
    "duration": 13,
    "start_time": "2023-03-27T12:26:44.627Z"
   },
   {
    "duration": 51,
    "start_time": "2023-03-27T12:26:44.643Z"
   },
   {
    "duration": 8,
    "start_time": "2023-03-27T12:26:44.704Z"
   },
   {
    "duration": 60,
    "start_time": "2023-03-27T12:26:44.714Z"
   },
   {
    "duration": 23,
    "start_time": "2023-03-27T12:26:44.783Z"
   },
   {
    "duration": 7,
    "start_time": "2023-03-27T12:26:44.812Z"
   },
   {
    "duration": 3617,
    "start_time": "2023-03-27T12:26:44.821Z"
   },
   {
    "duration": 411,
    "start_time": "2023-03-27T12:26:48.440Z"
   },
   {
    "duration": 5,
    "start_time": "2023-03-27T12:26:48.853Z"
   },
   {
    "duration": 30,
    "start_time": "2023-03-27T12:26:48.861Z"
   },
   {
    "duration": 148,
    "start_time": "2023-03-27T12:36:40.259Z"
   },
   {
    "duration": 18,
    "start_time": "2023-03-27T12:36:48.499Z"
   },
   {
    "duration": 20,
    "start_time": "2023-03-27T12:37:05.806Z"
   },
   {
    "duration": 20,
    "start_time": "2023-03-27T12:37:45.941Z"
   },
   {
    "duration": 17,
    "start_time": "2023-03-27T12:37:56.107Z"
   },
   {
    "duration": 21,
    "start_time": "2023-03-27T12:44:42.438Z"
   },
   {
    "duration": 48,
    "start_time": "2023-03-27T12:45:07.512Z"
   },
   {
    "duration": 21,
    "start_time": "2023-03-27T12:45:36.831Z"
   },
   {
    "duration": 129,
    "start_time": "2023-03-27T12:46:00.010Z"
   },
   {
    "duration": 31,
    "start_time": "2023-03-27T12:46:09.603Z"
   },
   {
    "duration": 15,
    "start_time": "2023-03-27T12:51:22.823Z"
   },
   {
    "duration": 18,
    "start_time": "2023-03-27T12:52:19.734Z"
   },
   {
    "duration": 35,
    "start_time": "2023-03-27T12:54:50.036Z"
   },
   {
    "duration": 29,
    "start_time": "2023-03-27T12:55:36.952Z"
   },
   {
    "duration": 23,
    "start_time": "2023-03-27T12:55:43.824Z"
   },
   {
    "duration": 36,
    "start_time": "2023-03-27T12:55:46.959Z"
   },
   {
    "duration": 35,
    "start_time": "2023-03-27T12:55:50.420Z"
   },
   {
    "duration": 34,
    "start_time": "2023-03-27T12:55:59.210Z"
   },
   {
    "duration": 53,
    "start_time": "2023-03-27T12:56:17.679Z"
   },
   {
    "duration": 34,
    "start_time": "2023-03-27T12:56:23.301Z"
   },
   {
    "duration": 36,
    "start_time": "2023-03-27T12:56:34.654Z"
   },
   {
    "duration": 42,
    "start_time": "2023-03-27T12:56:38.605Z"
   },
   {
    "duration": 67,
    "start_time": "2023-03-27T13:01:28.771Z"
   },
   {
    "duration": 8,
    "start_time": "2023-03-27T13:05:23.605Z"
   },
   {
    "duration": 19,
    "start_time": "2023-03-27T13:05:24.596Z"
   },
   {
    "duration": 32,
    "start_time": "2023-03-27T13:05:27.200Z"
   },
   {
    "duration": 49,
    "start_time": "2023-03-27T13:05:42.046Z"
   },
   {
    "duration": 43,
    "start_time": "2023-03-27T13:07:56.993Z"
   },
   {
    "duration": 222,
    "start_time": "2023-03-27T13:08:29.726Z"
   },
   {
    "duration": 236,
    "start_time": "2023-03-27T13:10:03.201Z"
   },
   {
    "duration": 253,
    "start_time": "2023-03-27T13:10:19.549Z"
   },
   {
    "duration": 23,
    "start_time": "2023-03-27T13:11:25.936Z"
   },
   {
    "duration": 4,
    "start_time": "2023-03-27T13:12:55.893Z"
   },
   {
    "duration": 8,
    "start_time": "2023-03-27T13:12:56.170Z"
   },
   {
    "duration": 21,
    "start_time": "2023-03-27T13:12:56.836Z"
   },
   {
    "duration": 17,
    "start_time": "2023-03-27T13:13:00.544Z"
   },
   {
    "duration": 36,
    "start_time": "2023-03-27T13:13:10.324Z"
   },
   {
    "duration": 41,
    "start_time": "2023-03-27T13:13:13.710Z"
   },
   {
    "duration": 59,
    "start_time": "2023-03-27T13:13:21.501Z"
   },
   {
    "duration": 37,
    "start_time": "2023-03-27T13:13:33.306Z"
   },
   {
    "duration": 29,
    "start_time": "2023-03-27T13:13:39.823Z"
   },
   {
    "duration": 24,
    "start_time": "2023-03-27T13:13:44.416Z"
   },
   {
    "duration": 54,
    "start_time": "2023-03-27T13:13:55.271Z"
   },
   {
    "duration": 65,
    "start_time": "2023-03-27T13:13:58.549Z"
   },
   {
    "duration": 25,
    "start_time": "2023-03-27T13:14:10.843Z"
   },
   {
    "duration": 33,
    "start_time": "2023-03-27T13:14:13.823Z"
   },
   {
    "duration": 32,
    "start_time": "2023-03-27T13:14:53.716Z"
   },
   {
    "duration": 60,
    "start_time": "2023-03-27T13:14:58.769Z"
   },
   {
    "duration": 30,
    "start_time": "2023-03-27T13:15:06.664Z"
   },
   {
    "duration": 22,
    "start_time": "2023-03-27T13:17:31.631Z"
   },
   {
    "duration": 33,
    "start_time": "2023-03-27T13:17:37.204Z"
   },
   {
    "duration": 34,
    "start_time": "2023-03-27T13:17:43.699Z"
   },
   {
    "duration": 34,
    "start_time": "2023-03-27T13:17:46.563Z"
   },
   {
    "duration": 43,
    "start_time": "2023-03-27T13:20:15.472Z"
   },
   {
    "duration": 5,
    "start_time": "2023-03-27T13:24:32.664Z"
   },
   {
    "duration": 14,
    "start_time": "2023-03-27T13:24:34.635Z"
   },
   {
    "duration": 34,
    "start_time": "2023-03-27T13:28:26.803Z"
   },
   {
    "duration": 2123,
    "start_time": "2023-03-27T13:28:32.704Z"
   },
   {
    "duration": 412,
    "start_time": "2023-03-27T13:32:20.454Z"
   },
   {
    "duration": 410,
    "start_time": "2023-03-27T13:32:30.614Z"
   },
   {
    "duration": 400,
    "start_time": "2023-03-27T13:33:39.167Z"
   },
   {
    "duration": 14,
    "start_time": "2023-03-27T13:34:20.247Z"
   },
   {
    "duration": 17,
    "start_time": "2023-03-27T13:34:25.165Z"
   },
   {
    "duration": 524,
    "start_time": "2023-03-27T13:34:29.731Z"
   },
   {
    "duration": 209,
    "start_time": "2023-03-27T13:35:51.706Z"
   },
   {
    "duration": 196,
    "start_time": "2023-03-27T13:36:10.019Z"
   },
   {
    "duration": 281,
    "start_time": "2023-03-27T13:36:48.556Z"
   },
   {
    "duration": 11,
    "start_time": "2023-03-27T13:39:29.217Z"
   },
   {
    "duration": 4943,
    "start_time": "2023-03-27T13:39:29.600Z"
   },
   {
    "duration": 499,
    "start_time": "2023-03-27T13:41:53.636Z"
   },
   {
    "duration": 734,
    "start_time": "2023-03-27T13:57:46.260Z"
   },
   {
    "duration": 676,
    "start_time": "2023-03-27T13:58:04.359Z"
   },
   {
    "duration": 815,
    "start_time": "2023-03-27T13:58:20.136Z"
   },
   {
    "duration": 1017,
    "start_time": "2023-03-27T13:59:16.245Z"
   },
   {
    "duration": 1084,
    "start_time": "2023-03-27T13:59:44.731Z"
   },
   {
    "duration": 935,
    "start_time": "2023-03-27T14:00:02.939Z"
   },
   {
    "duration": 820,
    "start_time": "2023-03-27T14:00:33.090Z"
   },
   {
    "duration": 867,
    "start_time": "2023-03-27T14:01:55.204Z"
   },
   {
    "duration": 989,
    "start_time": "2023-03-27T14:02:15.865Z"
   },
   {
    "duration": 1117,
    "start_time": "2023-03-27T14:03:30.351Z"
   },
   {
    "duration": 721,
    "start_time": "2023-03-27T14:03:58.624Z"
   },
   {
    "duration": 706,
    "start_time": "2023-03-27T14:04:27.403Z"
   },
   {
    "duration": 691,
    "start_time": "2023-03-27T14:04:46.615Z"
   },
   {
    "duration": 13,
    "start_time": "2023-03-27T14:17:19.503Z"
   },
   {
    "duration": 259,
    "start_time": "2023-03-27T14:29:06.639Z"
   },
   {
    "duration": 226,
    "start_time": "2023-03-27T14:29:13.064Z"
   },
   {
    "duration": 276,
    "start_time": "2023-03-27T14:29:22.294Z"
   },
   {
    "duration": 318,
    "start_time": "2023-03-27T14:30:07.416Z"
   },
   {
    "duration": 8,
    "start_time": "2023-03-27T14:38:37.312Z"
   },
   {
    "duration": 8,
    "start_time": "2023-03-27T14:40:01.942Z"
   },
   {
    "duration": 9,
    "start_time": "2023-03-27T14:40:27.243Z"
   },
   {
    "duration": 7,
    "start_time": "2023-03-27T14:42:19.245Z"
   },
   {
    "duration": 13,
    "start_time": "2023-03-27T14:42:44.204Z"
   },
   {
    "duration": 9,
    "start_time": "2023-03-27T14:48:26.821Z"
   },
   {
    "duration": 7,
    "start_time": "2023-03-27T14:55:00.406Z"
   },
   {
    "duration": 25,
    "start_time": "2023-03-27T14:55:03.773Z"
   },
   {
    "duration": 8,
    "start_time": "2023-03-27T14:55:05.500Z"
   },
   {
    "duration": 19,
    "start_time": "2023-03-27T14:55:07.272Z"
   },
   {
    "duration": 10,
    "start_time": "2023-03-27T14:55:08.412Z"
   },
   {
    "duration": 6,
    "start_time": "2023-03-27T14:55:30.930Z"
   },
   {
    "duration": 9,
    "start_time": "2023-03-27T14:55:31.728Z"
   },
   {
    "duration": 8,
    "start_time": "2023-03-27T14:55:32.946Z"
   },
   {
    "duration": 10,
    "start_time": "2023-03-27T14:55:34.144Z"
   },
   {
    "duration": 16,
    "start_time": "2023-03-27T14:55:35.874Z"
   },
   {
    "duration": 6,
    "start_time": "2023-03-27T14:55:46.714Z"
   },
   {
    "duration": 8,
    "start_time": "2023-03-27T14:55:47.233Z"
   },
   {
    "duration": 8,
    "start_time": "2023-03-27T14:55:47.847Z"
   },
   {
    "duration": 9,
    "start_time": "2023-03-27T14:55:48.502Z"
   },
   {
    "duration": 8,
    "start_time": "2023-03-27T14:55:50.334Z"
   },
   {
    "duration": 4,
    "start_time": "2023-03-27T14:55:53.355Z"
   },
   {
    "duration": 6,
    "start_time": "2023-03-27T14:55:53.730Z"
   },
   {
    "duration": 42,
    "start_time": "2023-03-27T15:02:45.977Z"
   },
   {
    "duration": 2298,
    "start_time": "2023-03-27T15:06:05.788Z"
   },
   {
    "duration": 2500,
    "start_time": "2023-03-27T15:06:19.343Z"
   },
   {
    "duration": 2323,
    "start_time": "2023-03-27T15:07:06.743Z"
   },
   {
    "duration": 2387,
    "start_time": "2023-03-27T15:07:33.243Z"
   },
   {
    "duration": 2331,
    "start_time": "2023-03-27T15:08:06.474Z"
   },
   {
    "duration": 37,
    "start_time": "2023-03-27T15:09:20.552Z"
   },
   {
    "duration": 2172,
    "start_time": "2023-03-27T15:09:32.063Z"
   },
   {
    "duration": 3728,
    "start_time": "2023-03-27T15:10:15.358Z"
   },
   {
    "duration": 13967,
    "start_time": "2023-03-27T15:10:28.524Z"
   },
   {
    "duration": 2322,
    "start_time": "2023-03-27T15:10:59.593Z"
   },
   {
    "duration": 14739,
    "start_time": "2023-03-27T15:11:35.256Z"
   },
   {
    "duration": 2428,
    "start_time": "2023-03-27T15:12:01.617Z"
   },
   {
    "duration": 2244,
    "start_time": "2023-03-27T15:16:12.550Z"
   },
   {
    "duration": 2326,
    "start_time": "2023-03-27T15:16:49.722Z"
   },
   {
    "duration": 45,
    "start_time": "2023-03-27T15:19:46.245Z"
   },
   {
    "duration": 2434,
    "start_time": "2023-03-27T15:19:52.505Z"
   },
   {
    "duration": 240,
    "start_time": "2023-03-27T15:20:13.220Z"
   },
   {
    "duration": 2551,
    "start_time": "2023-03-27T15:20:33.397Z"
   },
   {
    "duration": 4,
    "start_time": "2023-03-27T15:21:42.352Z"
   },
   {
    "duration": 2618,
    "start_time": "2023-03-27T15:21:48.700Z"
   },
   {
    "duration": 2417,
    "start_time": "2023-03-27T15:25:29.476Z"
   },
   {
    "duration": 14521,
    "start_time": "2023-03-27T15:26:34.791Z"
   },
   {
    "duration": 90,
    "start_time": "2023-03-27T15:26:53.208Z"
   },
   {
    "duration": 2436,
    "start_time": "2023-03-27T15:26:57.506Z"
   },
   {
    "duration": 2530,
    "start_time": "2023-03-27T15:27:18.662Z"
   },
   {
    "duration": 2375,
    "start_time": "2023-03-27T15:27:27.363Z"
   },
   {
    "duration": 40,
    "start_time": "2023-03-27T15:28:19.104Z"
   },
   {
    "duration": 2454,
    "start_time": "2023-03-27T15:28:32.313Z"
   },
   {
    "duration": 2520,
    "start_time": "2023-03-27T15:29:24.196Z"
   },
   {
    "duration": 31,
    "start_time": "2023-03-27T15:31:13.702Z"
   },
   {
    "duration": 30,
    "start_time": "2023-03-27T15:31:31.387Z"
   },
   {
    "duration": 2415,
    "start_time": "2023-03-27T15:31:37.160Z"
   },
   {
    "duration": 2530,
    "start_time": "2023-03-27T15:31:44.778Z"
   },
   {
    "duration": 300,
    "start_time": "2023-03-27T15:33:09.930Z"
   },
   {
    "duration": 2450,
    "start_time": "2023-03-27T15:33:21.961Z"
   },
   {
    "duration": 2437,
    "start_time": "2023-03-27T15:33:34.783Z"
   },
   {
    "duration": 120,
    "start_time": "2023-03-27T15:35:07.803Z"
   },
   {
    "duration": 50,
    "start_time": "2023-03-27T15:35:16.055Z"
   },
   {
    "duration": 2540,
    "start_time": "2023-03-27T15:35:29.682Z"
   },
   {
    "duration": 16374,
    "start_time": "2023-03-27T15:35:52.882Z"
   },
   {
    "duration": 2492,
    "start_time": "2023-03-27T15:36:16.640Z"
   },
   {
    "duration": 2594,
    "start_time": "2023-03-27T15:37:38.596Z"
   },
   {
    "duration": 305,
    "start_time": "2023-03-27T15:38:32.935Z"
   },
   {
    "duration": 304,
    "start_time": "2023-03-27T15:38:58.046Z"
   },
   {
    "duration": 263,
    "start_time": "2023-03-27T15:39:19.380Z"
   },
   {
    "duration": 176,
    "start_time": "2023-03-27T15:40:37.893Z"
   },
   {
    "duration": 262,
    "start_time": "2023-03-27T15:41:02.565Z"
   },
   {
    "duration": 547,
    "start_time": "2023-03-27T15:41:20.899Z"
   },
   {
    "duration": 251,
    "start_time": "2023-03-27T15:41:28.041Z"
   },
   {
    "duration": 219,
    "start_time": "2023-03-27T15:42:07.988Z"
   },
   {
    "duration": 246,
    "start_time": "2023-03-27T15:42:19.896Z"
   },
   {
    "duration": 215,
    "start_time": "2023-03-27T15:42:42.011Z"
   },
   {
    "duration": 224,
    "start_time": "2023-03-27T15:43:08.003Z"
   },
   {
    "duration": 210,
    "start_time": "2023-03-27T15:43:21.327Z"
   },
   {
    "duration": 1412,
    "start_time": "2023-03-27T15:43:57.215Z"
   },
   {
    "duration": 1479,
    "start_time": "2023-03-27T15:44:13.886Z"
   },
   {
    "duration": 30,
    "start_time": "2023-03-27T15:44:33.777Z"
   },
   {
    "duration": 2581,
    "start_time": "2023-03-27T15:44:40.159Z"
   },
   {
    "duration": 2658,
    "start_time": "2023-03-27T15:45:13.461Z"
   },
   {
    "duration": 2458,
    "start_time": "2023-03-27T15:45:24.582Z"
   },
   {
    "duration": 273,
    "start_time": "2023-03-27T15:46:24.046Z"
   },
   {
    "duration": 251,
    "start_time": "2023-03-27T15:47:13.500Z"
   },
   {
    "duration": 239,
    "start_time": "2023-03-27T15:47:28.549Z"
   },
   {
    "duration": 335,
    "start_time": "2023-03-27T16:12:15.461Z"
   },
   {
    "duration": 227,
    "start_time": "2023-03-27T16:13:25.492Z"
   },
   {
    "duration": 263,
    "start_time": "2023-03-27T16:14:23.243Z"
   },
   {
    "duration": 374,
    "start_time": "2023-03-27T16:15:32.729Z"
   },
   {
    "duration": 215,
    "start_time": "2023-03-27T16:16:10.901Z"
   },
   {
    "duration": 207,
    "start_time": "2023-03-27T16:17:18.561Z"
   },
   {
    "duration": 206,
    "start_time": "2023-03-27T16:18:55.419Z"
   },
   {
    "duration": 278,
    "start_time": "2023-03-27T16:19:07.796Z"
   },
   {
    "duration": 91,
    "start_time": "2023-03-27T16:23:22.800Z"
   },
   {
    "duration": 72,
    "start_time": "2023-03-27T16:23:53.331Z"
   },
   {
    "duration": 212,
    "start_time": "2023-03-27T16:24:13.849Z"
   },
   {
    "duration": 224,
    "start_time": "2023-03-27T16:24:26.255Z"
   },
   {
    "duration": 305,
    "start_time": "2023-03-27T16:24:31.352Z"
   },
   {
    "duration": 207,
    "start_time": "2023-03-27T16:24:37.488Z"
   },
   {
    "duration": 219,
    "start_time": "2023-03-27T16:24:42.408Z"
   },
   {
    "duration": 210,
    "start_time": "2023-03-27T16:24:52.048Z"
   },
   {
    "duration": 184,
    "start_time": "2023-03-27T16:32:54.962Z"
   },
   {
    "duration": 193,
    "start_time": "2023-03-27T16:32:59.020Z"
   },
   {
    "duration": 10,
    "start_time": "2023-03-27T16:37:54.501Z"
   },
   {
    "duration": 176,
    "start_time": "2023-03-27T16:38:39.627Z"
   },
   {
    "duration": 21,
    "start_time": "2023-03-27T16:44:00.303Z"
   },
   {
    "duration": 26,
    "start_time": "2023-03-27T16:45:01.331Z"
   },
   {
    "duration": 35,
    "start_time": "2023-03-27T16:45:13.014Z"
   },
   {
    "duration": 146,
    "start_time": "2023-03-27T16:45:25.991Z"
   },
   {
    "duration": 26,
    "start_time": "2023-03-27T16:47:09.671Z"
   },
   {
    "duration": 38,
    "start_time": "2023-03-27T16:47:16.896Z"
   },
   {
    "duration": 17,
    "start_time": "2023-03-27T16:48:26.259Z"
   },
   {
    "duration": 11,
    "start_time": "2023-03-27T16:48:35.429Z"
   },
   {
    "duration": 17,
    "start_time": "2023-03-27T16:48:57.197Z"
   },
   {
    "duration": 19,
    "start_time": "2023-03-27T16:49:21.939Z"
   },
   {
    "duration": 17,
    "start_time": "2023-03-27T16:50:27.047Z"
   },
   {
    "duration": 16,
    "start_time": "2023-03-27T16:51:05.987Z"
   },
   {
    "duration": 15,
    "start_time": "2023-03-27T16:51:12.211Z"
   },
   {
    "duration": 19,
    "start_time": "2023-03-27T16:51:43.344Z"
   },
   {
    "duration": 122,
    "start_time": "2023-03-27T16:51:58.123Z"
   },
   {
    "duration": 24,
    "start_time": "2023-03-27T16:52:01.107Z"
   },
   {
    "duration": 27,
    "start_time": "2023-03-27T16:52:44.505Z"
   },
   {
    "duration": 22,
    "start_time": "2023-03-27T16:52:58.235Z"
   },
   {
    "duration": 22,
    "start_time": "2023-03-27T16:53:21.520Z"
   },
   {
    "duration": 16,
    "start_time": "2023-03-27T16:53:51.826Z"
   },
   {
    "duration": 26,
    "start_time": "2023-03-27T16:54:28.229Z"
   },
   {
    "duration": 22,
    "start_time": "2023-03-27T16:57:00.089Z"
   },
   {
    "duration": 5,
    "start_time": "2023-03-27T18:35:55.116Z"
   },
   {
    "duration": 19,
    "start_time": "2023-03-27T18:36:01.530Z"
   },
   {
    "duration": 14,
    "start_time": "2023-03-27T18:36:05.309Z"
   },
   {
    "duration": 15,
    "start_time": "2023-03-27T18:36:08.797Z"
   },
   {
    "duration": 16,
    "start_time": "2023-03-27T18:39:57.238Z"
   },
   {
    "duration": 13,
    "start_time": "2023-03-27T18:40:33.960Z"
   },
   {
    "duration": 15,
    "start_time": "2023-03-27T18:42:13.894Z"
   },
   {
    "duration": 74,
    "start_time": "2023-03-27T18:43:10.584Z"
   },
   {
    "duration": 15,
    "start_time": "2023-03-27T18:43:26.296Z"
   },
   {
    "duration": 14,
    "start_time": "2023-03-27T18:43:33.030Z"
   },
   {
    "duration": 15,
    "start_time": "2023-03-27T18:43:38.595Z"
   },
   {
    "duration": 14,
    "start_time": "2023-03-27T18:44:04.561Z"
   },
   {
    "duration": 20,
    "start_time": "2023-03-27T18:44:34.882Z"
   },
   {
    "duration": 1250,
    "start_time": "2023-03-27T19:21:24.616Z"
   },
   {
    "duration": 86,
    "start_time": "2023-03-27T19:21:25.868Z"
   },
   {
    "duration": 40,
    "start_time": "2023-03-27T19:21:25.955Z"
   },
   {
    "duration": 261,
    "start_time": "2023-03-27T19:21:25.998Z"
   },
   {
    "duration": 18,
    "start_time": "2023-03-27T19:21:26.260Z"
   },
   {
    "duration": 15,
    "start_time": "2023-03-27T19:21:26.283Z"
   },
   {
    "duration": 6,
    "start_time": "2023-03-27T19:21:26.300Z"
   },
   {
    "duration": 43,
    "start_time": "2023-03-27T19:21:26.308Z"
   },
   {
    "duration": 37,
    "start_time": "2023-03-27T19:21:26.353Z"
   },
   {
    "duration": 5,
    "start_time": "2023-03-27T19:21:26.399Z"
   },
   {
    "duration": 3361,
    "start_time": "2023-03-27T19:21:26.406Z"
   },
   {
    "duration": 365,
    "start_time": "2023-03-27T19:21:29.776Z"
   },
   {
    "duration": 5,
    "start_time": "2023-03-27T19:21:30.143Z"
   },
   {
    "duration": 18,
    "start_time": "2023-03-27T19:21:30.149Z"
   },
   {
    "duration": 187,
    "start_time": "2023-03-27T19:21:30.174Z"
   },
   {
    "duration": 245,
    "start_time": "2023-03-27T19:21:30.364Z"
   },
   {
    "duration": 230,
    "start_time": "2023-03-27T19:21:30.612Z"
   },
   {
    "duration": 207,
    "start_time": "2023-03-27T19:21:30.844Z"
   },
   {
    "duration": 279,
    "start_time": "2023-03-27T19:21:31.053Z"
   },
   {
    "duration": 188,
    "start_time": "2023-03-27T19:21:31.334Z"
   },
   {
    "duration": 5,
    "start_time": "2023-03-27T19:21:31.524Z"
   },
   {
    "duration": 53,
    "start_time": "2023-03-27T19:21:31.531Z"
   },
   {
    "duration": 25,
    "start_time": "2023-03-27T19:21:31.592Z"
   },
   {
    "duration": 20,
    "start_time": "2023-03-27T19:21:31.620Z"
   },
   {
    "duration": 18,
    "start_time": "2023-03-27T19:21:31.642Z"
   },
   {
    "duration": 43,
    "start_time": "2023-03-27T19:21:31.662Z"
   },
   {
    "duration": 33,
    "start_time": "2023-03-27T19:21:31.707Z"
   },
   {
    "duration": 15,
    "start_time": "2023-03-27T19:21:31.744Z"
   },
   {
    "duration": 34,
    "start_time": "2023-03-27T19:21:31.761Z"
   },
   {
    "duration": 45,
    "start_time": "2023-03-29T06:41:54.263Z"
   },
   {
    "duration": 2039,
    "start_time": "2023-03-29T06:42:14.818Z"
   },
   {
    "duration": 113,
    "start_time": "2023-03-29T06:42:16.859Z"
   },
   {
    "duration": 78,
    "start_time": "2023-03-29T06:42:16.973Z"
   },
   {
    "duration": 8,
    "start_time": "2023-03-29T06:42:17.053Z"
   },
   {
    "duration": 687,
    "start_time": "2023-03-29T06:42:17.062Z"
   },
   {
    "duration": 10,
    "start_time": "2023-03-29T06:42:17.751Z"
   },
   {
    "duration": 10,
    "start_time": "2023-03-29T06:42:17.763Z"
   },
   {
    "duration": 12,
    "start_time": "2023-03-29T06:42:17.827Z"
   },
   {
    "duration": 105,
    "start_time": "2023-03-29T06:42:17.841Z"
   },
   {
    "duration": 20,
    "start_time": "2023-03-29T06:42:17.949Z"
   },
   {
    "duration": 6,
    "start_time": "2023-03-29T06:42:18.029Z"
   },
   {
    "duration": 3587,
    "start_time": "2023-03-29T06:42:18.038Z"
   },
   {
    "duration": 448,
    "start_time": "2023-03-29T06:42:21.627Z"
   },
   {
    "duration": 4,
    "start_time": "2023-03-29T06:42:22.076Z"
   },
   {
    "duration": 21,
    "start_time": "2023-03-29T06:42:22.081Z"
   },
   {
    "duration": 206,
    "start_time": "2023-03-29T06:42:22.103Z"
   },
   {
    "duration": 185,
    "start_time": "2023-03-29T06:42:22.310Z"
   },
   {
    "duration": 242,
    "start_time": "2023-03-29T06:42:22.497Z"
   },
   {
    "duration": 221,
    "start_time": "2023-03-29T06:42:22.741Z"
   },
   {
    "duration": 194,
    "start_time": "2023-03-29T06:42:22.964Z"
   },
   {
    "duration": 178,
    "start_time": "2023-03-29T06:42:23.160Z"
   },
   {
    "duration": 8,
    "start_time": "2023-03-29T06:42:23.340Z"
   },
   {
    "duration": 11,
    "start_time": "2023-03-29T06:42:23.351Z"
   },
   {
    "duration": 7,
    "start_time": "2023-03-29T06:42:23.364Z"
   },
   {
    "duration": 7,
    "start_time": "2023-03-29T06:42:23.373Z"
   },
   {
    "duration": 8,
    "start_time": "2023-03-29T06:42:23.381Z"
   },
   {
    "duration": 37,
    "start_time": "2023-03-29T06:42:23.390Z"
   },
   {
    "duration": 18,
    "start_time": "2023-03-29T06:42:23.430Z"
   },
   {
    "duration": 14,
    "start_time": "2023-03-29T06:42:23.450Z"
   },
   {
    "duration": 13,
    "start_time": "2023-03-29T06:42:23.465Z"
   },
   {
    "duration": 39,
    "start_time": "2023-03-29T07:39:12.575Z"
   },
   {
    "duration": 38,
    "start_time": "2023-03-29T07:39:30.041Z"
   },
   {
    "duration": 38,
    "start_time": "2023-03-29T07:40:25.979Z"
   },
   {
    "duration": 39,
    "start_time": "2023-03-29T07:42:37.399Z"
   },
   {
    "duration": 1542,
    "start_time": "2023-03-29T07:54:28.089Z"
   },
   {
    "duration": 33,
    "start_time": "2023-03-29T07:54:29.633Z"
   },
   {
    "duration": 72,
    "start_time": "2023-03-29T07:54:29.668Z"
   },
   {
    "duration": 6,
    "start_time": "2023-03-29T07:54:29.741Z"
   },
   {
    "duration": 475,
    "start_time": "2023-03-29T07:54:29.749Z"
   },
   {
    "duration": 8,
    "start_time": "2023-03-29T07:54:30.225Z"
   },
   {
    "duration": 48,
    "start_time": "2023-03-29T07:54:30.234Z"
   },
   {
    "duration": 40,
    "start_time": "2023-03-29T07:54:30.323Z"
   },
   {
    "duration": 62,
    "start_time": "2023-03-29T07:54:30.364Z"
   },
   {
    "duration": 8,
    "start_time": "2023-03-29T07:54:30.428Z"
   },
   {
    "duration": 139,
    "start_time": "2023-03-29T07:54:30.438Z"
   },
   {
    "duration": 58,
    "start_time": "2023-03-29T07:54:30.579Z"
   },
   {
    "duration": 31,
    "start_time": "2023-03-29T07:54:30.640Z"
   },
   {
    "duration": 2964,
    "start_time": "2023-03-29T07:54:30.675Z"
   },
   {
    "duration": 336,
    "start_time": "2023-03-29T07:54:33.641Z"
   },
   {
    "duration": 4,
    "start_time": "2023-03-29T07:54:33.979Z"
   },
   {
    "duration": 8,
    "start_time": "2023-03-29T07:54:33.984Z"
   },
   {
    "duration": 178,
    "start_time": "2023-03-29T07:54:33.993Z"
   },
   {
    "duration": 159,
    "start_time": "2023-03-29T07:54:34.173Z"
   },
   {
    "duration": 214,
    "start_time": "2023-03-29T07:54:34.334Z"
   },
   {
    "duration": 189,
    "start_time": "2023-03-29T07:54:34.550Z"
   },
   {
    "duration": 176,
    "start_time": "2023-03-29T07:54:34.741Z"
   },
   {
    "duration": 158,
    "start_time": "2023-03-29T07:54:34.923Z"
   },
   {
    "duration": 5,
    "start_time": "2023-03-29T07:54:35.083Z"
   },
   {
    "duration": 23,
    "start_time": "2023-03-29T07:54:35.090Z"
   },
   {
    "duration": 12,
    "start_time": "2023-03-29T07:54:35.115Z"
   },
   {
    "duration": 11,
    "start_time": "2023-03-29T07:54:35.129Z"
   },
   {
    "duration": 7,
    "start_time": "2023-03-29T07:54:35.142Z"
   },
   {
    "duration": 18,
    "start_time": "2023-03-29T07:54:35.151Z"
   },
   {
    "duration": 17,
    "start_time": "2023-03-29T07:54:35.171Z"
   },
   {
    "duration": 45,
    "start_time": "2023-03-29T07:54:35.190Z"
   },
   {
    "duration": 13,
    "start_time": "2023-03-29T07:54:35.237Z"
   },
   {
    "duration": 1160,
    "start_time": "2023-03-29T07:55:03.710Z"
   },
   {
    "duration": 34,
    "start_time": "2023-03-29T07:55:04.872Z"
   },
   {
    "duration": 26,
    "start_time": "2023-03-29T07:55:04.907Z"
   },
   {
    "duration": 6,
    "start_time": "2023-03-29T07:55:04.936Z"
   },
   {
    "duration": 232,
    "start_time": "2023-03-29T07:55:04.944Z"
   },
   {
    "duration": 9,
    "start_time": "2023-03-29T07:55:05.178Z"
   },
   {
    "duration": 21,
    "start_time": "2023-03-29T07:55:05.188Z"
   },
   {
    "duration": 56,
    "start_time": "2023-03-29T07:55:05.211Z"
   },
   {
    "duration": 130,
    "start_time": "2023-03-29T07:55:05.269Z"
   },
   {
    "duration": 0,
    "start_time": "2023-03-29T07:55:05.402Z"
   },
   {
    "duration": 0,
    "start_time": "2023-03-29T07:55:05.404Z"
   },
   {
    "duration": 0,
    "start_time": "2023-03-29T07:55:05.405Z"
   },
   {
    "duration": 0,
    "start_time": "2023-03-29T07:55:05.406Z"
   },
   {
    "duration": 0,
    "start_time": "2023-03-29T07:55:05.407Z"
   },
   {
    "duration": 0,
    "start_time": "2023-03-29T07:55:05.409Z"
   },
   {
    "duration": 0,
    "start_time": "2023-03-29T07:55:05.424Z"
   },
   {
    "duration": 0,
    "start_time": "2023-03-29T07:55:05.425Z"
   },
   {
    "duration": 0,
    "start_time": "2023-03-29T07:55:05.427Z"
   },
   {
    "duration": 0,
    "start_time": "2023-03-29T07:55:05.428Z"
   },
   {
    "duration": 0,
    "start_time": "2023-03-29T07:55:05.429Z"
   },
   {
    "duration": 0,
    "start_time": "2023-03-29T07:55:05.431Z"
   },
   {
    "duration": 0,
    "start_time": "2023-03-29T07:55:05.432Z"
   },
   {
    "duration": 0,
    "start_time": "2023-03-29T07:55:05.433Z"
   },
   {
    "duration": 0,
    "start_time": "2023-03-29T07:55:05.435Z"
   },
   {
    "duration": 0,
    "start_time": "2023-03-29T07:55:05.436Z"
   },
   {
    "duration": 0,
    "start_time": "2023-03-29T07:55:05.438Z"
   },
   {
    "duration": 0,
    "start_time": "2023-03-29T07:55:05.439Z"
   },
   {
    "duration": 0,
    "start_time": "2023-03-29T07:55:05.440Z"
   },
   {
    "duration": 0,
    "start_time": "2023-03-29T07:55:05.442Z"
   },
   {
    "duration": 0,
    "start_time": "2023-03-29T07:55:05.443Z"
   },
   {
    "duration": 0,
    "start_time": "2023-03-29T07:55:05.445Z"
   },
   {
    "duration": 0,
    "start_time": "2023-03-29T07:55:05.446Z"
   },
   {
    "duration": 33,
    "start_time": "2023-03-29T07:55:19.953Z"
   },
   {
    "duration": 1263,
    "start_time": "2023-03-29T07:58:10.737Z"
   },
   {
    "duration": 34,
    "start_time": "2023-03-29T07:58:12.002Z"
   },
   {
    "duration": 27,
    "start_time": "2023-03-29T07:58:12.038Z"
   },
   {
    "duration": 7,
    "start_time": "2023-03-29T07:58:12.068Z"
   },
   {
    "duration": 449,
    "start_time": "2023-03-29T07:58:12.077Z"
   },
   {
    "duration": 8,
    "start_time": "2023-03-29T07:58:12.527Z"
   },
   {
    "duration": 95,
    "start_time": "2023-03-29T07:58:12.536Z"
   },
   {
    "duration": 10,
    "start_time": "2023-03-29T07:58:12.633Z"
   },
   {
    "duration": 19,
    "start_time": "2023-03-29T07:58:12.645Z"
   },
   {
    "duration": 66,
    "start_time": "2023-03-29T07:58:12.666Z"
   },
   {
    "duration": 112,
    "start_time": "2023-03-29T07:58:12.734Z"
   },
   {
    "duration": 15,
    "start_time": "2023-03-29T07:58:12.848Z"
   },
   {
    "duration": 58,
    "start_time": "2023-03-29T07:58:12.865Z"
   },
   {
    "duration": 3288,
    "start_time": "2023-03-29T07:58:12.925Z"
   },
   {
    "duration": 358,
    "start_time": "2023-03-29T07:58:16.215Z"
   },
   {
    "duration": 3,
    "start_time": "2023-03-29T07:58:16.575Z"
   },
   {
    "duration": 8,
    "start_time": "2023-03-29T07:58:16.580Z"
   },
   {
    "duration": 285,
    "start_time": "2023-03-29T07:58:16.590Z"
   },
   {
    "duration": 162,
    "start_time": "2023-03-29T07:58:16.876Z"
   },
   {
    "duration": 195,
    "start_time": "2023-03-29T07:58:17.039Z"
   },
   {
    "duration": 182,
    "start_time": "2023-03-29T07:58:17.235Z"
   },
   {
    "duration": 184,
    "start_time": "2023-03-29T07:58:17.422Z"
   },
   {
    "duration": 168,
    "start_time": "2023-03-29T07:58:17.608Z"
   },
   {
    "duration": 5,
    "start_time": "2023-03-29T07:58:17.778Z"
   },
   {
    "duration": 16,
    "start_time": "2023-03-29T07:58:17.785Z"
   },
   {
    "duration": 20,
    "start_time": "2023-03-29T07:58:17.803Z"
   },
   {
    "duration": 8,
    "start_time": "2023-03-29T07:58:17.825Z"
   },
   {
    "duration": 7,
    "start_time": "2023-03-29T07:58:17.836Z"
   },
   {
    "duration": 16,
    "start_time": "2023-03-29T07:58:17.845Z"
   },
   {
    "duration": 13,
    "start_time": "2023-03-29T07:58:17.863Z"
   },
   {
    "duration": 50,
    "start_time": "2023-03-29T07:58:17.878Z"
   },
   {
    "duration": 14,
    "start_time": "2023-03-29T07:58:17.930Z"
   },
   {
    "duration": 16,
    "start_time": "2023-03-29T07:59:00.747Z"
   },
   {
    "duration": 1237,
    "start_time": "2023-03-29T07:59:26.525Z"
   },
   {
    "duration": 1177,
    "start_time": "2023-03-29T07:59:40.690Z"
   },
   {
    "duration": 34,
    "start_time": "2023-03-29T07:59:42.211Z"
   },
   {
    "duration": 26,
    "start_time": "2023-03-29T07:59:44.027Z"
   },
   {
    "duration": 8,
    "start_time": "2023-03-29T07:59:44.684Z"
   },
   {
    "duration": 222,
    "start_time": "2023-03-29T07:59:47.969Z"
   },
   {
    "duration": 8,
    "start_time": "2023-03-29T07:59:49.300Z"
   },
   {
    "duration": 40,
    "start_time": "2023-03-29T07:59:51.354Z"
   },
   {
    "duration": 11,
    "start_time": "2023-03-29T07:59:52.654Z"
   },
   {
    "duration": 6,
    "start_time": "2023-03-29T07:59:54.624Z"
   },
   {
    "duration": 14,
    "start_time": "2023-03-29T07:59:58.594Z"
   },
   {
    "duration": 1390,
    "start_time": "2023-03-29T08:05:04.797Z"
   },
   {
    "duration": 1547,
    "start_time": "2023-03-29T08:05:17.894Z"
   },
   {
    "duration": 34,
    "start_time": "2023-03-29T08:05:19.443Z"
   },
   {
    "duration": 27,
    "start_time": "2023-03-29T08:05:19.522Z"
   },
   {
    "duration": 8,
    "start_time": "2023-03-29T08:05:19.551Z"
   },
   {
    "duration": 482,
    "start_time": "2023-03-29T08:05:19.562Z"
   },
   {
    "duration": 9,
    "start_time": "2023-03-29T08:05:20.045Z"
   },
   {
    "duration": 201,
    "start_time": "2023-03-29T08:05:20.056Z"
   },
   {
    "duration": 66,
    "start_time": "2023-03-29T08:05:20.259Z"
   },
   {
    "duration": 8,
    "start_time": "2023-03-29T08:05:20.327Z"
   },
   {
    "duration": 25,
    "start_time": "2023-03-29T08:05:20.337Z"
   },
   {
    "duration": 99,
    "start_time": "2023-03-29T08:05:20.365Z"
   },
   {
    "duration": 69,
    "start_time": "2023-03-29T08:05:20.466Z"
   },
   {
    "duration": 7,
    "start_time": "2023-03-29T08:05:20.537Z"
   },
   {
    "duration": 2847,
    "start_time": "2023-03-29T08:05:20.548Z"
   },
   {
    "duration": 366,
    "start_time": "2023-03-29T08:05:23.397Z"
   },
   {
    "duration": 3,
    "start_time": "2023-03-29T08:05:23.765Z"
   },
   {
    "duration": 13,
    "start_time": "2023-03-29T08:05:23.770Z"
   },
   {
    "duration": 273,
    "start_time": "2023-03-29T08:05:23.785Z"
   },
   {
    "duration": 169,
    "start_time": "2023-03-29T08:05:24.060Z"
   },
   {
    "duration": 201,
    "start_time": "2023-03-29T08:05:24.232Z"
   },
   {
    "duration": 176,
    "start_time": "2023-03-29T08:05:24.435Z"
   },
   {
    "duration": 185,
    "start_time": "2023-03-29T08:05:24.613Z"
   },
   {
    "duration": 170,
    "start_time": "2023-03-29T08:05:24.800Z"
   },
   {
    "duration": 5,
    "start_time": "2023-03-29T08:05:24.971Z"
   },
   {
    "duration": 11,
    "start_time": "2023-03-29T08:05:24.979Z"
   },
   {
    "duration": 11,
    "start_time": "2023-03-29T08:05:24.993Z"
   },
   {
    "duration": 11,
    "start_time": "2023-03-29T08:05:25.024Z"
   },
   {
    "duration": 10,
    "start_time": "2023-03-29T08:05:25.037Z"
   },
   {
    "duration": 23,
    "start_time": "2023-03-29T08:05:25.050Z"
   },
   {
    "duration": 48,
    "start_time": "2023-03-29T08:05:25.076Z"
   },
   {
    "duration": 14,
    "start_time": "2023-03-29T08:05:25.126Z"
   },
   {
    "duration": 14,
    "start_time": "2023-03-29T08:05:25.142Z"
   },
   {
    "duration": 1592,
    "start_time": "2023-03-29T08:08:36.855Z"
   },
   {
    "duration": 80,
    "start_time": "2023-03-29T08:08:38.449Z"
   },
   {
    "duration": 27,
    "start_time": "2023-03-29T08:08:38.531Z"
   },
   {
    "duration": 7,
    "start_time": "2023-03-29T08:08:38.560Z"
   },
   {
    "duration": 501,
    "start_time": "2023-03-29T08:08:38.624Z"
   },
   {
    "duration": 9,
    "start_time": "2023-03-29T08:08:39.127Z"
   },
   {
    "duration": 134,
    "start_time": "2023-03-29T08:08:39.137Z"
   },
   {
    "duration": 51,
    "start_time": "2023-03-29T08:08:39.273Z"
   },
   {
    "duration": 11,
    "start_time": "2023-03-29T08:08:39.326Z"
   },
   {
    "duration": 16,
    "start_time": "2023-03-29T08:08:39.340Z"
   },
   {
    "duration": 16,
    "start_time": "2023-03-29T08:08:39.358Z"
   },
   {
    "duration": 59,
    "start_time": "2023-03-29T08:08:39.376Z"
   },
   {
    "duration": 14,
    "start_time": "2023-03-29T08:08:39.437Z"
   },
   {
    "duration": 4,
    "start_time": "2023-03-29T08:08:39.453Z"
   },
   {
    "duration": 2717,
    "start_time": "2023-03-29T08:08:39.459Z"
   },
   {
    "duration": 377,
    "start_time": "2023-03-29T08:08:42.177Z"
   },
   {
    "duration": 4,
    "start_time": "2023-03-29T08:08:42.556Z"
   },
   {
    "duration": 13,
    "start_time": "2023-03-29T08:08:42.561Z"
   },
   {
    "duration": 272,
    "start_time": "2023-03-29T08:08:42.576Z"
   },
   {
    "duration": 159,
    "start_time": "2023-03-29T08:08:42.850Z"
   },
   {
    "duration": 192,
    "start_time": "2023-03-29T08:08:43.011Z"
   },
   {
    "duration": 175,
    "start_time": "2023-03-29T08:08:43.205Z"
   },
   {
    "duration": 177,
    "start_time": "2023-03-29T08:08:43.382Z"
   },
   {
    "duration": 167,
    "start_time": "2023-03-29T08:08:43.561Z"
   },
   {
    "duration": 5,
    "start_time": "2023-03-29T08:08:43.730Z"
   },
   {
    "duration": 9,
    "start_time": "2023-03-29T08:08:43.737Z"
   },
   {
    "duration": 7,
    "start_time": "2023-03-29T08:08:43.748Z"
   },
   {
    "duration": 9,
    "start_time": "2023-03-29T08:08:43.757Z"
   },
   {
    "duration": 7,
    "start_time": "2023-03-29T08:08:43.767Z"
   },
   {
    "duration": 14,
    "start_time": "2023-03-29T08:08:43.775Z"
   },
   {
    "duration": 14,
    "start_time": "2023-03-29T08:08:43.822Z"
   },
   {
    "duration": 14,
    "start_time": "2023-03-29T08:08:43.838Z"
   },
   {
    "duration": 14,
    "start_time": "2023-03-29T08:08:43.853Z"
   },
   {
    "duration": 1347,
    "start_time": "2023-03-29T08:09:19.830Z"
   },
   {
    "duration": 1613,
    "start_time": "2023-03-29T08:09:26.917Z"
   },
   {
    "duration": 35,
    "start_time": "2023-03-29T08:09:28.533Z"
   },
   {
    "duration": 72,
    "start_time": "2023-03-29T08:09:28.569Z"
   },
   {
    "duration": 8,
    "start_time": "2023-03-29T08:09:28.643Z"
   },
   {
    "duration": 569,
    "start_time": "2023-03-29T08:09:28.653Z"
   },
   {
    "duration": 12,
    "start_time": "2023-03-29T08:09:29.225Z"
   },
   {
    "duration": 194,
    "start_time": "2023-03-29T08:09:29.240Z"
   },
   {
    "duration": 9,
    "start_time": "2023-03-29T08:09:29.436Z"
   },
   {
    "duration": 81,
    "start_time": "2023-03-29T08:09:29.447Z"
   },
   {
    "duration": 9,
    "start_time": "2023-03-29T08:09:29.532Z"
   },
   {
    "duration": 16,
    "start_time": "2023-03-29T08:09:29.543Z"
   },
   {
    "duration": 162,
    "start_time": "2023-03-29T08:09:29.561Z"
   },
   {
    "duration": 17,
    "start_time": "2023-03-29T08:09:29.726Z"
   },
   {
    "duration": 5,
    "start_time": "2023-03-29T08:09:29.745Z"
   },
   {
    "duration": 2761,
    "start_time": "2023-03-29T08:09:29.752Z"
   },
   {
    "duration": 347,
    "start_time": "2023-03-29T08:09:32.523Z"
   },
   {
    "duration": 4,
    "start_time": "2023-03-29T08:09:32.871Z"
   },
   {
    "duration": 20,
    "start_time": "2023-03-29T08:09:32.876Z"
   },
   {
    "duration": 266,
    "start_time": "2023-03-29T08:09:32.897Z"
   },
   {
    "duration": 172,
    "start_time": "2023-03-29T08:09:33.165Z"
   },
   {
    "duration": 197,
    "start_time": "2023-03-29T08:09:33.339Z"
   },
   {
    "duration": 172,
    "start_time": "2023-03-29T08:09:33.538Z"
   },
   {
    "duration": 170,
    "start_time": "2023-03-29T08:09:33.713Z"
   },
   {
    "duration": 162,
    "start_time": "2023-03-29T08:09:33.885Z"
   },
   {
    "duration": 5,
    "start_time": "2023-03-29T08:09:34.049Z"
   },
   {
    "duration": 9,
    "start_time": "2023-03-29T08:09:34.056Z"
   },
   {
    "duration": 8,
    "start_time": "2023-03-29T08:09:34.067Z"
   },
   {
    "duration": 8,
    "start_time": "2023-03-29T08:09:34.079Z"
   },
   {
    "duration": 38,
    "start_time": "2023-03-29T08:09:34.089Z"
   },
   {
    "duration": 19,
    "start_time": "2023-03-29T08:09:34.128Z"
   },
   {
    "duration": 24,
    "start_time": "2023-03-29T08:09:34.149Z"
   },
   {
    "duration": 18,
    "start_time": "2023-03-29T08:09:34.175Z"
   },
   {
    "duration": 38,
    "start_time": "2023-03-29T08:09:34.195Z"
   },
   {
    "duration": 1248,
    "start_time": "2023-03-29T08:10:33.937Z"
   },
   {
    "duration": 1552,
    "start_time": "2023-03-29T08:10:45.917Z"
   },
   {
    "duration": 34,
    "start_time": "2023-03-29T08:10:47.523Z"
   },
   {
    "duration": 71,
    "start_time": "2023-03-29T08:10:47.559Z"
   },
   {
    "duration": 7,
    "start_time": "2023-03-29T08:10:47.632Z"
   },
   {
    "duration": 496,
    "start_time": "2023-03-29T08:10:47.641Z"
   },
   {
    "duration": 9,
    "start_time": "2023-03-29T08:10:48.138Z"
   },
   {
    "duration": 177,
    "start_time": "2023-03-29T08:10:48.148Z"
   },
   {
    "duration": 8,
    "start_time": "2023-03-29T08:10:48.327Z"
   },
   {
    "duration": 12,
    "start_time": "2023-03-29T08:10:48.336Z"
   },
   {
    "duration": 7,
    "start_time": "2023-03-29T08:10:48.350Z"
   },
   {
    "duration": 67,
    "start_time": "2023-03-29T08:10:48.358Z"
   },
   {
    "duration": 40,
    "start_time": "2023-03-29T08:10:48.427Z"
   },
   {
    "duration": 12,
    "start_time": "2023-03-29T08:10:48.468Z"
   },
   {
    "duration": 5,
    "start_time": "2023-03-29T08:10:48.481Z"
   },
   {
    "duration": 2757,
    "start_time": "2023-03-29T08:10:48.487Z"
   },
   {
    "duration": 335,
    "start_time": "2023-03-29T08:10:51.246Z"
   },
   {
    "duration": 4,
    "start_time": "2023-03-29T08:10:51.583Z"
   },
   {
    "duration": 9,
    "start_time": "2023-03-29T08:10:51.589Z"
   },
   {
    "duration": 279,
    "start_time": "2023-03-29T08:10:51.599Z"
   },
   {
    "duration": 163,
    "start_time": "2023-03-29T08:10:51.880Z"
   },
   {
    "duration": 184,
    "start_time": "2023-03-29T08:10:52.045Z"
   },
   {
    "duration": 169,
    "start_time": "2023-03-29T08:10:52.231Z"
   },
   {
    "duration": 172,
    "start_time": "2023-03-29T08:10:52.402Z"
   },
   {
    "duration": 167,
    "start_time": "2023-03-29T08:10:52.576Z"
   },
   {
    "duration": 8,
    "start_time": "2023-03-29T08:10:52.745Z"
   },
   {
    "duration": 11,
    "start_time": "2023-03-29T08:10:52.764Z"
   },
   {
    "duration": 9,
    "start_time": "2023-03-29T08:10:52.778Z"
   },
   {
    "duration": 13,
    "start_time": "2023-03-29T08:10:52.791Z"
   },
   {
    "duration": 23,
    "start_time": "2023-03-29T08:10:52.806Z"
   },
   {
    "duration": 13,
    "start_time": "2023-03-29T08:10:52.831Z"
   },
   {
    "duration": 17,
    "start_time": "2023-03-29T08:10:52.846Z"
   },
   {
    "duration": 11,
    "start_time": "2023-03-29T08:10:52.865Z"
   },
   {
    "duration": 48,
    "start_time": "2023-03-29T08:10:52.878Z"
   },
   {
    "duration": 1285,
    "start_time": "2023-03-29T08:15:57.551Z"
   },
   {
    "duration": 1731,
    "start_time": "2023-03-29T08:16:05.999Z"
   },
   {
    "duration": 37,
    "start_time": "2023-03-29T08:16:07.732Z"
   },
   {
    "duration": 84,
    "start_time": "2023-03-29T08:16:07.771Z"
   },
   {
    "duration": 10,
    "start_time": "2023-03-29T08:16:07.857Z"
   },
   {
    "duration": 471,
    "start_time": "2023-03-29T08:16:07.868Z"
   },
   {
    "duration": 11,
    "start_time": "2023-03-29T08:16:08.341Z"
   },
   {
    "duration": 206,
    "start_time": "2023-03-29T08:16:08.355Z"
   },
   {
    "duration": 62,
    "start_time": "2023-03-29T08:16:08.563Z"
   },
   {
    "duration": 15,
    "start_time": "2023-03-29T08:16:08.627Z"
   },
   {
    "duration": 7,
    "start_time": "2023-03-29T08:16:08.644Z"
   },
   {
    "duration": 18,
    "start_time": "2023-03-29T08:16:08.652Z"
   },
   {
    "duration": 100,
    "start_time": "2023-03-29T08:16:08.724Z"
   },
   {
    "duration": 16,
    "start_time": "2023-03-29T08:16:08.826Z"
   },
   {
    "duration": 7,
    "start_time": "2023-03-29T08:16:08.844Z"
   },
   {
    "duration": 2844,
    "start_time": "2023-03-29T08:16:08.853Z"
   },
   {
    "duration": 371,
    "start_time": "2023-03-29T08:16:11.699Z"
   },
   {
    "duration": 4,
    "start_time": "2023-03-29T08:16:12.073Z"
   },
   {
    "duration": 24,
    "start_time": "2023-03-29T08:16:12.079Z"
   },
   {
    "duration": 244,
    "start_time": "2023-03-29T08:16:12.104Z"
   },
   {
    "duration": 154,
    "start_time": "2023-03-29T08:16:12.349Z"
   },
   {
    "duration": 184,
    "start_time": "2023-03-29T08:16:12.505Z"
   },
   {
    "duration": 170,
    "start_time": "2023-03-29T08:16:12.690Z"
   },
   {
    "duration": 175,
    "start_time": "2023-03-29T08:16:12.861Z"
   },
   {
    "duration": 159,
    "start_time": "2023-03-29T08:16:13.038Z"
   },
   {
    "duration": 5,
    "start_time": "2023-03-29T08:16:13.199Z"
   },
   {
    "duration": 20,
    "start_time": "2023-03-29T08:16:13.206Z"
   },
   {
    "duration": 9,
    "start_time": "2023-03-29T08:16:13.227Z"
   },
   {
    "duration": 6,
    "start_time": "2023-03-29T08:16:13.240Z"
   },
   {
    "duration": 6,
    "start_time": "2023-03-29T08:16:13.247Z"
   },
   {
    "duration": 14,
    "start_time": "2023-03-29T08:16:13.255Z"
   },
   {
    "duration": 12,
    "start_time": "2023-03-29T08:16:13.271Z"
   },
   {
    "duration": 51,
    "start_time": "2023-03-29T08:16:13.285Z"
   },
   {
    "duration": 14,
    "start_time": "2023-03-29T08:16:13.337Z"
   },
   {
    "duration": 103,
    "start_time": "2023-03-29T08:19:59.398Z"
   },
   {
    "duration": 1253,
    "start_time": "2023-03-29T08:20:05.799Z"
   },
   {
    "duration": 75,
    "start_time": "2023-03-29T08:20:07.054Z"
   },
   {
    "duration": 26,
    "start_time": "2023-03-29T08:20:07.130Z"
   },
   {
    "duration": 6,
    "start_time": "2023-03-29T08:20:07.158Z"
   },
   {
    "duration": 477,
    "start_time": "2023-03-29T08:20:07.166Z"
   },
   {
    "duration": 9,
    "start_time": "2023-03-29T08:20:07.644Z"
   },
   {
    "duration": 195,
    "start_time": "2023-03-29T08:20:07.654Z"
   },
   {
    "duration": 6,
    "start_time": "2023-03-29T08:20:07.851Z"
   },
   {
    "duration": 10,
    "start_time": "2023-03-29T08:20:07.859Z"
   },
   {
    "duration": 62,
    "start_time": "2023-03-29T08:20:07.871Z"
   },
   {
    "duration": 6,
    "start_time": "2023-03-29T08:20:07.935Z"
   },
   {
    "duration": 14,
    "start_time": "2023-03-29T08:20:07.943Z"
   },
   {
    "duration": 196,
    "start_time": "2023-03-29T08:20:07.959Z"
   },
   {
    "duration": 0,
    "start_time": "2023-03-29T08:20:08.157Z"
   },
   {
    "duration": 0,
    "start_time": "2023-03-29T08:20:08.158Z"
   },
   {
    "duration": 0,
    "start_time": "2023-03-29T08:20:08.159Z"
   },
   {
    "duration": 0,
    "start_time": "2023-03-29T08:20:08.160Z"
   },
   {
    "duration": 0,
    "start_time": "2023-03-29T08:20:08.162Z"
   },
   {
    "duration": 0,
    "start_time": "2023-03-29T08:20:08.163Z"
   },
   {
    "duration": 0,
    "start_time": "2023-03-29T08:20:08.164Z"
   },
   {
    "duration": 0,
    "start_time": "2023-03-29T08:20:08.165Z"
   },
   {
    "duration": 0,
    "start_time": "2023-03-29T08:20:08.166Z"
   },
   {
    "duration": 0,
    "start_time": "2023-03-29T08:20:08.223Z"
   },
   {
    "duration": 0,
    "start_time": "2023-03-29T08:20:08.225Z"
   },
   {
    "duration": 0,
    "start_time": "2023-03-29T08:20:08.226Z"
   },
   {
    "duration": 0,
    "start_time": "2023-03-29T08:20:08.227Z"
   },
   {
    "duration": 0,
    "start_time": "2023-03-29T08:20:08.228Z"
   },
   {
    "duration": 0,
    "start_time": "2023-03-29T08:20:08.229Z"
   },
   {
    "duration": 0,
    "start_time": "2023-03-29T08:20:08.231Z"
   },
   {
    "duration": 0,
    "start_time": "2023-03-29T08:20:08.232Z"
   },
   {
    "duration": 0,
    "start_time": "2023-03-29T08:20:08.233Z"
   },
   {
    "duration": 0,
    "start_time": "2023-03-29T08:20:08.234Z"
   },
   {
    "duration": 0,
    "start_time": "2023-03-29T08:20:08.235Z"
   },
   {
    "duration": 0,
    "start_time": "2023-03-29T08:20:08.236Z"
   },
   {
    "duration": 0,
    "start_time": "2023-03-29T08:20:08.238Z"
   },
   {
    "duration": 1132,
    "start_time": "2023-03-29T08:20:35.311Z"
   },
   {
    "duration": 1704,
    "start_time": "2023-03-29T08:20:59.425Z"
   },
   {
    "duration": 34,
    "start_time": "2023-03-29T08:21:01.131Z"
   },
   {
    "duration": 67,
    "start_time": "2023-03-29T08:21:01.167Z"
   },
   {
    "duration": 7,
    "start_time": "2023-03-29T08:21:01.236Z"
   },
   {
    "duration": 489,
    "start_time": "2023-03-29T08:21:01.244Z"
   },
   {
    "duration": 8,
    "start_time": "2023-03-29T08:21:01.734Z"
   },
   {
    "duration": 184,
    "start_time": "2023-03-29T08:21:01.743Z"
   },
   {
    "duration": 6,
    "start_time": "2023-03-29T08:21:01.929Z"
   },
   {
    "duration": 9,
    "start_time": "2023-03-29T08:21:01.936Z"
   },
   {
    "duration": 103,
    "start_time": "2023-03-29T08:21:01.948Z"
   },
   {
    "duration": 0,
    "start_time": "2023-03-29T08:21:02.053Z"
   },
   {
    "duration": 0,
    "start_time": "2023-03-29T08:21:02.054Z"
   },
   {
    "duration": 0,
    "start_time": "2023-03-29T08:21:02.055Z"
   },
   {
    "duration": 0,
    "start_time": "2023-03-29T08:21:02.056Z"
   },
   {
    "duration": 0,
    "start_time": "2023-03-29T08:21:02.057Z"
   },
   {
    "duration": 0,
    "start_time": "2023-03-29T08:21:02.058Z"
   },
   {
    "duration": 0,
    "start_time": "2023-03-29T08:21:02.059Z"
   },
   {
    "duration": 0,
    "start_time": "2023-03-29T08:21:02.060Z"
   },
   {
    "duration": 0,
    "start_time": "2023-03-29T08:21:02.061Z"
   },
   {
    "duration": 0,
    "start_time": "2023-03-29T08:21:02.063Z"
   },
   {
    "duration": 0,
    "start_time": "2023-03-29T08:21:02.064Z"
   },
   {
    "duration": 0,
    "start_time": "2023-03-29T08:21:02.065Z"
   },
   {
    "duration": 0,
    "start_time": "2023-03-29T08:21:02.066Z"
   },
   {
    "duration": 0,
    "start_time": "2023-03-29T08:21:02.067Z"
   },
   {
    "duration": 0,
    "start_time": "2023-03-29T08:21:02.068Z"
   },
   {
    "duration": 0,
    "start_time": "2023-03-29T08:21:02.069Z"
   },
   {
    "duration": 0,
    "start_time": "2023-03-29T08:21:02.070Z"
   },
   {
    "duration": 0,
    "start_time": "2023-03-29T08:21:02.070Z"
   },
   {
    "duration": 0,
    "start_time": "2023-03-29T08:21:02.071Z"
   },
   {
    "duration": 0,
    "start_time": "2023-03-29T08:21:02.072Z"
   },
   {
    "duration": 0,
    "start_time": "2023-03-29T08:21:02.073Z"
   },
   {
    "duration": 0,
    "start_time": "2023-03-29T08:21:02.074Z"
   },
   {
    "duration": 0,
    "start_time": "2023-03-29T08:21:02.075Z"
   },
   {
    "duration": 0,
    "start_time": "2023-03-29T08:21:02.076Z"
   },
   {
    "duration": 0,
    "start_time": "2023-03-29T08:21:02.077Z"
   },
   {
    "duration": 6,
    "start_time": "2023-03-29T08:21:21.388Z"
   },
   {
    "duration": 100,
    "start_time": "2023-03-29T08:22:31.805Z"
   },
   {
    "duration": 54,
    "start_time": "2023-03-29T08:24:21.132Z"
   },
   {
    "duration": 19,
    "start_time": "2023-03-29T08:24:30.476Z"
   },
   {
    "duration": 12,
    "start_time": "2023-03-29T08:24:51.268Z"
   },
   {
    "duration": 10,
    "start_time": "2023-03-29T08:24:56.593Z"
   },
   {
    "duration": 23,
    "start_time": "2023-03-29T08:25:09.352Z"
   },
   {
    "duration": 41,
    "start_time": "2023-03-29T08:25:13.739Z"
   },
   {
    "duration": 22,
    "start_time": "2023-03-29T08:25:21.743Z"
   },
   {
    "duration": 22,
    "start_time": "2023-03-29T08:25:25.300Z"
   },
   {
    "duration": 21,
    "start_time": "2023-03-29T08:25:28.898Z"
   },
   {
    "duration": 7,
    "start_time": "2023-03-29T08:26:17.188Z"
   },
   {
    "duration": 7,
    "start_time": "2023-03-29T08:26:50.037Z"
   },
   {
    "duration": 1180,
    "start_time": "2023-03-29T08:27:05.564Z"
   },
   {
    "duration": 8,
    "start_time": "2023-03-29T08:28:25.942Z"
   },
   {
    "duration": 11,
    "start_time": "2023-03-29T08:38:19.701Z"
   },
   {
    "duration": 7,
    "start_time": "2023-03-29T08:46:03.739Z"
   },
   {
    "duration": 8,
    "start_time": "2023-03-29T08:48:27.502Z"
   },
   {
    "duration": 42,
    "start_time": "2023-03-29T09:24:52.470Z"
   },
   {
    "duration": 16,
    "start_time": "2023-03-29T09:25:13.470Z"
   },
   {
    "duration": 7,
    "start_time": "2023-03-29T09:25:21.811Z"
   },
   {
    "duration": 18,
    "start_time": "2023-03-29T09:25:23.053Z"
   },
   {
    "duration": 40,
    "start_time": "2023-03-29T09:25:26.785Z"
   },
   {
    "duration": 16,
    "start_time": "2023-03-29T09:25:28.847Z"
   },
   {
    "duration": 1100,
    "start_time": "2023-03-29T10:21:35.058Z"
   },
   {
    "duration": 33,
    "start_time": "2023-03-29T10:21:36.160Z"
   },
   {
    "duration": 24,
    "start_time": "2023-03-29T10:21:36.195Z"
   },
   {
    "duration": 6,
    "start_time": "2023-03-29T10:21:36.222Z"
   },
   {
    "duration": 217,
    "start_time": "2023-03-29T10:21:36.230Z"
   },
   {
    "duration": 81,
    "start_time": "2023-03-29T10:21:36.449Z"
   },
   {
    "duration": 10,
    "start_time": "2023-03-29T10:21:36.532Z"
   },
   {
    "duration": 30,
    "start_time": "2023-03-29T10:21:36.544Z"
   },
   {
    "duration": 24,
    "start_time": "2023-03-29T10:21:36.576Z"
   },
   {
    "duration": 30,
    "start_time": "2023-03-29T10:21:36.603Z"
   },
   {
    "duration": 60,
    "start_time": "2023-03-29T10:21:36.635Z"
   },
   {
    "duration": 47,
    "start_time": "2023-03-29T10:21:36.696Z"
   },
   {
    "duration": 32,
    "start_time": "2023-03-29T10:21:36.745Z"
   },
   {
    "duration": 2776,
    "start_time": "2023-03-29T10:21:36.779Z"
   },
   {
    "duration": 705,
    "start_time": "2023-03-29T10:21:39.558Z"
   },
   {
    "duration": 5,
    "start_time": "2023-03-29T10:21:40.265Z"
   },
   {
    "duration": 61,
    "start_time": "2023-03-29T10:21:40.272Z"
   },
   {
    "duration": 528,
    "start_time": "2023-03-29T10:21:40.335Z"
   },
   {
    "duration": 397,
    "start_time": "2023-03-29T10:21:40.864Z"
   },
   {
    "duration": 223,
    "start_time": "2023-03-29T10:21:41.263Z"
   },
   {
    "duration": 176,
    "start_time": "2023-03-29T10:21:41.488Z"
   },
   {
    "duration": 174,
    "start_time": "2023-03-29T10:21:41.666Z"
   },
   {
    "duration": 187,
    "start_time": "2023-03-29T10:21:41.842Z"
   },
   {
    "duration": 6,
    "start_time": "2023-03-29T10:21:42.031Z"
   },
   {
    "duration": 13,
    "start_time": "2023-03-29T10:21:42.038Z"
   },
   {
    "duration": 8,
    "start_time": "2023-03-29T10:21:42.053Z"
   },
   {
    "duration": 7,
    "start_time": "2023-03-29T10:21:42.063Z"
   },
   {
    "duration": 7,
    "start_time": "2023-03-29T10:21:42.074Z"
   },
   {
    "duration": 48,
    "start_time": "2023-03-29T10:21:42.083Z"
   },
   {
    "duration": 14,
    "start_time": "2023-03-29T10:21:42.133Z"
   },
   {
    "duration": 14,
    "start_time": "2023-03-29T10:21:42.149Z"
   },
   {
    "duration": 16,
    "start_time": "2023-03-29T10:21:42.166Z"
   },
   {
    "duration": 421,
    "start_time": "2023-03-29T11:24:30.106Z"
   },
   {
    "duration": 376,
    "start_time": "2023-03-29T11:24:57.584Z"
   },
   {
    "duration": 25,
    "start_time": "2023-03-29T11:37:52.415Z"
   },
   {
    "duration": 31,
    "start_time": "2023-03-29T11:38:40.047Z"
   },
   {
    "duration": 18,
    "start_time": "2023-03-29T11:38:56.071Z"
   },
   {
    "duration": 30,
    "start_time": "2023-03-29T11:39:03.840Z"
   },
   {
    "duration": 81,
    "start_time": "2023-03-29T11:39:20.344Z"
   },
   {
    "duration": 1273,
    "start_time": "2023-03-29T11:39:25.780Z"
   },
   {
    "duration": 34,
    "start_time": "2023-03-29T11:39:27.058Z"
   },
   {
    "duration": 32,
    "start_time": "2023-03-29T11:39:27.094Z"
   },
   {
    "duration": 17,
    "start_time": "2023-03-29T11:39:27.136Z"
   },
   {
    "duration": 242,
    "start_time": "2023-03-29T11:39:27.156Z"
   },
   {
    "duration": 102,
    "start_time": "2023-03-29T11:39:27.400Z"
   },
   {
    "duration": 7,
    "start_time": "2023-03-29T11:39:27.504Z"
   },
   {
    "duration": 29,
    "start_time": "2023-03-29T11:39:27.523Z"
   },
   {
    "duration": 7,
    "start_time": "2023-03-29T11:39:27.555Z"
   },
   {
    "duration": 29,
    "start_time": "2023-03-29T11:39:27.566Z"
   },
   {
    "duration": 32,
    "start_time": "2023-03-29T11:39:27.622Z"
   },
   {
    "duration": 100,
    "start_time": "2023-03-29T11:39:27.657Z"
   },
   {
    "duration": 88,
    "start_time": "2023-03-29T11:39:27.761Z"
   },
   {
    "duration": 0,
    "start_time": "2023-03-29T11:39:27.856Z"
   },
   {
    "duration": 0,
    "start_time": "2023-03-29T11:39:27.858Z"
   },
   {
    "duration": 0,
    "start_time": "2023-03-29T11:39:27.859Z"
   },
   {
    "duration": 0,
    "start_time": "2023-03-29T11:39:27.860Z"
   },
   {
    "duration": 0,
    "start_time": "2023-03-29T11:39:27.861Z"
   },
   {
    "duration": 0,
    "start_time": "2023-03-29T11:39:27.862Z"
   },
   {
    "duration": 0,
    "start_time": "2023-03-29T11:39:27.863Z"
   },
   {
    "duration": 0,
    "start_time": "2023-03-29T11:39:27.864Z"
   },
   {
    "duration": 0,
    "start_time": "2023-03-29T11:39:27.865Z"
   },
   {
    "duration": 0,
    "start_time": "2023-03-29T11:39:27.866Z"
   },
   {
    "duration": 0,
    "start_time": "2023-03-29T11:39:27.867Z"
   },
   {
    "duration": 0,
    "start_time": "2023-03-29T11:39:27.869Z"
   },
   {
    "duration": 0,
    "start_time": "2023-03-29T11:39:27.870Z"
   },
   {
    "duration": 0,
    "start_time": "2023-03-29T11:39:27.871Z"
   },
   {
    "duration": 0,
    "start_time": "2023-03-29T11:39:27.872Z"
   },
   {
    "duration": 0,
    "start_time": "2023-03-29T11:39:27.873Z"
   },
   {
    "duration": 0,
    "start_time": "2023-03-29T11:39:27.875Z"
   },
   {
    "duration": 0,
    "start_time": "2023-03-29T11:39:27.876Z"
   },
   {
    "duration": 0,
    "start_time": "2023-03-29T11:39:27.877Z"
   },
   {
    "duration": 0,
    "start_time": "2023-03-29T11:39:27.879Z"
   },
   {
    "duration": 0,
    "start_time": "2023-03-29T11:39:27.880Z"
   },
   {
    "duration": 0,
    "start_time": "2023-03-29T11:39:27.882Z"
   },
   {
    "duration": 445,
    "start_time": "2023-03-29T11:39:48.704Z"
   },
   {
    "duration": 446,
    "start_time": "2023-03-29T11:40:25.842Z"
   },
   {
    "duration": 18,
    "start_time": "2023-03-29T11:41:25.957Z"
   },
   {
    "duration": 469,
    "start_time": "2023-03-29T11:41:35.784Z"
   },
   {
    "duration": 130,
    "start_time": "2023-03-29T11:43:44.208Z"
   },
   {
    "duration": 1808,
    "start_time": "2023-03-29T11:44:56.239Z"
   },
   {
    "duration": 90,
    "start_time": "2023-03-29T11:44:58.049Z"
   },
   {
    "duration": 84,
    "start_time": "2023-03-29T11:44:58.141Z"
   },
   {
    "duration": 17,
    "start_time": "2023-03-29T11:44:58.233Z"
   },
   {
    "duration": 805,
    "start_time": "2023-03-29T11:44:58.254Z"
   },
   {
    "duration": 270,
    "start_time": "2023-03-29T11:44:59.062Z"
   },
   {
    "duration": 12,
    "start_time": "2023-03-29T11:44:59.334Z"
   },
   {
    "duration": 20,
    "start_time": "2023-03-29T11:44:59.349Z"
   },
   {
    "duration": 70,
    "start_time": "2023-03-29T11:44:59.372Z"
   },
   {
    "duration": 21,
    "start_time": "2023-03-29T11:44:59.445Z"
   },
   {
    "duration": 71,
    "start_time": "2023-03-29T11:44:59.467Z"
   },
   {
    "duration": 29,
    "start_time": "2023-03-29T11:44:59.540Z"
   },
   {
    "duration": 97,
    "start_time": "2023-03-29T11:44:59.571Z"
   },
   {
    "duration": 0,
    "start_time": "2023-03-29T11:44:59.670Z"
   },
   {
    "duration": 1,
    "start_time": "2023-03-29T11:44:59.671Z"
   },
   {
    "duration": 0,
    "start_time": "2023-03-29T11:44:59.673Z"
   },
   {
    "duration": 0,
    "start_time": "2023-03-29T11:44:59.674Z"
   },
   {
    "duration": 0,
    "start_time": "2023-03-29T11:44:59.675Z"
   },
   {
    "duration": 0,
    "start_time": "2023-03-29T11:44:59.676Z"
   },
   {
    "duration": 0,
    "start_time": "2023-03-29T11:44:59.677Z"
   },
   {
    "duration": 0,
    "start_time": "2023-03-29T11:44:59.679Z"
   },
   {
    "duration": 0,
    "start_time": "2023-03-29T11:44:59.680Z"
   },
   {
    "duration": 0,
    "start_time": "2023-03-29T11:44:59.681Z"
   },
   {
    "duration": 0,
    "start_time": "2023-03-29T11:44:59.682Z"
   },
   {
    "duration": 0,
    "start_time": "2023-03-29T11:44:59.683Z"
   },
   {
    "duration": 0,
    "start_time": "2023-03-29T11:44:59.684Z"
   },
   {
    "duration": 0,
    "start_time": "2023-03-29T11:44:59.685Z"
   },
   {
    "duration": 0,
    "start_time": "2023-03-29T11:44:59.687Z"
   },
   {
    "duration": 0,
    "start_time": "2023-03-29T11:44:59.688Z"
   },
   {
    "duration": 1,
    "start_time": "2023-03-29T11:44:59.689Z"
   },
   {
    "duration": 0,
    "start_time": "2023-03-29T11:44:59.691Z"
   },
   {
    "duration": 0,
    "start_time": "2023-03-29T11:44:59.691Z"
   },
   {
    "duration": 0,
    "start_time": "2023-03-29T11:44:59.692Z"
   },
   {
    "duration": 0,
    "start_time": "2023-03-29T11:44:59.693Z"
   },
   {
    "duration": 0,
    "start_time": "2023-03-29T11:44:59.695Z"
   },
   {
    "duration": 420,
    "start_time": "2023-03-29T11:45:17.859Z"
   },
   {
    "duration": 93,
    "start_time": "2023-03-29T11:45:54.596Z"
   },
   {
    "duration": 70,
    "start_time": "2023-03-29T12:07:30.243Z"
   },
   {
    "duration": 53,
    "start_time": "2023-03-29T12:07:57.454Z"
   },
   {
    "duration": 1005,
    "start_time": "2023-03-29T12:19:10.041Z"
   },
   {
    "duration": 142,
    "start_time": "2023-03-29T12:20:05.149Z"
   },
   {
    "duration": 29,
    "start_time": "2023-03-29T12:20:10.048Z"
   },
   {
    "duration": 1070,
    "start_time": "2023-03-29T12:20:17.563Z"
   },
   {
    "duration": 922,
    "start_time": "2023-03-29T12:20:36.566Z"
   },
   {
    "duration": 23,
    "start_time": "2023-03-29T12:22:01.142Z"
   },
   {
    "duration": 5,
    "start_time": "2023-03-29T12:22:04.768Z"
   },
   {
    "duration": 4041,
    "start_time": "2023-03-29T12:22:06.324Z"
   },
   {
    "duration": 175,
    "start_time": "2023-03-29T12:22:35.241Z"
   },
   {
    "duration": 5,
    "start_time": "2023-03-29T12:22:37.941Z"
   },
   {
    "duration": 6,
    "start_time": "2023-03-29T12:22:38.311Z"
   },
   {
    "duration": 192,
    "start_time": "2023-03-29T12:22:40.861Z"
   },
   {
    "duration": 150,
    "start_time": "2023-03-29T12:22:43.678Z"
   },
   {
    "duration": 215,
    "start_time": "2023-03-29T12:22:47.211Z"
   },
   {
    "duration": 181,
    "start_time": "2023-03-29T12:23:27.030Z"
   },
   {
    "duration": 1099,
    "start_time": "2023-03-29T12:24:39.577Z"
   },
   {
    "duration": 366,
    "start_time": "2023-03-29T12:55:26.532Z"
   },
   {
    "duration": 353,
    "start_time": "2023-03-29T12:56:08.396Z"
   },
   {
    "duration": 330,
    "start_time": "2023-03-29T12:56:13.677Z"
   },
   {
    "duration": 295,
    "start_time": "2023-03-29T12:56:33.547Z"
   },
   {
    "duration": 340,
    "start_time": "2023-03-29T12:56:39.724Z"
   },
   {
    "duration": 438,
    "start_time": "2023-03-29T12:57:11.428Z"
   },
   {
    "duration": 320,
    "start_time": "2023-03-29T12:57:27.284Z"
   },
   {
    "duration": 367,
    "start_time": "2023-03-29T12:57:39.819Z"
   },
   {
    "duration": 380,
    "start_time": "2023-03-29T12:57:44.827Z"
   },
   {
    "duration": 377,
    "start_time": "2023-03-29T12:57:49.992Z"
   },
   {
    "duration": 447,
    "start_time": "2023-03-29T13:01:11.662Z"
   },
   {
    "duration": 361,
    "start_time": "2023-03-29T13:01:15.252Z"
   },
   {
    "duration": 406,
    "start_time": "2023-03-29T13:03:00.805Z"
   },
   {
    "duration": 158,
    "start_time": "2023-03-29T13:06:07.358Z"
   },
   {
    "duration": 169,
    "start_time": "2023-03-29T13:06:08.720Z"
   },
   {
    "duration": 146,
    "start_time": "2023-03-29T13:06:09.790Z"
   },
   {
    "duration": 299,
    "start_time": "2023-03-29T13:10:48.007Z"
   },
   {
    "duration": 620,
    "start_time": "2023-03-29T13:11:23.100Z"
   },
   {
    "duration": 488,
    "start_time": "2023-03-29T13:11:29.235Z"
   },
   {
    "duration": 458,
    "start_time": "2023-03-29T13:11:46.534Z"
   },
   {
    "duration": 465,
    "start_time": "2023-03-29T13:11:52.110Z"
   },
   {
    "duration": 426,
    "start_time": "2023-03-29T13:11:56.083Z"
   },
   {
    "duration": 442,
    "start_time": "2023-03-29T13:13:34.459Z"
   },
   {
    "duration": 542,
    "start_time": "2023-03-29T13:14:15.501Z"
   },
   {
    "duration": 525,
    "start_time": "2023-03-29T13:14:22.600Z"
   },
   {
    "duration": 320,
    "start_time": "2023-03-29T13:14:26.214Z"
   },
   {
    "duration": 471,
    "start_time": "2023-03-29T13:14:29.696Z"
   },
   {
    "duration": 463,
    "start_time": "2023-03-29T13:14:33.793Z"
   },
   {
    "duration": 601,
    "start_time": "2023-03-29T13:14:58.509Z"
   },
   {
    "duration": 468,
    "start_time": "2023-03-29T13:15:18.932Z"
   },
   {
    "duration": 443,
    "start_time": "2023-03-29T13:16:33.557Z"
   },
   {
    "duration": 467,
    "start_time": "2023-03-29T13:17:03.531Z"
   },
   {
    "duration": 4,
    "start_time": "2023-03-29T13:21:00.375Z"
   },
   {
    "duration": 7,
    "start_time": "2023-03-29T13:21:01.939Z"
   },
   {
    "duration": 83,
    "start_time": "2023-03-29T13:23:06.264Z"
   },
   {
    "duration": 15,
    "start_time": "2023-03-29T13:23:15.584Z"
   },
   {
    "duration": 14,
    "start_time": "2023-03-29T13:23:43.866Z"
   },
   {
    "duration": 9,
    "start_time": "2023-03-29T13:24:55.436Z"
   },
   {
    "duration": 5,
    "start_time": "2023-03-29T13:25:04.962Z"
   },
   {
    "duration": 22,
    "start_time": "2023-03-29T13:25:05.903Z"
   },
   {
    "duration": 1118,
    "start_time": "2023-03-29T13:29:55.135Z"
   },
   {
    "duration": 35,
    "start_time": "2023-03-29T13:29:56.255Z"
   },
   {
    "duration": 27,
    "start_time": "2023-03-29T13:29:56.291Z"
   },
   {
    "duration": 8,
    "start_time": "2023-03-29T13:29:56.320Z"
   },
   {
    "duration": 216,
    "start_time": "2023-03-29T13:29:56.329Z"
   },
   {
    "duration": 102,
    "start_time": "2023-03-29T13:29:56.546Z"
   },
   {
    "duration": 6,
    "start_time": "2023-03-29T13:29:56.649Z"
   },
   {
    "duration": 66,
    "start_time": "2023-03-29T13:29:56.657Z"
   },
   {
    "duration": 6,
    "start_time": "2023-03-29T13:29:56.725Z"
   },
   {
    "duration": 15,
    "start_time": "2023-03-29T13:29:56.733Z"
   },
   {
    "duration": 885,
    "start_time": "2023-03-29T13:29:56.749Z"
   },
   {
    "duration": 4,
    "start_time": "2023-03-29T13:29:57.635Z"
   },
   {
    "duration": 9,
    "start_time": "2023-03-29T13:29:57.640Z"
   },
   {
    "duration": 5,
    "start_time": "2023-03-29T13:29:57.651Z"
   },
   {
    "duration": 74,
    "start_time": "2023-03-29T13:29:57.657Z"
   },
   {
    "duration": 17,
    "start_time": "2023-03-29T13:29:57.732Z"
   },
   {
    "duration": 84,
    "start_time": "2023-03-29T13:29:57.751Z"
   },
   {
    "duration": 97,
    "start_time": "2023-03-29T13:29:57.837Z"
   },
   {
    "duration": 0,
    "start_time": "2023-03-29T13:29:57.936Z"
   },
   {
    "duration": 0,
    "start_time": "2023-03-29T13:29:57.937Z"
   },
   {
    "duration": 0,
    "start_time": "2023-03-29T13:29:57.938Z"
   },
   {
    "duration": 0,
    "start_time": "2023-03-29T13:29:57.939Z"
   },
   {
    "duration": 0,
    "start_time": "2023-03-29T13:29:57.940Z"
   },
   {
    "duration": 0,
    "start_time": "2023-03-29T13:29:57.941Z"
   },
   {
    "duration": 0,
    "start_time": "2023-03-29T13:29:57.942Z"
   },
   {
    "duration": 0,
    "start_time": "2023-03-29T13:29:57.943Z"
   },
   {
    "duration": 0,
    "start_time": "2023-03-29T13:29:57.944Z"
   },
   {
    "duration": 0,
    "start_time": "2023-03-29T13:29:57.946Z"
   },
   {
    "duration": 0,
    "start_time": "2023-03-29T13:29:57.947Z"
   },
   {
    "duration": 0,
    "start_time": "2023-03-29T13:29:57.948Z"
   },
   {
    "duration": 0,
    "start_time": "2023-03-29T13:29:57.949Z"
   },
   {
    "duration": 0,
    "start_time": "2023-03-29T13:29:57.950Z"
   },
   {
    "duration": 0,
    "start_time": "2023-03-29T13:29:57.951Z"
   },
   {
    "duration": 0,
    "start_time": "2023-03-29T13:29:57.952Z"
   },
   {
    "duration": 0,
    "start_time": "2023-03-29T13:29:57.953Z"
   },
   {
    "duration": 0,
    "start_time": "2023-03-29T13:29:57.954Z"
   },
   {
    "duration": 0,
    "start_time": "2023-03-29T13:29:57.955Z"
   },
   {
    "duration": 0,
    "start_time": "2023-03-29T13:29:57.956Z"
   },
   {
    "duration": 65,
    "start_time": "2023-03-29T13:31:15.058Z"
   },
   {
    "duration": 17,
    "start_time": "2023-03-29T13:31:44.171Z"
   },
   {
    "duration": 368,
    "start_time": "2023-03-29T13:33:45.908Z"
   },
   {
    "duration": 1486,
    "start_time": "2023-03-29T13:35:09.872Z"
   },
   {
    "duration": 35,
    "start_time": "2023-03-29T13:35:11.360Z"
   },
   {
    "duration": 27,
    "start_time": "2023-03-29T13:35:11.397Z"
   },
   {
    "duration": 7,
    "start_time": "2023-03-29T13:35:11.426Z"
   },
   {
    "duration": 233,
    "start_time": "2023-03-29T13:35:11.435Z"
   },
   {
    "duration": 84,
    "start_time": "2023-03-29T13:35:11.670Z"
   },
   {
    "duration": 7,
    "start_time": "2023-03-29T13:35:11.756Z"
   },
   {
    "duration": 13,
    "start_time": "2023-03-29T13:35:11.765Z"
   },
   {
    "duration": 7,
    "start_time": "2023-03-29T13:35:11.780Z"
   },
   {
    "duration": 40,
    "start_time": "2023-03-29T13:35:11.790Z"
   },
   {
    "duration": 814,
    "start_time": "2023-03-29T13:35:11.833Z"
   },
   {
    "duration": 3,
    "start_time": "2023-03-29T13:35:12.648Z"
   },
   {
    "duration": 17,
    "start_time": "2023-03-29T13:35:12.653Z"
   },
   {
    "duration": 54,
    "start_time": "2023-03-29T13:35:12.672Z"
   },
   {
    "duration": 28,
    "start_time": "2023-03-29T13:35:12.728Z"
   },
   {
    "duration": 67,
    "start_time": "2023-03-29T13:35:12.757Z"
   },
   {
    "duration": 23,
    "start_time": "2023-03-29T13:35:12.826Z"
   },
   {
    "duration": 318,
    "start_time": "2023-03-29T13:35:12.851Z"
   },
   {
    "duration": 0,
    "start_time": "2023-03-29T13:35:13.171Z"
   },
   {
    "duration": 0,
    "start_time": "2023-03-29T13:35:13.172Z"
   },
   {
    "duration": 0,
    "start_time": "2023-03-29T13:35:13.173Z"
   },
   {
    "duration": 0,
    "start_time": "2023-03-29T13:35:13.174Z"
   },
   {
    "duration": 0,
    "start_time": "2023-03-29T13:35:13.176Z"
   },
   {
    "duration": 0,
    "start_time": "2023-03-29T13:35:13.177Z"
   },
   {
    "duration": 0,
    "start_time": "2023-03-29T13:35:13.178Z"
   },
   {
    "duration": 0,
    "start_time": "2023-03-29T13:35:13.179Z"
   },
   {
    "duration": 0,
    "start_time": "2023-03-29T13:35:13.181Z"
   },
   {
    "duration": 0,
    "start_time": "2023-03-29T13:35:13.181Z"
   },
   {
    "duration": 0,
    "start_time": "2023-03-29T13:35:13.183Z"
   },
   {
    "duration": 0,
    "start_time": "2023-03-29T13:35:13.184Z"
   },
   {
    "duration": 0,
    "start_time": "2023-03-29T13:35:13.185Z"
   },
   {
    "duration": 0,
    "start_time": "2023-03-29T13:35:13.186Z"
   },
   {
    "duration": 0,
    "start_time": "2023-03-29T13:35:13.187Z"
   },
   {
    "duration": 0,
    "start_time": "2023-03-29T13:35:13.188Z"
   },
   {
    "duration": 0,
    "start_time": "2023-03-29T13:35:13.189Z"
   },
   {
    "duration": 0,
    "start_time": "2023-03-29T13:35:13.190Z"
   },
   {
    "duration": 0,
    "start_time": "2023-03-29T13:35:13.224Z"
   },
   {
    "duration": 0,
    "start_time": "2023-03-29T13:35:13.225Z"
   },
   {
    "duration": 471,
    "start_time": "2023-03-29T13:40:40.088Z"
   },
   {
    "duration": 55,
    "start_time": "2023-03-29T13:47:45.541Z"
   },
   {
    "duration": 15,
    "start_time": "2023-03-29T13:50:03.328Z"
   },
   {
    "duration": 76,
    "start_time": "2023-03-29T13:51:46.306Z"
   },
   {
    "duration": 5,
    "start_time": "2023-03-29T13:57:33.369Z"
   },
   {
    "duration": 4393,
    "start_time": "2023-03-29T13:57:33.694Z"
   },
   {
    "duration": 5,
    "start_time": "2023-03-29T13:57:39.244Z"
   },
   {
    "duration": 4772,
    "start_time": "2023-03-29T13:57:39.720Z"
   },
   {
    "duration": 2,
    "start_time": "2023-03-29T14:00:38.790Z"
   },
   {
    "duration": 331,
    "start_time": "2023-03-29T14:00:49.647Z"
   },
   {
    "duration": 433,
    "start_time": "2023-03-29T14:00:59.215Z"
   },
   {
    "duration": 423,
    "start_time": "2023-03-29T14:01:04.970Z"
   },
   {
    "duration": 4,
    "start_time": "2023-03-29T14:01:15.487Z"
   },
   {
    "duration": 4700,
    "start_time": "2023-03-29T14:01:15.813Z"
   },
   {
    "duration": 482,
    "start_time": "2023-03-29T14:01:36.449Z"
   },
   {
    "duration": 5,
    "start_time": "2023-03-29T14:12:23.259Z"
   },
   {
    "duration": 4699,
    "start_time": "2023-03-29T14:12:23.547Z"
   },
   {
    "duration": 169,
    "start_time": "2023-03-29T14:12:46.116Z"
   },
   {
    "duration": 166,
    "start_time": "2023-03-29T14:12:53.747Z"
   },
   {
    "duration": 96,
    "start_time": "2023-03-29T14:14:31.250Z"
   },
   {
    "duration": 4,
    "start_time": "2023-03-29T14:14:44.461Z"
   },
   {
    "duration": 4825,
    "start_time": "2023-03-29T14:14:46.035Z"
   },
   {
    "duration": 5,
    "start_time": "2023-03-29T14:15:28.264Z"
   },
   {
    "duration": 4704,
    "start_time": "2023-03-29T14:15:30.360Z"
   },
   {
    "duration": 5,
    "start_time": "2023-03-29T14:15:37.289Z"
   },
   {
    "duration": 4853,
    "start_time": "2023-03-29T14:15:37.676Z"
   },
   {
    "duration": 5,
    "start_time": "2023-03-29T14:17:02.636Z"
   },
   {
    "duration": 4,
    "start_time": "2023-03-29T14:17:02.990Z"
   },
   {
    "duration": 1729,
    "start_time": "2023-03-29T14:17:03.312Z"
   },
   {
    "duration": 24,
    "start_time": "2023-03-29T14:17:54.594Z"
   },
   {
    "duration": 4,
    "start_time": "2023-03-29T14:21:32.561Z"
   },
   {
    "duration": 5,
    "start_time": "2023-03-29T14:21:32.981Z"
   },
   {
    "duration": 5,
    "start_time": "2023-03-29T14:22:02.937Z"
   },
   {
    "duration": 5,
    "start_time": "2023-03-29T14:22:03.362Z"
   },
   {
    "duration": 5,
    "start_time": "2023-03-29T14:22:06.686Z"
   },
   {
    "duration": 1918,
    "start_time": "2023-03-29T14:22:07.337Z"
   },
   {
    "duration": 5,
    "start_time": "2023-03-29T14:23:05.882Z"
   },
   {
    "duration": 4,
    "start_time": "2023-03-29T14:23:06.273Z"
   },
   {
    "duration": 6,
    "start_time": "2023-03-29T14:23:08.072Z"
   },
   {
    "duration": 2257,
    "start_time": "2023-03-29T14:23:08.550Z"
   },
   {
    "duration": 4,
    "start_time": "2023-03-29T14:23:52.323Z"
   },
   {
    "duration": 4,
    "start_time": "2023-03-29T14:23:52.712Z"
   },
   {
    "duration": 23,
    "start_time": "2023-03-29T14:23:53.393Z"
   },
   {
    "duration": 6,
    "start_time": "2023-03-29T14:23:53.872Z"
   },
   {
    "duration": 1875,
    "start_time": "2023-03-29T14:23:54.493Z"
   },
   {
    "duration": 105,
    "start_time": "2023-03-29T14:24:04.283Z"
   },
   {
    "duration": 1919,
    "start_time": "2023-03-29T14:24:15.821Z"
   },
   {
    "duration": 4,
    "start_time": "2023-03-29T14:31:36.492Z"
   },
   {
    "duration": 8,
    "start_time": "2023-03-29T14:31:40.347Z"
   },
   {
    "duration": 1888,
    "start_time": "2023-03-29T14:31:41.124Z"
   },
   {
    "duration": 5,
    "start_time": "2023-03-29T14:33:46.049Z"
   },
   {
    "duration": 1864,
    "start_time": "2023-03-29T14:33:48.877Z"
   },
   {
    "duration": 5,
    "start_time": "2023-03-29T14:34:23.453Z"
   },
   {
    "duration": 1797,
    "start_time": "2023-03-29T14:34:25.632Z"
   },
   {
    "duration": 5,
    "start_time": "2023-03-29T14:34:51.040Z"
   },
   {
    "duration": 1821,
    "start_time": "2023-03-29T14:34:54.872Z"
   },
   {
    "duration": 5,
    "start_time": "2023-03-29T14:35:04.801Z"
   },
   {
    "duration": 1883,
    "start_time": "2023-03-29T14:35:09.049Z"
   },
   {
    "duration": 5,
    "start_time": "2023-03-29T14:35:18.839Z"
   },
   {
    "duration": 1812,
    "start_time": "2023-03-29T14:35:22.420Z"
   },
   {
    "duration": 4,
    "start_time": "2023-03-29T14:35:54.440Z"
   },
   {
    "duration": 155,
    "start_time": "2023-03-29T14:35:57.634Z"
   },
   {
    "duration": 4,
    "start_time": "2023-03-29T14:36:26.062Z"
   },
   {
    "duration": 1755,
    "start_time": "2023-03-29T14:36:30.872Z"
   },
   {
    "duration": 5,
    "start_time": "2023-03-29T14:39:08.067Z"
   },
   {
    "duration": 1963,
    "start_time": "2023-03-29T14:39:11.575Z"
   },
   {
    "duration": 5,
    "start_time": "2023-03-29T14:39:28.996Z"
   },
   {
    "duration": 1859,
    "start_time": "2023-03-29T14:39:31.840Z"
   },
   {
    "duration": 4,
    "start_time": "2023-03-29T14:39:41.219Z"
   },
   {
    "duration": 5,
    "start_time": "2023-03-29T14:39:48.740Z"
   },
   {
    "duration": 6,
    "start_time": "2023-03-29T14:40:06.745Z"
   },
   {
    "duration": 4,
    "start_time": "2023-03-29T14:40:12.709Z"
   },
   {
    "duration": 1931,
    "start_time": "2023-03-29T14:40:16.890Z"
   },
   {
    "duration": 4,
    "start_time": "2023-03-29T14:40:55.024Z"
   },
   {
    "duration": 1969,
    "start_time": "2023-03-29T14:40:59.604Z"
   },
   {
    "duration": 4,
    "start_time": "2023-03-29T14:41:07.656Z"
   },
   {
    "duration": 74,
    "start_time": "2023-03-29T14:41:27.387Z"
   },
   {
    "duration": 72,
    "start_time": "2023-03-29T14:41:34.443Z"
   },
   {
    "duration": 348,
    "start_time": "2023-03-29T14:41:39.784Z"
   },
   {
    "duration": 1805,
    "start_time": "2023-03-29T14:42:28.841Z"
   },
   {
    "duration": 4,
    "start_time": "2023-03-29T14:43:12.673Z"
   },
   {
    "duration": 25,
    "start_time": "2023-03-29T14:43:13.993Z"
   },
   {
    "duration": 5,
    "start_time": "2023-03-29T14:43:14.448Z"
   },
   {
    "duration": 1735,
    "start_time": "2023-03-29T14:43:14.991Z"
   },
   {
    "duration": 161,
    "start_time": "2023-03-29T14:43:16.727Z"
   },
   {
    "duration": 4,
    "start_time": "2023-03-29T14:43:31.021Z"
   },
   {
    "duration": 1788,
    "start_time": "2023-03-29T14:43:36.695Z"
   },
   {
    "duration": 1774,
    "start_time": "2023-03-29T14:43:38.485Z"
   },
   {
    "duration": 5,
    "start_time": "2023-03-29T14:51:16.149Z"
   },
   {
    "duration": 1773,
    "start_time": "2023-03-29T14:51:16.682Z"
   },
   {
    "duration": 791,
    "start_time": "2023-03-29T14:51:18.458Z"
   },
   {
    "duration": 4,
    "start_time": "2023-03-29T17:53:12.347Z"
   },
   {
    "duration": 9,
    "start_time": "2023-03-29T17:53:15.249Z"
   },
   {
    "duration": 8,
    "start_time": "2023-03-29T17:53:17.353Z"
   },
   {
    "duration": 8,
    "start_time": "2023-03-29T17:53:18.763Z"
   },
   {
    "duration": 11,
    "start_time": "2023-03-29T17:53:20.145Z"
   },
   {
    "duration": 9,
    "start_time": "2023-03-29T18:09:52.952Z"
   },
   {
    "duration": 656,
    "start_time": "2023-03-29T18:09:55.852Z"
   },
   {
    "duration": 4,
    "start_time": "2023-03-29T18:10:06.566Z"
   },
   {
    "duration": 633,
    "start_time": "2023-03-29T18:10:09.282Z"
   },
   {
    "duration": 59,
    "start_time": "2023-03-29T18:15:41.253Z"
   },
   {
    "duration": 53,
    "start_time": "2023-03-29T18:16:56.713Z"
   },
   {
    "duration": 51,
    "start_time": "2023-03-29T18:17:02.669Z"
   },
   {
    "duration": 50,
    "start_time": "2023-03-29T18:17:12.642Z"
   },
   {
    "duration": 55,
    "start_time": "2023-03-29T18:17:24.276Z"
   },
   {
    "duration": 15,
    "start_time": "2023-03-29T18:18:09.136Z"
   },
   {
    "duration": 1226,
    "start_time": "2023-03-29T18:32:34.607Z"
   },
   {
    "duration": 36,
    "start_time": "2023-03-29T18:32:35.842Z"
   },
   {
    "duration": 68,
    "start_time": "2023-03-29T18:32:35.880Z"
   },
   {
    "duration": 10,
    "start_time": "2023-03-29T18:32:35.950Z"
   },
   {
    "duration": 594,
    "start_time": "2023-03-29T18:32:35.962Z"
   },
   {
    "duration": 201,
    "start_time": "2023-03-29T18:32:36.558Z"
   },
   {
    "duration": 78,
    "start_time": "2023-03-29T18:32:36.761Z"
   },
   {
    "duration": 15,
    "start_time": "2023-03-29T18:32:36.840Z"
   },
   {
    "duration": 16,
    "start_time": "2023-03-29T18:32:36.857Z"
   },
   {
    "duration": 58,
    "start_time": "2023-03-29T18:32:36.875Z"
   },
   {
    "duration": 1007,
    "start_time": "2023-03-29T18:32:36.935Z"
   },
   {
    "duration": 4,
    "start_time": "2023-03-29T18:32:37.944Z"
   },
   {
    "duration": 28,
    "start_time": "2023-03-29T18:32:37.950Z"
   },
   {
    "duration": 50,
    "start_time": "2023-03-29T18:32:37.981Z"
   },
   {
    "duration": 48,
    "start_time": "2023-03-29T18:32:38.033Z"
   },
   {
    "duration": 55,
    "start_time": "2023-03-29T18:32:38.083Z"
   },
   {
    "duration": 88,
    "start_time": "2023-03-29T18:32:38.140Z"
   },
   {
    "duration": 464,
    "start_time": "2023-03-29T18:32:38.236Z"
   },
   {
    "duration": 35,
    "start_time": "2023-03-29T18:32:38.702Z"
   },
   {
    "duration": 5,
    "start_time": "2023-03-29T18:32:38.743Z"
   },
   {
    "duration": 11,
    "start_time": "2023-03-29T18:32:38.752Z"
   },
   {
    "duration": 6,
    "start_time": "2023-03-29T18:32:38.765Z"
   },
   {
    "duration": 2126,
    "start_time": "2023-03-29T18:32:38.773Z"
   },
   {
    "duration": 703,
    "start_time": "2023-03-29T18:32:40.900Z"
   },
   {
    "duration": 5,
    "start_time": "2023-03-29T18:32:41.604Z"
   },
   {
    "duration": 34,
    "start_time": "2023-03-29T18:32:41.610Z"
   },
   {
    "duration": 9,
    "start_time": "2023-03-29T18:32:41.646Z"
   },
   {
    "duration": 8,
    "start_time": "2023-03-29T18:32:41.657Z"
   },
   {
    "duration": 7,
    "start_time": "2023-03-29T18:32:41.666Z"
   },
   {
    "duration": 129,
    "start_time": "2023-03-29T18:32:41.674Z"
   },
   {
    "duration": 0,
    "start_time": "2023-03-29T18:32:41.804Z"
   },
   {
    "duration": 0,
    "start_time": "2023-03-29T18:32:41.805Z"
   },
   {
    "duration": 0,
    "start_time": "2023-03-29T18:32:41.806Z"
   },
   {
    "duration": 1314,
    "start_time": "2023-03-29T18:38:20.737Z"
   },
   {
    "duration": 234,
    "start_time": "2023-03-29T18:38:25.943Z"
   },
   {
    "duration": 294,
    "start_time": "2023-03-29T18:38:32.431Z"
   },
   {
    "duration": 187,
    "start_time": "2023-03-29T18:38:42.254Z"
   },
   {
    "duration": 194,
    "start_time": "2023-03-29T18:38:49.744Z"
   },
   {
    "duration": 4,
    "start_time": "2023-03-29T18:40:13.590Z"
   },
   {
    "duration": 5,
    "start_time": "2023-03-29T18:40:55.494Z"
   },
   {
    "duration": 5,
    "start_time": "2023-03-29T18:41:22.664Z"
   },
   {
    "duration": 5,
    "start_time": "2023-03-29T18:41:24.351Z"
   },
   {
    "duration": 218,
    "start_time": "2023-03-29T18:41:33.452Z"
   },
   {
    "duration": 5,
    "start_time": "2023-03-29T18:41:41.811Z"
   },
   {
    "duration": 4,
    "start_time": "2023-03-29T18:42:09.297Z"
   },
   {
    "duration": 6,
    "start_time": "2023-03-29T18:42:28.748Z"
   },
   {
    "duration": 5,
    "start_time": "2023-03-29T18:42:31.393Z"
   },
   {
    "duration": 4,
    "start_time": "2023-03-29T18:43:50.178Z"
   },
   {
    "duration": 6,
    "start_time": "2023-03-29T18:43:55.414Z"
   },
   {
    "duration": 327,
    "start_time": "2023-03-29T18:45:40.518Z"
   },
   {
    "duration": 264,
    "start_time": "2023-03-29T18:45:53.089Z"
   },
   {
    "duration": 252,
    "start_time": "2023-03-29T18:45:56.836Z"
   },
   {
    "duration": 246,
    "start_time": "2023-03-29T18:47:53.849Z"
   },
   {
    "duration": 249,
    "start_time": "2023-03-29T18:48:25.936Z"
   },
   {
    "duration": 5,
    "start_time": "2023-03-29T18:51:06.032Z"
   },
   {
    "duration": 30,
    "start_time": "2023-03-29T18:51:51.120Z"
   },
   {
    "duration": 468,
    "start_time": "2023-03-29T18:53:08.499Z"
   },
   {
    "duration": 4,
    "start_time": "2023-03-29T18:53:20.050Z"
   },
   {
    "duration": 140,
    "start_time": "2023-03-29T18:53:22.775Z"
   },
   {
    "duration": 185,
    "start_time": "2023-03-29T18:53:59.688Z"
   },
   {
    "duration": 4,
    "start_time": "2023-03-29T18:54:25.310Z"
   },
   {
    "duration": 192,
    "start_time": "2023-03-29T18:54:27.959Z"
   },
   {
    "duration": 230,
    "start_time": "2023-03-29T18:55:01.860Z"
   },
   {
    "duration": 235,
    "start_time": "2023-03-29T18:55:20.112Z"
   },
   {
    "duration": 188,
    "start_time": "2023-03-29T18:55:40.183Z"
   },
   {
    "duration": 207,
    "start_time": "2023-03-29T18:56:13.970Z"
   },
   {
    "duration": 127,
    "start_time": "2023-03-29T18:56:42.436Z"
   },
   {
    "duration": 195,
    "start_time": "2023-03-29T18:56:46.355Z"
   },
   {
    "duration": 181,
    "start_time": "2023-03-29T18:57:07.582Z"
   },
   {
    "duration": 304,
    "start_time": "2023-03-29T18:57:17.885Z"
   },
   {
    "duration": 226,
    "start_time": "2023-03-29T18:59:30.543Z"
   },
   {
    "duration": 22,
    "start_time": "2023-03-29T19:10:28.687Z"
   },
   {
    "duration": 44,
    "start_time": "2023-03-29T19:10:58.595Z"
   },
   {
    "duration": 52,
    "start_time": "2023-03-29T19:12:11.499Z"
   },
   {
    "duration": 3,
    "start_time": "2023-03-29T19:14:17.627Z"
   },
   {
    "duration": 6,
    "start_time": "2023-03-29T19:14:19.020Z"
   },
   {
    "duration": 3,
    "start_time": "2023-03-29T19:14:19.388Z"
   },
   {
    "duration": 28,
    "start_time": "2023-03-29T19:14:19.712Z"
   },
   {
    "duration": 13,
    "start_time": "2023-03-29T19:15:07.188Z"
   },
   {
    "duration": 1157,
    "start_time": "2023-03-29T19:15:27.609Z"
   },
   {
    "duration": 35,
    "start_time": "2023-03-29T19:15:28.768Z"
   },
   {
    "duration": 25,
    "start_time": "2023-03-29T19:15:28.805Z"
   },
   {
    "duration": 7,
    "start_time": "2023-03-29T19:15:28.832Z"
   },
   {
    "duration": 220,
    "start_time": "2023-03-29T19:15:28.840Z"
   },
   {
    "duration": 83,
    "start_time": "2023-03-29T19:15:29.062Z"
   },
   {
    "duration": 7,
    "start_time": "2023-03-29T19:15:29.146Z"
   },
   {
    "duration": 10,
    "start_time": "2023-03-29T19:15:29.155Z"
   },
   {
    "duration": 6,
    "start_time": "2023-03-29T19:15:29.166Z"
   },
   {
    "duration": 15,
    "start_time": "2023-03-29T19:15:29.174Z"
   },
   {
    "duration": 375,
    "start_time": "2023-03-29T19:15:29.190Z"
   },
   {
    "duration": 4,
    "start_time": "2023-03-29T19:15:29.566Z"
   },
   {
    "duration": 8,
    "start_time": "2023-03-29T19:15:29.571Z"
   },
   {
    "duration": 3,
    "start_time": "2023-03-29T19:15:29.581Z"
   },
   {
    "duration": 19,
    "start_time": "2023-03-29T19:15:29.585Z"
   },
   {
    "duration": 15,
    "start_time": "2023-03-29T19:15:29.624Z"
   },
   {
    "duration": 22,
    "start_time": "2023-03-29T19:15:29.640Z"
   },
   {
    "duration": 453,
    "start_time": "2023-03-29T19:15:29.664Z"
   },
   {
    "duration": 17,
    "start_time": "2023-03-29T19:15:30.123Z"
   },
   {
    "duration": 5,
    "start_time": "2023-03-29T19:15:30.142Z"
   },
   {
    "duration": 18,
    "start_time": "2023-03-29T19:15:30.149Z"
   },
   {
    "duration": 45,
    "start_time": "2023-03-29T19:15:30.169Z"
   },
   {
    "duration": 1913,
    "start_time": "2023-03-29T19:15:30.215Z"
   },
   {
    "duration": 635,
    "start_time": "2023-03-29T19:15:32.130Z"
   },
   {
    "duration": 5,
    "start_time": "2023-03-29T19:15:32.766Z"
   },
   {
    "duration": 22,
    "start_time": "2023-03-29T19:15:32.772Z"
   },
   {
    "duration": 8,
    "start_time": "2023-03-29T19:15:32.796Z"
   },
   {
    "duration": 16,
    "start_time": "2023-03-29T19:15:32.807Z"
   },
   {
    "duration": 24,
    "start_time": "2023-03-29T19:15:32.825Z"
   },
   {
    "duration": 22,
    "start_time": "2023-03-29T19:15:32.851Z"
   },
   {
    "duration": 13,
    "start_time": "2023-03-29T19:15:32.875Z"
   },
   {
    "duration": 116,
    "start_time": "2023-03-29T19:15:32.889Z"
   },
   {
    "duration": 0,
    "start_time": "2023-03-29T19:15:33.007Z"
   },
   {
    "duration": 0,
    "start_time": "2023-03-29T19:15:33.008Z"
   },
   {
    "duration": 13,
    "start_time": "2023-03-29T19:17:34.824Z"
   },
   {
    "duration": 20,
    "start_time": "2023-03-29T19:18:27.851Z"
   },
   {
    "duration": 15,
    "start_time": "2023-03-29T19:19:07.204Z"
   },
   {
    "duration": 12,
    "start_time": "2023-03-29T19:19:11.297Z"
   },
   {
    "duration": 14,
    "start_time": "2023-03-29T19:19:23.706Z"
   },
   {
    "duration": 67,
    "start_time": "2023-03-29T19:21:38.337Z"
   },
   {
    "duration": 4,
    "start_time": "2023-03-29T19:21:43.688Z"
   },
   {
    "duration": 25,
    "start_time": "2023-03-29T19:21:49.097Z"
   },
   {
    "duration": 6,
    "start_time": "2023-03-29T19:22:02.283Z"
   },
   {
    "duration": 4,
    "start_time": "2023-03-29T19:22:15.189Z"
   },
   {
    "duration": 15,
    "start_time": "2023-03-29T19:22:27.269Z"
   },
   {
    "duration": 12,
    "start_time": "2023-03-29T19:22:32.535Z"
   },
   {
    "duration": 13,
    "start_time": "2023-03-29T19:22:45.672Z"
   },
   {
    "duration": 11,
    "start_time": "2023-03-29T19:22:55.191Z"
   },
   {
    "duration": 13,
    "start_time": "2023-03-29T19:22:59.888Z"
   },
   {
    "duration": 18,
    "start_time": "2023-03-29T19:23:04.654Z"
   },
   {
    "duration": 12,
    "start_time": "2023-03-29T19:23:44.586Z"
   },
   {
    "duration": 13,
    "start_time": "2023-03-29T19:24:08.826Z"
   },
   {
    "duration": 13,
    "start_time": "2023-03-29T19:24:46.456Z"
   },
   {
    "duration": 12,
    "start_time": "2023-03-29T19:25:22.838Z"
   },
   {
    "duration": 45,
    "start_time": "2023-03-29T19:25:31.929Z"
   },
   {
    "duration": 12,
    "start_time": "2023-03-29T19:25:43.459Z"
   },
   {
    "duration": 15,
    "start_time": "2023-03-29T19:26:15.732Z"
   },
   {
    "duration": 69,
    "start_time": "2023-03-29T19:26:56.516Z"
   },
   {
    "duration": 13,
    "start_time": "2023-03-29T19:27:38.631Z"
   },
   {
    "duration": 16,
    "start_time": "2023-03-29T19:27:40.401Z"
   },
   {
    "duration": 12,
    "start_time": "2023-03-29T19:27:42.564Z"
   },
   {
    "duration": 19,
    "start_time": "2023-03-29T19:28:00.403Z"
   },
   {
    "duration": 12,
    "start_time": "2023-03-29T19:28:10.901Z"
   },
   {
    "duration": 13,
    "start_time": "2023-03-29T19:28:25.293Z"
   },
   {
    "duration": 1316,
    "start_time": "2023-03-30T18:24:20.275Z"
   },
   {
    "duration": 154,
    "start_time": "2023-03-30T18:24:21.593Z"
   },
   {
    "duration": 25,
    "start_time": "2023-03-30T18:24:21.749Z"
   },
   {
    "duration": 7,
    "start_time": "2023-03-30T18:24:21.775Z"
   },
   {
    "duration": 225,
    "start_time": "2023-03-30T18:24:21.784Z"
   },
   {
    "duration": 87,
    "start_time": "2023-03-30T18:24:22.011Z"
   },
   {
    "duration": 7,
    "start_time": "2023-03-30T18:24:22.100Z"
   },
   {
    "duration": 11,
    "start_time": "2023-03-30T18:24:22.108Z"
   },
   {
    "duration": 5,
    "start_time": "2023-03-30T18:24:22.121Z"
   },
   {
    "duration": 16,
    "start_time": "2023-03-30T18:24:22.128Z"
   },
   {
    "duration": 403,
    "start_time": "2023-03-30T18:24:22.145Z"
   },
   {
    "duration": 3,
    "start_time": "2023-03-30T18:24:22.550Z"
   },
   {
    "duration": 19,
    "start_time": "2023-03-30T18:24:22.555Z"
   },
   {
    "duration": 10,
    "start_time": "2023-03-30T18:24:22.578Z"
   },
   {
    "duration": 29,
    "start_time": "2023-03-30T18:24:22.590Z"
   },
   {
    "duration": 15,
    "start_time": "2023-03-30T18:24:22.620Z"
   },
   {
    "duration": 24,
    "start_time": "2023-03-30T18:24:22.636Z"
   },
   {
    "duration": 455,
    "start_time": "2023-03-30T18:24:22.662Z"
   },
   {
    "duration": 18,
    "start_time": "2023-03-30T18:24:23.119Z"
   },
   {
    "duration": 5,
    "start_time": "2023-03-30T18:24:23.138Z"
   },
   {
    "duration": 12,
    "start_time": "2023-03-30T18:24:23.144Z"
   },
   {
    "duration": 9,
    "start_time": "2023-03-30T18:24:23.157Z"
   },
   {
    "duration": 1915,
    "start_time": "2023-03-30T18:24:23.167Z"
   },
   {
    "duration": 685,
    "start_time": "2023-03-30T18:24:25.087Z"
   },
   {
    "duration": 5,
    "start_time": "2023-03-30T18:24:25.773Z"
   },
   {
    "duration": 15,
    "start_time": "2023-03-30T18:24:25.787Z"
   },
   {
    "duration": 8,
    "start_time": "2023-03-30T18:24:25.804Z"
   },
   {
    "duration": 7,
    "start_time": "2023-03-30T18:24:25.814Z"
   },
   {
    "duration": 11,
    "start_time": "2023-03-30T18:24:25.823Z"
   },
   {
    "duration": 4,
    "start_time": "2023-03-30T18:24:25.835Z"
   },
   {
    "duration": 14,
    "start_time": "2023-03-30T18:24:25.841Z"
   },
   {
    "duration": 13,
    "start_time": "2023-03-30T18:24:25.888Z"
   },
   {
    "duration": 13,
    "start_time": "2023-03-30T18:24:25.902Z"
   },
   {
    "duration": 13,
    "start_time": "2023-03-30T18:24:25.916Z"
   },
   {
    "duration": 53,
    "start_time": "2023-03-30T20:14:03.650Z"
   },
   {
    "duration": 1342,
    "start_time": "2023-03-30T20:14:10.734Z"
   },
   {
    "duration": 78,
    "start_time": "2023-03-30T20:14:12.078Z"
   },
   {
    "duration": 25,
    "start_time": "2023-03-30T20:14:12.157Z"
   },
   {
    "duration": 6,
    "start_time": "2023-03-30T20:14:12.184Z"
   },
   {
    "duration": 216,
    "start_time": "2023-03-30T20:14:12.191Z"
   },
   {
    "duration": 81,
    "start_time": "2023-03-30T20:14:12.409Z"
   },
   {
    "duration": 7,
    "start_time": "2023-03-30T20:14:12.491Z"
   },
   {
    "duration": 13,
    "start_time": "2023-03-30T20:14:12.500Z"
   },
   {
    "duration": 5,
    "start_time": "2023-03-30T20:14:12.515Z"
   },
   {
    "duration": 18,
    "start_time": "2023-03-30T20:14:12.523Z"
   },
   {
    "duration": 652,
    "start_time": "2023-03-30T20:14:12.542Z"
   },
   {
    "duration": 3,
    "start_time": "2023-03-30T20:14:13.195Z"
   },
   {
    "duration": 9,
    "start_time": "2023-03-30T20:14:13.200Z"
   },
   {
    "duration": 55,
    "start_time": "2023-03-30T20:14:13.210Z"
   },
   {
    "duration": 21,
    "start_time": "2023-03-30T20:14:13.267Z"
   },
   {
    "duration": 72,
    "start_time": "2023-03-30T20:14:13.290Z"
   },
   {
    "duration": 34,
    "start_time": "2023-03-30T20:14:13.364Z"
   },
   {
    "duration": 903,
    "start_time": "2023-03-30T20:14:13.400Z"
   },
   {
    "duration": 70,
    "start_time": "2023-03-30T20:14:14.304Z"
   },
   {
    "duration": 3,
    "start_time": "2023-03-30T20:14:14.376Z"
   },
   {
    "duration": 6,
    "start_time": "2023-03-30T20:14:14.381Z"
   },
   {
    "duration": 9,
    "start_time": "2023-03-30T20:14:14.388Z"
   },
   {
    "duration": 1423,
    "start_time": "2023-03-30T20:14:14.398Z"
   },
   {
    "duration": 1002,
    "start_time": "2023-03-30T20:14:15.822Z"
   },
   {
    "duration": 5,
    "start_time": "2023-03-30T20:14:16.825Z"
   },
   {
    "duration": 13,
    "start_time": "2023-03-30T20:14:16.831Z"
   },
   {
    "duration": 15,
    "start_time": "2023-03-30T20:14:16.846Z"
   },
   {
    "duration": 8,
    "start_time": "2023-03-30T20:14:16.864Z"
   },
   {
    "duration": 7,
    "start_time": "2023-03-30T20:14:16.873Z"
   },
   {
    "duration": 4,
    "start_time": "2023-03-30T20:14:16.881Z"
   },
   {
    "duration": 14,
    "start_time": "2023-03-30T20:14:16.886Z"
   },
   {
    "duration": 12,
    "start_time": "2023-03-30T20:14:16.901Z"
   },
   {
    "duration": 50,
    "start_time": "2023-03-30T20:14:16.914Z"
   },
   {
    "duration": 12,
    "start_time": "2023-03-30T20:14:16.966Z"
   },
   {
    "duration": 1110,
    "start_time": "2023-03-30T20:14:38.096Z"
   },
   {
    "duration": 34,
    "start_time": "2023-03-30T20:14:39.208Z"
   },
   {
    "duration": 26,
    "start_time": "2023-03-30T20:14:39.243Z"
   },
   {
    "duration": 6,
    "start_time": "2023-03-30T20:14:39.272Z"
   },
   {
    "duration": 220,
    "start_time": "2023-03-30T20:14:39.280Z"
   },
   {
    "duration": 80,
    "start_time": "2023-03-30T20:14:39.501Z"
   },
   {
    "duration": 6,
    "start_time": "2023-03-30T20:14:39.583Z"
   },
   {
    "duration": 13,
    "start_time": "2023-03-30T20:14:39.591Z"
   },
   {
    "duration": 5,
    "start_time": "2023-03-30T20:14:39.606Z"
   },
   {
    "duration": 13,
    "start_time": "2023-03-30T20:14:39.614Z"
   },
   {
    "duration": 373,
    "start_time": "2023-03-30T20:14:39.628Z"
   },
   {
    "duration": 3,
    "start_time": "2023-03-30T20:14:40.003Z"
   },
   {
    "duration": 14,
    "start_time": "2023-03-30T20:14:40.007Z"
   },
   {
    "duration": 10,
    "start_time": "2023-03-30T20:14:40.023Z"
   },
   {
    "duration": 29,
    "start_time": "2023-03-30T20:14:40.034Z"
   },
   {
    "duration": 15,
    "start_time": "2023-03-30T20:14:40.064Z"
   },
   {
    "duration": 27,
    "start_time": "2023-03-30T20:14:40.081Z"
   },
   {
    "duration": 445,
    "start_time": "2023-03-30T20:14:40.110Z"
   },
   {
    "duration": 16,
    "start_time": "2023-03-30T20:14:40.562Z"
   },
   {
    "duration": 5,
    "start_time": "2023-03-30T20:14:40.579Z"
   },
   {
    "duration": 19,
    "start_time": "2023-03-30T20:14:40.585Z"
   },
   {
    "duration": 12,
    "start_time": "2023-03-30T20:14:40.605Z"
   },
   {
    "duration": 1379,
    "start_time": "2023-03-30T20:14:40.619Z"
   },
   {
    "duration": 1016,
    "start_time": "2023-03-30T20:14:42.000Z"
   },
   {
    "duration": 4,
    "start_time": "2023-03-30T20:14:43.018Z"
   },
   {
    "duration": 9,
    "start_time": "2023-03-30T20:14:43.024Z"
   },
   {
    "duration": 7,
    "start_time": "2023-03-30T20:14:43.035Z"
   },
   {
    "duration": 8,
    "start_time": "2023-03-30T20:14:43.065Z"
   },
   {
    "duration": 8,
    "start_time": "2023-03-30T20:14:43.075Z"
   },
   {
    "duration": 4,
    "start_time": "2023-03-30T20:14:43.085Z"
   },
   {
    "duration": 13,
    "start_time": "2023-03-30T20:14:43.091Z"
   },
   {
    "duration": 12,
    "start_time": "2023-03-30T20:14:43.105Z"
   },
   {
    "duration": 45,
    "start_time": "2023-03-30T20:14:43.119Z"
   },
   {
    "duration": 13,
    "start_time": "2023-03-30T20:14:43.166Z"
   },
   {
    "duration": 6,
    "start_time": "2023-03-30T20:20:23.796Z"
   },
   {
    "duration": 3,
    "start_time": "2023-03-30T20:21:16.273Z"
   },
   {
    "duration": 235,
    "start_time": "2023-03-30T20:21:20.608Z"
   },
   {
    "duration": 3,
    "start_time": "2023-03-30T20:21:44.786Z"
   },
   {
    "duration": 4,
    "start_time": "2023-03-30T20:22:16.741Z"
   },
   {
    "duration": 135,
    "start_time": "2023-03-30T20:22:20.176Z"
   },
   {
    "duration": 4,
    "start_time": "2023-03-30T20:23:47.007Z"
   },
   {
    "duration": 221,
    "start_time": "2023-03-30T20:23:51.845Z"
   },
   {
    "duration": 6,
    "start_time": "2023-03-30T20:27:01.510Z"
   },
   {
    "duration": 5,
    "start_time": "2023-03-30T20:27:01.981Z"
   },
   {
    "duration": 5,
    "start_time": "2023-03-30T20:27:02.406Z"
   },
   {
    "duration": 1377,
    "start_time": "2023-03-30T20:27:03.324Z"
   },
   {
    "duration": 175,
    "start_time": "2023-03-30T20:27:06.605Z"
   },
   {
    "duration": 4,
    "start_time": "2023-03-30T20:27:42.909Z"
   },
   {
    "duration": 127,
    "start_time": "2023-03-30T20:27:46.573Z"
   },
   {
    "duration": 4,
    "start_time": "2023-03-30T20:28:41.327Z"
   },
   {
    "duration": 1566,
    "start_time": "2023-03-30T20:28:44.075Z"
   },
   {
    "duration": 4,
    "start_time": "2023-03-30T20:29:18.613Z"
   },
   {
    "duration": 1717,
    "start_time": "2023-03-30T20:29:22.674Z"
   },
   {
    "duration": 4,
    "start_time": "2023-03-30T20:29:45.731Z"
   },
   {
    "duration": 5,
    "start_time": "2023-03-30T20:29:47.697Z"
   },
   {
    "duration": 1573,
    "start_time": "2023-03-30T20:29:49.801Z"
   },
   {
    "duration": 4,
    "start_time": "2023-03-30T20:30:11.177Z"
   },
   {
    "duration": 1642,
    "start_time": "2023-03-30T20:30:13.606Z"
   },
   {
    "duration": 4,
    "start_time": "2023-03-30T20:31:31.695Z"
   },
   {
    "duration": 1116,
    "start_time": "2023-03-30T20:31:34.954Z"
   },
   {
    "duration": 15,
    "start_time": "2023-03-30T20:33:34.837Z"
   },
   {
    "duration": 315,
    "start_time": "2023-03-30T20:34:03.339Z"
   },
   {
    "duration": 158,
    "start_time": "2023-03-30T20:34:16.252Z"
   },
   {
    "duration": 298,
    "start_time": "2023-03-30T20:34:23.395Z"
   },
   {
    "duration": 333,
    "start_time": "2023-03-30T20:34:30.782Z"
   },
   {
    "duration": 11,
    "start_time": "2023-03-30T20:34:44.361Z"
   },
   {
    "duration": 19,
    "start_time": "2023-03-30T20:35:32.642Z"
   },
   {
    "duration": 15,
    "start_time": "2023-03-30T20:35:52.101Z"
   },
   {
    "duration": 16,
    "start_time": "2023-03-30T20:35:59.876Z"
   },
   {
    "duration": 296,
    "start_time": "2023-03-30T20:36:09.586Z"
   },
   {
    "duration": 318,
    "start_time": "2023-03-30T20:36:21.764Z"
   },
   {
    "duration": 291,
    "start_time": "2023-03-30T20:36:43.425Z"
   },
   {
    "duration": 329,
    "start_time": "2023-03-30T20:37:00.126Z"
   },
   {
    "duration": 302,
    "start_time": "2023-03-30T20:37:11.005Z"
   },
   {
    "duration": 234,
    "start_time": "2023-03-30T20:37:27.221Z"
   },
   {
    "duration": 140,
    "start_time": "2023-03-30T20:37:37.601Z"
   },
   {
    "duration": 137,
    "start_time": "2023-03-30T20:43:26.945Z"
   },
   {
    "duration": 128,
    "start_time": "2023-03-30T20:43:31.564Z"
   },
   {
    "duration": 372,
    "start_time": "2023-03-30T20:43:54.817Z"
   },
   {
    "duration": 145,
    "start_time": "2023-03-30T20:44:03.323Z"
   },
   {
    "duration": 134,
    "start_time": "2023-03-30T20:44:09.926Z"
   },
   {
    "duration": 359,
    "start_time": "2023-03-30T20:44:22.852Z"
   },
   {
    "duration": 131,
    "start_time": "2023-03-30T20:50:37.888Z"
   },
   {
    "duration": 356,
    "start_time": "2023-03-30T20:51:12.695Z"
   },
   {
    "duration": 15,
    "start_time": "2023-03-30T20:51:42.603Z"
   },
   {
    "duration": 19,
    "start_time": "2023-03-30T20:51:58.130Z"
   },
   {
    "duration": 16,
    "start_time": "2023-03-30T20:52:35.041Z"
   },
   {
    "duration": 11,
    "start_time": "2023-03-30T20:52:42.893Z"
   },
   {
    "duration": 176,
    "start_time": "2023-03-30T20:56:55.175Z"
   },
   {
    "duration": 181,
    "start_time": "2023-03-30T20:56:58.146Z"
   },
   {
    "duration": 19,
    "start_time": "2023-03-30T20:57:06.471Z"
   },
   {
    "duration": 12,
    "start_time": "2023-03-30T20:57:38.693Z"
   },
   {
    "duration": 22,
    "start_time": "2023-03-30T20:57:45.931Z"
   },
   {
    "duration": 19,
    "start_time": "2023-03-30T20:58:55.727Z"
   },
   {
    "duration": 174,
    "start_time": "2023-03-30T21:00:29.424Z"
   },
   {
    "duration": 168,
    "start_time": "2023-03-30T21:00:49.917Z"
   },
   {
    "duration": 276,
    "start_time": "2023-03-30T21:01:16.063Z"
   },
   {
    "duration": 172,
    "start_time": "2023-03-30T21:01:23.692Z"
   },
   {
    "duration": 463,
    "start_time": "2023-03-30T21:01:46.122Z"
   },
   {
    "duration": 490,
    "start_time": "2023-03-30T21:02:02.589Z"
   },
   {
    "duration": 520,
    "start_time": "2023-03-30T21:03:26.794Z"
   },
   {
    "duration": 481,
    "start_time": "2023-03-30T21:03:33.224Z"
   },
   {
    "duration": 513,
    "start_time": "2023-03-30T21:03:39.450Z"
   },
   {
    "duration": 185,
    "start_time": "2023-03-30T21:06:54.884Z"
   },
   {
    "duration": 166,
    "start_time": "2023-03-30T21:07:18.846Z"
   },
   {
    "duration": 159,
    "start_time": "2023-03-30T21:07:41.424Z"
   },
   {
    "duration": 171,
    "start_time": "2023-03-30T21:07:58.142Z"
   },
   {
    "duration": 176,
    "start_time": "2023-03-30T21:10:07.038Z"
   },
   {
    "duration": 404,
    "start_time": "2023-03-30T21:10:20.582Z"
   },
   {
    "duration": 636,
    "start_time": "2023-03-30T21:10:35.509Z"
   },
   {
    "duration": 520,
    "start_time": "2023-03-30T21:10:51.117Z"
   },
   {
    "duration": 5,
    "start_time": "2023-03-30T21:11:12.419Z"
   },
   {
    "duration": 5,
    "start_time": "2023-03-30T21:11:37.498Z"
   },
   {
    "duration": 511,
    "start_time": "2023-03-30T21:18:46.782Z"
   },
   {
    "duration": 73,
    "start_time": "2023-03-30T21:19:12.904Z"
   },
   {
    "duration": 529,
    "start_time": "2023-03-30T21:19:17.235Z"
   },
   {
    "duration": 172,
    "start_time": "2023-03-30T21:19:30.715Z"
   },
   {
    "duration": 186,
    "start_time": "2023-03-30T21:25:54.060Z"
   },
   {
    "duration": 170,
    "start_time": "2023-03-30T21:26:30.905Z"
   },
   {
    "duration": 8,
    "start_time": "2023-03-30T21:44:07.799Z"
   },
   {
    "duration": 13,
    "start_time": "2023-03-30T21:44:16.960Z"
   },
   {
    "duration": 8,
    "start_time": "2023-03-30T21:44:21.133Z"
   },
   {
    "duration": 173,
    "start_time": "2023-03-30T21:46:42.314Z"
   },
   {
    "duration": 222,
    "start_time": "2023-03-30T21:47:16.506Z"
   },
   {
    "duration": 7,
    "start_time": "2023-03-30T21:48:22.121Z"
   },
   {
    "duration": 4,
    "start_time": "2023-03-30T21:51:54.802Z"
   },
   {
    "duration": 5,
    "start_time": "2023-03-30T21:51:56.916Z"
   },
   {
    "duration": 1097,
    "start_time": "2023-03-30T21:52:07.194Z"
   },
   {
    "duration": 4,
    "start_time": "2023-03-30T21:52:27.727Z"
   },
   {
    "duration": 1697,
    "start_time": "2023-03-30T21:52:31.317Z"
   },
   {
    "duration": 3,
    "start_time": "2023-03-30T21:52:54.594Z"
   },
   {
    "duration": 1582,
    "start_time": "2023-03-30T21:53:01.022Z"
   },
   {
    "duration": 3,
    "start_time": "2023-03-30T21:53:54.479Z"
   },
   {
    "duration": 1662,
    "start_time": "2023-03-30T21:53:58.546Z"
   },
   {
    "duration": 4,
    "start_time": "2023-03-30T21:55:15.678Z"
   },
   {
    "duration": 168,
    "start_time": "2023-03-30T21:55:18.634Z"
   },
   {
    "duration": 4,
    "start_time": "2023-03-30T21:56:02.080Z"
   },
   {
    "duration": 1591,
    "start_time": "2023-03-30T21:56:04.647Z"
   },
   {
    "duration": 4,
    "start_time": "2023-03-30T21:56:36.121Z"
   },
   {
    "duration": 1648,
    "start_time": "2023-03-30T21:56:38.961Z"
   },
   {
    "duration": 4,
    "start_time": "2023-03-30T21:57:06.672Z"
   },
   {
    "duration": 1569,
    "start_time": "2023-03-30T21:57:11.443Z"
   },
   {
    "duration": 4,
    "start_time": "2023-03-30T21:57:25.110Z"
   },
   {
    "duration": 1690,
    "start_time": "2023-03-30T21:57:33.279Z"
   },
   {
    "duration": 4,
    "start_time": "2023-03-30T22:09:00.509Z"
   },
   {
    "duration": 1021,
    "start_time": "2023-03-30T22:09:03.414Z"
   },
   {
    "duration": 96,
    "start_time": "2023-03-30T22:12:09.924Z"
   },
   {
    "duration": 5,
    "start_time": "2023-03-30T22:12:33.270Z"
   },
   {
    "duration": 2245,
    "start_time": "2023-03-30T22:12:37.002Z"
   },
   {
    "duration": 5,
    "start_time": "2023-03-30T22:13:10.372Z"
   },
   {
    "duration": 1657,
    "start_time": "2023-03-30T22:13:12.988Z"
   },
   {
    "duration": 4,
    "start_time": "2023-03-30T22:14:14.999Z"
   },
   {
    "duration": 0,
    "start_time": "2023-03-30T22:15:11.269Z"
   },
   {
    "duration": 0,
    "start_time": "2023-03-30T22:15:11.270Z"
   },
   {
    "duration": 7,
    "start_time": "2023-03-30T22:15:24.064Z"
   },
   {
    "duration": 1179,
    "start_time": "2023-03-30T22:18:47.939Z"
   },
   {
    "duration": 76,
    "start_time": "2023-03-30T22:18:49.120Z"
   },
   {
    "duration": 26,
    "start_time": "2023-03-30T22:18:49.198Z"
   },
   {
    "duration": 7,
    "start_time": "2023-03-30T22:18:49.225Z"
   },
   {
    "duration": 213,
    "start_time": "2023-03-30T22:18:49.234Z"
   },
   {
    "duration": 84,
    "start_time": "2023-03-30T22:18:49.448Z"
   },
   {
    "duration": 8,
    "start_time": "2023-03-30T22:18:49.533Z"
   },
   {
    "duration": 25,
    "start_time": "2023-03-30T22:18:49.542Z"
   },
   {
    "duration": 6,
    "start_time": "2023-03-30T22:18:49.569Z"
   },
   {
    "duration": 21,
    "start_time": "2023-03-30T22:18:49.576Z"
   },
   {
    "duration": 370,
    "start_time": "2023-03-30T22:18:49.599Z"
   },
   {
    "duration": 3,
    "start_time": "2023-03-30T22:18:49.971Z"
   },
   {
    "duration": 9,
    "start_time": "2023-03-30T22:18:49.976Z"
   },
   {
    "duration": 3,
    "start_time": "2023-03-30T22:18:49.988Z"
   },
   {
    "duration": 22,
    "start_time": "2023-03-30T22:18:49.992Z"
   },
   {
    "duration": 15,
    "start_time": "2023-03-30T22:18:50.016Z"
   },
   {
    "duration": 49,
    "start_time": "2023-03-30T22:18:50.033Z"
   },
   {
    "duration": 582,
    "start_time": "2023-03-30T22:18:50.083Z"
   },
   {
    "duration": 15,
    "start_time": "2023-03-30T22:18:50.667Z"
   },
   {
    "duration": 7,
    "start_time": "2023-03-30T22:18:50.683Z"
   },
   {
    "duration": 23,
    "start_time": "2023-03-30T22:18:50.692Z"
   },
   {
    "duration": 13,
    "start_time": "2023-03-30T22:18:50.763Z"
   },
   {
    "duration": 15,
    "start_time": "2023-03-30T22:18:50.778Z"
   },
   {
    "duration": 1182,
    "start_time": "2023-03-30T22:21:43.070Z"
   },
   {
    "duration": 74,
    "start_time": "2023-03-30T22:21:44.254Z"
   },
   {
    "duration": 27,
    "start_time": "2023-03-30T22:21:44.330Z"
   },
   {
    "duration": 7,
    "start_time": "2023-03-30T22:21:44.359Z"
   },
   {
    "duration": 218,
    "start_time": "2023-03-30T22:21:44.367Z"
   },
   {
    "duration": 87,
    "start_time": "2023-03-30T22:21:44.587Z"
   },
   {
    "duration": 7,
    "start_time": "2023-03-30T22:21:44.676Z"
   },
   {
    "duration": 12,
    "start_time": "2023-03-30T22:21:44.685Z"
   },
   {
    "duration": 6,
    "start_time": "2023-03-30T22:21:44.699Z"
   },
   {
    "duration": 28,
    "start_time": "2023-03-30T22:21:44.707Z"
   },
   {
    "duration": 385,
    "start_time": "2023-03-30T22:21:44.737Z"
   },
   {
    "duration": 3,
    "start_time": "2023-03-30T22:21:45.124Z"
   },
   {
    "duration": 9,
    "start_time": "2023-03-30T22:21:45.129Z"
   },
   {
    "duration": 22,
    "start_time": "2023-03-30T22:21:45.139Z"
   },
   {
    "duration": 33,
    "start_time": "2023-03-30T22:21:45.163Z"
   },
   {
    "duration": 15,
    "start_time": "2023-03-30T22:21:45.198Z"
   },
   {
    "duration": 23,
    "start_time": "2023-03-30T22:21:45.214Z"
   },
   {
    "duration": 431,
    "start_time": "2023-03-30T22:21:45.239Z"
   },
   {
    "duration": 16,
    "start_time": "2023-03-30T22:21:45.671Z"
   },
   {
    "duration": 6,
    "start_time": "2023-03-30T22:21:45.689Z"
   },
   {
    "duration": 4,
    "start_time": "2023-03-30T22:21:45.696Z"
   },
   {
    "duration": 6,
    "start_time": "2023-03-30T22:21:45.701Z"
   },
   {
    "duration": 7,
    "start_time": "2023-03-30T22:21:45.708Z"
   },
   {
    "duration": 1326,
    "start_time": "2023-03-30T22:21:45.716Z"
   },
   {
    "duration": 1543,
    "start_time": "2023-03-30T22:21:47.044Z"
   },
   {
    "duration": 5,
    "start_time": "2023-03-30T22:21:48.588Z"
   },
   {
    "duration": 12,
    "start_time": "2023-03-30T22:21:48.595Z"
   },
   {
    "duration": 7,
    "start_time": "2023-03-30T22:21:48.610Z"
   },
   {
    "duration": 7,
    "start_time": "2023-03-30T22:21:48.619Z"
   },
   {
    "duration": 7,
    "start_time": "2023-03-30T22:21:48.627Z"
   },
   {
    "duration": 4,
    "start_time": "2023-03-30T22:21:48.661Z"
   },
   {
    "duration": 12,
    "start_time": "2023-03-30T22:21:48.667Z"
   },
   {
    "duration": 11,
    "start_time": "2023-03-30T22:21:48.681Z"
   },
   {
    "duration": 11,
    "start_time": "2023-03-30T22:21:48.694Z"
   },
   {
    "duration": 10,
    "start_time": "2023-03-30T22:21:48.707Z"
   },
   {
    "duration": 4,
    "start_time": "2023-03-30T22:28:18.849Z"
   },
   {
    "duration": 253,
    "start_time": "2023-03-30T22:28:22.637Z"
   },
   {
    "duration": 4,
    "start_time": "2023-03-30T22:29:05.004Z"
   },
   {
    "duration": 147,
    "start_time": "2023-03-30T22:29:07.946Z"
   },
   {
    "duration": 4,
    "start_time": "2023-03-30T22:33:50.261Z"
   },
   {
    "duration": 234,
    "start_time": "2023-03-30T22:33:53.196Z"
   },
   {
    "duration": 5,
    "start_time": "2023-03-30T22:36:24.466Z"
   },
   {
    "duration": 773,
    "start_time": "2023-03-30T22:36:26.869Z"
   },
   {
    "duration": 4,
    "start_time": "2023-03-30T22:36:57.296Z"
   },
   {
    "duration": 702,
    "start_time": "2023-03-30T22:36:59.521Z"
   },
   {
    "duration": 5,
    "start_time": "2023-03-30T22:38:15.357Z"
   },
   {
    "duration": 689,
    "start_time": "2023-03-30T22:38:17.333Z"
   },
   {
    "duration": 5,
    "start_time": "2023-03-30T22:38:31.004Z"
   },
   {
    "duration": 833,
    "start_time": "2023-03-30T22:38:33.425Z"
   },
   {
    "duration": 5,
    "start_time": "2023-03-30T22:39:01.131Z"
   },
   {
    "duration": 720,
    "start_time": "2023-03-30T22:39:03.852Z"
   },
   {
    "duration": 4,
    "start_time": "2023-03-30T23:27:23.547Z"
   },
   {
    "duration": 17614,
    "start_time": "2023-03-30T23:27:26.733Z"
   },
   {
    "duration": 14,
    "start_time": "2023-03-30T23:29:45.867Z"
   },
   {
    "duration": 14,
    "start_time": "2023-03-30T23:30:22.746Z"
   },
   {
    "duration": 14,
    "start_time": "2023-03-30T23:31:50.200Z"
   },
   {
    "duration": 12,
    "start_time": "2023-03-30T23:32:32.723Z"
   },
   {
    "duration": 15,
    "start_time": "2023-03-31T08:26:31.486Z"
   },
   {
    "duration": 1480,
    "start_time": "2023-03-31T08:26:38.088Z"
   },
   {
    "duration": 74,
    "start_time": "2023-03-31T08:26:39.570Z"
   },
   {
    "duration": 39,
    "start_time": "2023-03-31T08:26:39.647Z"
   },
   {
    "duration": 11,
    "start_time": "2023-03-31T08:26:39.689Z"
   },
   {
    "duration": 243,
    "start_time": "2023-03-31T08:26:39.702Z"
   },
   {
    "duration": 101,
    "start_time": "2023-03-31T08:26:39.947Z"
   },
   {
    "duration": 10,
    "start_time": "2023-03-31T08:26:40.050Z"
   },
   {
    "duration": 20,
    "start_time": "2023-03-31T08:26:40.062Z"
   },
   {
    "duration": 22,
    "start_time": "2023-03-31T08:26:40.084Z"
   },
   {
    "duration": 19,
    "start_time": "2023-03-31T08:26:40.109Z"
   },
   {
    "duration": 447,
    "start_time": "2023-03-31T08:26:40.129Z"
   },
   {
    "duration": 3,
    "start_time": "2023-03-31T08:26:40.578Z"
   },
   {
    "duration": 21,
    "start_time": "2023-03-31T08:26:40.583Z"
   },
   {
    "duration": 10,
    "start_time": "2023-03-31T08:26:40.606Z"
   },
   {
    "duration": 38,
    "start_time": "2023-03-31T08:26:40.619Z"
   },
   {
    "duration": 22,
    "start_time": "2023-03-31T08:26:40.660Z"
   },
   {
    "duration": 40,
    "start_time": "2023-03-31T08:26:40.684Z"
   },
   {
    "duration": 558,
    "start_time": "2023-03-31T08:26:40.726Z"
   },
   {
    "duration": 19,
    "start_time": "2023-03-31T08:26:41.286Z"
   },
   {
    "duration": 9,
    "start_time": "2023-03-31T08:26:41.307Z"
   },
   {
    "duration": 15,
    "start_time": "2023-03-31T08:26:41.318Z"
   },
   {
    "duration": 13,
    "start_time": "2023-03-31T08:26:41.335Z"
   },
   {
    "duration": 27,
    "start_time": "2023-03-31T08:26:41.350Z"
   },
   {
    "duration": 1888,
    "start_time": "2023-03-31T08:26:41.379Z"
   },
   {
    "duration": 1580,
    "start_time": "2023-03-31T08:26:43.270Z"
   },
   {
    "duration": 6,
    "start_time": "2023-03-31T08:26:44.851Z"
   },
   {
    "duration": 12,
    "start_time": "2023-03-31T08:26:44.859Z"
   },
   {
    "duration": 28,
    "start_time": "2023-03-31T08:26:44.875Z"
   },
   {
    "duration": 10,
    "start_time": "2023-03-31T08:26:44.905Z"
   },
   {
    "duration": 10,
    "start_time": "2023-03-31T08:26:44.917Z"
   },
   {
    "duration": 5,
    "start_time": "2023-03-31T08:26:44.929Z"
   },
   {
    "duration": 14,
    "start_time": "2023-03-31T08:26:44.936Z"
   },
   {
    "duration": 56,
    "start_time": "2023-03-31T08:26:44.952Z"
   },
   {
    "duration": 16,
    "start_time": "2023-03-31T08:26:45.010Z"
   },
   {
    "duration": 16,
    "start_time": "2023-03-31T08:26:45.028Z"
   },
   {
    "duration": 469,
    "start_time": "2023-03-31T08:33:38.033Z"
   },
   {
    "duration": 1419,
    "start_time": "2023-03-31T08:33:49.044Z"
   },
   {
    "duration": 560,
    "start_time": "2023-03-31T08:34:10.662Z"
   },
   {
    "duration": 454,
    "start_time": "2023-03-31T08:34:20.557Z"
   },
   {
    "duration": 444,
    "start_time": "2023-03-31T08:34:32.916Z"
   },
   {
    "duration": 422,
    "start_time": "2023-03-31T08:34:50.301Z"
   },
   {
    "duration": 552,
    "start_time": "2023-03-31T08:34:56.376Z"
   },
   {
    "duration": 380,
    "start_time": "2023-03-31T08:35:18.862Z"
   },
   {
    "duration": 6,
    "start_time": "2023-03-31T08:41:23.265Z"
   },
   {
    "duration": 5,
    "start_time": "2023-03-31T08:41:24.572Z"
   },
   {
    "duration": 4,
    "start_time": "2023-03-31T08:41:24.892Z"
   },
   {
    "duration": 5,
    "start_time": "2023-03-31T08:41:25.212Z"
   },
   {
    "duration": 1805,
    "start_time": "2023-03-31T08:41:26.089Z"
   },
   {
    "duration": 1670,
    "start_time": "2023-03-31T08:41:27.897Z"
   },
   {
    "duration": 7,
    "start_time": "2023-03-31T08:43:57.800Z"
   },
   {
    "duration": 36561,
    "start_time": "2023-03-31T08:44:00.182Z"
   },
   {
    "duration": 0,
    "start_time": "2023-03-31T08:44:36.748Z"
   },
   {
    "duration": 6,
    "start_time": "2023-03-31T08:44:50.234Z"
   },
   {
    "duration": 24036,
    "start_time": "2023-03-31T08:44:53.330Z"
   },
   {
    "duration": 124,
    "start_time": "2023-03-31T08:53:26.162Z"
   },
   {
    "duration": 75,
    "start_time": "2023-03-31T08:54:28.787Z"
   },
   {
    "duration": 5,
    "start_time": "2023-03-31T08:55:46.775Z"
   },
   {
    "duration": 150,
    "start_time": "2023-03-31T08:55:50.275Z"
   },
   {
    "duration": 5,
    "start_time": "2023-03-31T08:56:18.276Z"
   },
   {
    "duration": 156,
    "start_time": "2023-03-31T08:56:20.608Z"
   },
   {
    "duration": 5,
    "start_time": "2023-03-31T08:57:06.288Z"
   },
   {
    "duration": 6,
    "start_time": "2023-03-31T08:57:18.713Z"
   },
   {
    "duration": 152,
    "start_time": "2023-03-31T08:57:23.207Z"
   },
   {
    "duration": 5,
    "start_time": "2023-03-31T08:58:25.362Z"
   },
   {
    "duration": 151,
    "start_time": "2023-03-31T08:58:28.440Z"
   },
   {
    "duration": 5,
    "start_time": "2023-03-31T09:00:14.518Z"
   },
   {
    "duration": 153,
    "start_time": "2023-03-31T09:00:16.334Z"
   },
   {
    "duration": 8,
    "start_time": "2023-03-31T09:01:16.055Z"
   },
   {
    "duration": 4425,
    "start_time": "2023-03-31T09:01:18.496Z"
   },
   {
    "duration": 7,
    "start_time": "2023-03-31T09:03:45.091Z"
   },
   {
    "duration": 849,
    "start_time": "2023-03-31T09:03:48.761Z"
   },
   {
    "duration": 8,
    "start_time": "2023-03-31T09:04:12.245Z"
   },
   {
    "duration": 1774,
    "start_time": "2023-03-31T09:04:14.762Z"
   },
   {
    "duration": 7,
    "start_time": "2023-03-31T09:04:36.842Z"
   },
   {
    "duration": 822,
    "start_time": "2023-03-31T09:04:39.981Z"
   },
   {
    "duration": 9,
    "start_time": "2023-03-31T09:06:01.539Z"
   },
   {
    "duration": 827,
    "start_time": "2023-03-31T09:06:04.438Z"
   },
   {
    "duration": 6,
    "start_time": "2023-03-31T09:06:13.387Z"
   },
   {
    "duration": 587,
    "start_time": "2023-03-31T09:06:15.768Z"
   },
   {
    "duration": 6,
    "start_time": "2023-03-31T09:06:21.486Z"
   },
   {
    "duration": 793,
    "start_time": "2023-03-31T09:06:23.918Z"
   },
   {
    "duration": 5,
    "start_time": "2023-03-31T09:06:38.623Z"
   },
   {
    "duration": 1162,
    "start_time": "2023-03-31T09:06:41.243Z"
   },
   {
    "duration": 8,
    "start_time": "2023-03-31T09:07:11.998Z"
   },
   {
    "duration": 1717,
    "start_time": "2023-03-31T09:07:14.952Z"
   },
   {
    "duration": 8,
    "start_time": "2023-03-31T09:13:07.986Z"
   },
   {
    "duration": 1992,
    "start_time": "2023-03-31T09:13:10.622Z"
   },
   {
    "duration": 455,
    "start_time": "2023-03-31T09:13:47.036Z"
   },
   {
    "duration": 497,
    "start_time": "2023-03-31T09:14:58.523Z"
   },
   {
    "duration": 541,
    "start_time": "2023-03-31T09:15:16.496Z"
   },
   {
    "duration": 653,
    "start_time": "2023-03-31T09:15:27.027Z"
   },
   {
    "duration": 269,
    "start_time": "2023-03-31T09:16:07.587Z"
   },
   {
    "duration": 538,
    "start_time": "2023-03-31T09:16:12.745Z"
   },
   {
    "duration": 8,
    "start_time": "2023-03-31T09:20:22.928Z"
   },
   {
    "duration": 3078,
    "start_time": "2023-03-31T09:20:25.268Z"
   },
   {
    "duration": 8,
    "start_time": "2023-03-31T09:21:45.634Z"
   },
   {
    "duration": 1895,
    "start_time": "2023-03-31T09:21:48.570Z"
   },
   {
    "duration": 6,
    "start_time": "2023-03-31T09:22:19.284Z"
   },
   {
    "duration": 1699,
    "start_time": "2023-03-31T09:22:22.221Z"
   },
   {
    "duration": 6,
    "start_time": "2023-03-31T09:27:46.695Z"
   },
   {
    "duration": 6,
    "start_time": "2023-03-31T09:27:52.572Z"
   },
   {
    "duration": 9,
    "start_time": "2023-03-31T09:27:54.850Z"
   },
   {
    "duration": 5,
    "start_time": "2023-03-31T09:28:21.382Z"
   },
   {
    "duration": 999,
    "start_time": "2023-03-31T09:28:23.758Z"
   },
   {
    "duration": 6,
    "start_time": "2023-03-31T09:28:34.137Z"
   },
   {
    "duration": 1189,
    "start_time": "2023-03-31T09:28:36.792Z"
   },
   {
    "duration": 5,
    "start_time": "2023-03-31T09:28:43.786Z"
   },
   {
    "duration": 1012,
    "start_time": "2023-03-31T09:28:45.819Z"
   },
   {
    "duration": 6,
    "start_time": "2023-03-31T09:28:52.523Z"
   },
   {
    "duration": 1138,
    "start_time": "2023-03-31T09:28:55.260Z"
   },
   {
    "duration": 18,
    "start_time": "2023-03-31T09:32:23.570Z"
   },
   {
    "duration": 1262,
    "start_time": "2023-03-31T09:33:14.677Z"
   },
   {
    "duration": 35,
    "start_time": "2023-03-31T09:33:15.943Z"
   },
   {
    "duration": 36,
    "start_time": "2023-03-31T09:33:15.981Z"
   },
   {
    "duration": 9,
    "start_time": "2023-03-31T09:33:16.023Z"
   },
   {
    "duration": 243,
    "start_time": "2023-03-31T09:33:16.034Z"
   },
   {
    "duration": 95,
    "start_time": "2023-03-31T09:33:16.279Z"
   },
   {
    "duration": 8,
    "start_time": "2023-03-31T09:33:16.376Z"
   },
   {
    "duration": 30,
    "start_time": "2023-03-31T09:33:16.386Z"
   },
   {
    "duration": 1420,
    "start_time": "2023-03-31T09:33:16.419Z"
   },
   {
    "duration": 0,
    "start_time": "2023-03-31T09:33:17.840Z"
   },
   {
    "duration": 0,
    "start_time": "2023-03-31T09:33:17.842Z"
   },
   {
    "duration": 0,
    "start_time": "2023-03-31T09:33:17.843Z"
   },
   {
    "duration": 0,
    "start_time": "2023-03-31T09:33:17.844Z"
   },
   {
    "duration": 0,
    "start_time": "2023-03-31T09:33:17.845Z"
   },
   {
    "duration": 0,
    "start_time": "2023-03-31T09:33:17.846Z"
   },
   {
    "duration": 1,
    "start_time": "2023-03-31T09:33:17.847Z"
   },
   {
    "duration": 1,
    "start_time": "2023-03-31T09:33:17.848Z"
   },
   {
    "duration": 0,
    "start_time": "2023-03-31T09:33:17.850Z"
   },
   {
    "duration": 0,
    "start_time": "2023-03-31T09:33:17.851Z"
   },
   {
    "duration": 0,
    "start_time": "2023-03-31T09:33:17.852Z"
   },
   {
    "duration": 0,
    "start_time": "2023-03-31T09:33:17.853Z"
   },
   {
    "duration": 0,
    "start_time": "2023-03-31T09:33:17.854Z"
   },
   {
    "duration": 0,
    "start_time": "2023-03-31T09:33:17.855Z"
   },
   {
    "duration": 0,
    "start_time": "2023-03-31T09:33:17.856Z"
   },
   {
    "duration": 0,
    "start_time": "2023-03-31T09:33:17.858Z"
   },
   {
    "duration": 0,
    "start_time": "2023-03-31T09:33:17.859Z"
   },
   {
    "duration": 0,
    "start_time": "2023-03-31T09:33:17.860Z"
   },
   {
    "duration": 0,
    "start_time": "2023-03-31T09:33:17.861Z"
   },
   {
    "duration": 0,
    "start_time": "2023-03-31T09:33:17.862Z"
   },
   {
    "duration": 0,
    "start_time": "2023-03-31T09:33:17.907Z"
   },
   {
    "duration": 0,
    "start_time": "2023-03-31T09:33:17.907Z"
   },
   {
    "duration": 0,
    "start_time": "2023-03-31T09:33:17.908Z"
   },
   {
    "duration": 0,
    "start_time": "2023-03-31T09:33:17.909Z"
   },
   {
    "duration": 0,
    "start_time": "2023-03-31T09:33:17.910Z"
   },
   {
    "duration": 0,
    "start_time": "2023-03-31T09:33:17.911Z"
   },
   {
    "duration": 7,
    "start_time": "2023-03-31T09:33:55.040Z"
   },
   {
    "duration": 1195,
    "start_time": "2023-03-31T09:36:09.815Z"
   },
   {
    "duration": 1228,
    "start_time": "2023-03-31T09:36:20.840Z"
   },
   {
    "duration": 36,
    "start_time": "2023-03-31T09:36:22.071Z"
   },
   {
    "duration": 28,
    "start_time": "2023-03-31T09:36:22.109Z"
   },
   {
    "duration": 7,
    "start_time": "2023-03-31T09:36:22.139Z"
   },
   {
    "duration": 478,
    "start_time": "2023-03-31T09:36:22.148Z"
   },
   {
    "duration": 189,
    "start_time": "2023-03-31T09:36:22.627Z"
   },
   {
    "duration": 6,
    "start_time": "2023-03-31T09:36:22.818Z"
   },
   {
    "duration": 85,
    "start_time": "2023-03-31T09:36:22.826Z"
   },
   {
    "duration": 214,
    "start_time": "2023-03-31T09:36:22.913Z"
   },
   {
    "duration": 0,
    "start_time": "2023-03-31T09:36:23.130Z"
   },
   {
    "duration": 0,
    "start_time": "2023-03-31T09:36:23.131Z"
   },
   {
    "duration": 0,
    "start_time": "2023-03-31T09:36:23.133Z"
   },
   {
    "duration": 0,
    "start_time": "2023-03-31T09:36:23.134Z"
   },
   {
    "duration": 0,
    "start_time": "2023-03-31T09:36:23.135Z"
   },
   {
    "duration": 0,
    "start_time": "2023-03-31T09:36:23.136Z"
   },
   {
    "duration": 0,
    "start_time": "2023-03-31T09:36:23.137Z"
   },
   {
    "duration": 0,
    "start_time": "2023-03-31T09:36:23.138Z"
   },
   {
    "duration": 0,
    "start_time": "2023-03-31T09:36:23.139Z"
   },
   {
    "duration": 0,
    "start_time": "2023-03-31T09:36:23.140Z"
   },
   {
    "duration": 0,
    "start_time": "2023-03-31T09:36:23.141Z"
   },
   {
    "duration": 0,
    "start_time": "2023-03-31T09:36:23.142Z"
   },
   {
    "duration": 0,
    "start_time": "2023-03-31T09:36:23.143Z"
   },
   {
    "duration": 0,
    "start_time": "2023-03-31T09:36:23.144Z"
   },
   {
    "duration": 0,
    "start_time": "2023-03-31T09:36:23.145Z"
   },
   {
    "duration": 0,
    "start_time": "2023-03-31T09:36:23.146Z"
   },
   {
    "duration": 0,
    "start_time": "2023-03-31T09:36:23.147Z"
   },
   {
    "duration": 0,
    "start_time": "2023-03-31T09:36:23.203Z"
   },
   {
    "duration": 0,
    "start_time": "2023-03-31T09:36:23.205Z"
   },
   {
    "duration": 0,
    "start_time": "2023-03-31T09:36:23.207Z"
   },
   {
    "duration": 0,
    "start_time": "2023-03-31T09:36:23.208Z"
   },
   {
    "duration": 0,
    "start_time": "2023-03-31T09:36:23.210Z"
   },
   {
    "duration": 0,
    "start_time": "2023-03-31T09:36:23.211Z"
   },
   {
    "duration": 0,
    "start_time": "2023-03-31T09:36:23.213Z"
   },
   {
    "duration": 0,
    "start_time": "2023-03-31T09:36:23.214Z"
   },
   {
    "duration": 0,
    "start_time": "2023-03-31T09:36:23.215Z"
   },
   {
    "duration": 323,
    "start_time": "2023-03-31T09:38:37.498Z"
   },
   {
    "duration": 11,
    "start_time": "2023-03-31T09:39:01.195Z"
   },
   {
    "duration": 1209,
    "start_time": "2023-03-31T09:39:14.297Z"
   },
   {
    "duration": 46,
    "start_time": "2023-03-31T09:39:15.510Z"
   },
   {
    "duration": 28,
    "start_time": "2023-03-31T09:39:15.560Z"
   },
   {
    "duration": 8,
    "start_time": "2023-03-31T09:39:15.591Z"
   },
   {
    "duration": 251,
    "start_time": "2023-03-31T09:39:15.601Z"
   },
   {
    "duration": 93,
    "start_time": "2023-03-31T09:39:15.854Z"
   },
   {
    "duration": 7,
    "start_time": "2023-03-31T09:39:15.949Z"
   },
   {
    "duration": 12,
    "start_time": "2023-03-31T09:39:15.958Z"
   },
   {
    "duration": 41,
    "start_time": "2023-03-31T09:39:15.972Z"
   },
   {
    "duration": 18,
    "start_time": "2023-03-31T09:39:16.017Z"
   },
   {
    "duration": 1074,
    "start_time": "2023-03-31T09:39:16.037Z"
   },
   {
    "duration": 6,
    "start_time": "2023-03-31T09:39:17.112Z"
   },
   {
    "duration": 9,
    "start_time": "2023-03-31T09:39:17.124Z"
   },
   {
    "duration": 5,
    "start_time": "2023-03-31T09:39:17.135Z"
   },
   {
    "duration": 80,
    "start_time": "2023-03-31T09:39:17.142Z"
   },
   {
    "duration": 17,
    "start_time": "2023-03-31T09:39:17.224Z"
   },
   {
    "duration": 79,
    "start_time": "2023-03-31T09:39:17.243Z"
   },
   {
    "duration": 924,
    "start_time": "2023-03-31T09:39:17.324Z"
   },
   {
    "duration": 23,
    "start_time": "2023-03-31T09:39:18.302Z"
   },
   {
    "duration": 12,
    "start_time": "2023-03-31T09:39:18.327Z"
   },
   {
    "duration": 72,
    "start_time": "2023-03-31T09:39:18.341Z"
   },
   {
    "duration": 17,
    "start_time": "2023-03-31T09:39:18.415Z"
   },
   {
    "duration": 11,
    "start_time": "2023-03-31T09:39:18.434Z"
   },
   {
    "duration": 1370,
    "start_time": "2023-03-31T09:39:18.447Z"
   },
   {
    "duration": 0,
    "start_time": "2023-03-31T09:39:19.820Z"
   },
   {
    "duration": 0,
    "start_time": "2023-03-31T09:39:19.821Z"
   },
   {
    "duration": 0,
    "start_time": "2023-03-31T09:39:19.822Z"
   },
   {
    "duration": 0,
    "start_time": "2023-03-31T09:39:19.823Z"
   },
   {
    "duration": 0,
    "start_time": "2023-03-31T09:39:19.824Z"
   },
   {
    "duration": 1,
    "start_time": "2023-03-31T09:39:19.825Z"
   },
   {
    "duration": 0,
    "start_time": "2023-03-31T09:39:19.827Z"
   },
   {
    "duration": 0,
    "start_time": "2023-03-31T09:39:19.828Z"
   },
   {
    "duration": 0,
    "start_time": "2023-03-31T09:39:19.830Z"
   },
   {
    "duration": 0,
    "start_time": "2023-03-31T09:39:19.831Z"
   },
   {
    "duration": 0,
    "start_time": "2023-03-31T09:39:19.832Z"
   },
   {
    "duration": 8,
    "start_time": "2023-03-31T09:40:00.529Z"
   },
   {
    "duration": 1029,
    "start_time": "2023-03-31T09:40:02.666Z"
   },
   {
    "duration": 6,
    "start_time": "2023-03-31T09:40:09.571Z"
   },
   {
    "duration": 1228,
    "start_time": "2023-03-31T09:40:11.396Z"
   },
   {
    "duration": 6,
    "start_time": "2023-03-31T09:40:18.320Z"
   },
   {
    "duration": 1036,
    "start_time": "2023-03-31T09:40:19.820Z"
   },
   {
    "duration": 5,
    "start_time": "2023-03-31T09:40:34.328Z"
   },
   {
    "duration": 1180,
    "start_time": "2023-03-31T09:40:35.982Z"
   },
   {
    "duration": 78,
    "start_time": "2023-03-31T09:47:39.440Z"
   },
   {
    "duration": 145,
    "start_time": "2023-03-31T09:48:24.896Z"
   },
   {
    "duration": 99,
    "start_time": "2023-03-31T09:48:30.372Z"
   },
   {
    "duration": 12,
    "start_time": "2023-03-31T09:48:39.028Z"
   },
   {
    "duration": 6,
    "start_time": "2023-03-31T09:49:07.297Z"
   },
   {
    "duration": 6,
    "start_time": "2023-03-31T09:49:50.576Z"
   },
   {
    "duration": 2268,
    "start_time": "2023-03-31T09:49:52.660Z"
   },
   {
    "duration": 5,
    "start_time": "2023-03-31T09:50:04.976Z"
   },
   {
    "duration": 2348,
    "start_time": "2023-03-31T09:50:07.132Z"
   },
   {
    "duration": 7,
    "start_time": "2023-03-31T09:50:20.043Z"
   },
   {
    "duration": 2288,
    "start_time": "2023-03-31T09:50:25.475Z"
   },
   {
    "duration": 8,
    "start_time": "2023-03-31T09:50:45.894Z"
   },
   {
    "duration": 2388,
    "start_time": "2023-03-31T09:50:48.364Z"
   },
   {
    "duration": 8,
    "start_time": "2023-03-31T09:50:58.131Z"
   },
   {
    "duration": 1879,
    "start_time": "2023-03-31T09:51:00.074Z"
   },
   {
    "duration": 174,
    "start_time": "2023-03-31T09:55:46.827Z"
   },
   {
    "duration": 166,
    "start_time": "2023-03-31T09:56:16.481Z"
   },
   {
    "duration": 589,
    "start_time": "2023-03-31T09:56:59.316Z"
   },
   {
    "duration": 497,
    "start_time": "2023-03-31T09:57:07.950Z"
   },
   {
    "duration": 524,
    "start_time": "2023-03-31T09:57:39.470Z"
   },
   {
    "duration": 561,
    "start_time": "2023-03-31T09:57:56.220Z"
   },
   {
    "duration": 361,
    "start_time": "2023-03-31T09:58:04.740Z"
   },
   {
    "duration": 5,
    "start_time": "2023-03-31T10:00:12.496Z"
   },
   {
    "duration": 1432,
    "start_time": "2023-03-31T10:00:14.958Z"
   },
   {
    "duration": 1829,
    "start_time": "2023-03-31T10:00:30.639Z"
   },
   {
    "duration": 570,
    "start_time": "2023-03-31T10:02:57.087Z"
   },
   {
    "duration": 549,
    "start_time": "2023-03-31T10:03:52.554Z"
   },
   {
    "duration": 391,
    "start_time": "2023-03-31T10:04:24.394Z"
   },
   {
    "duration": 34,
    "start_time": "2023-03-31T10:09:24.824Z"
   },
   {
    "duration": 427,
    "start_time": "2023-03-31T10:09:37.950Z"
   },
   {
    "duration": 497,
    "start_time": "2023-03-31T10:09:56.084Z"
   },
   {
    "duration": 152,
    "start_time": "2023-03-31T10:10:52.783Z"
   },
   {
    "duration": 165,
    "start_time": "2023-03-31T10:11:19.977Z"
   },
   {
    "duration": 8,
    "start_time": "2023-03-31T10:12:24.790Z"
   },
   {
    "duration": 9,
    "start_time": "2023-03-31T10:12:32.469Z"
   },
   {
    "duration": 153,
    "start_time": "2023-03-31T10:12:37.853Z"
   },
   {
    "duration": 1231,
    "start_time": "2023-03-31T10:13:11.393Z"
   },
   {
    "duration": 9,
    "start_time": "2023-03-31T10:13:26.681Z"
   },
   {
    "duration": 10,
    "start_time": "2023-03-31T10:13:29.656Z"
   },
   {
    "duration": 437,
    "start_time": "2023-03-31T10:14:07.888Z"
   },
   {
    "duration": 8395,
    "start_time": "2023-03-31T10:15:08.631Z"
   },
   {
    "duration": 1484,
    "start_time": "2023-03-31T10:15:18.994Z"
   },
   {
    "duration": 327,
    "start_time": "2023-03-31T10:15:26.255Z"
   },
   {
    "duration": 360,
    "start_time": "2023-03-31T10:15:32.490Z"
   },
   {
    "duration": 388,
    "start_time": "2023-03-31T10:15:37.361Z"
   },
   {
    "duration": 435,
    "start_time": "2023-03-31T10:42:12.254Z"
   },
   {
    "duration": 519,
    "start_time": "2023-03-31T10:42:20.857Z"
   },
   {
    "duration": 392,
    "start_time": "2023-03-31T10:42:39.944Z"
   },
   {
    "duration": 1220,
    "start_time": "2023-03-31T10:44:34.449Z"
   },
   {
    "duration": 35,
    "start_time": "2023-03-31T10:44:35.671Z"
   },
   {
    "duration": 28,
    "start_time": "2023-03-31T10:44:35.707Z"
   },
   {
    "duration": 8,
    "start_time": "2023-03-31T10:44:35.738Z"
   },
   {
    "duration": 249,
    "start_time": "2023-03-31T10:44:35.748Z"
   },
   {
    "duration": 114,
    "start_time": "2023-03-31T10:44:36.003Z"
   },
   {
    "duration": 7,
    "start_time": "2023-03-31T10:44:36.119Z"
   },
   {
    "duration": 11,
    "start_time": "2023-03-31T10:44:36.128Z"
   },
   {
    "duration": 6,
    "start_time": "2023-03-31T10:44:36.141Z"
   },
   {
    "duration": 70,
    "start_time": "2023-03-31T10:44:36.149Z"
   },
   {
    "duration": 802,
    "start_time": "2023-03-31T10:44:36.221Z"
   },
   {
    "duration": 5,
    "start_time": "2023-03-31T10:44:37.025Z"
   },
   {
    "duration": 11,
    "start_time": "2023-03-31T10:44:37.031Z"
   },
   {
    "duration": 63,
    "start_time": "2023-03-31T10:44:37.044Z"
   },
   {
    "duration": 26,
    "start_time": "2023-03-31T10:44:37.108Z"
   },
   {
    "duration": 17,
    "start_time": "2023-03-31T10:44:37.136Z"
   },
   {
    "duration": 29,
    "start_time": "2023-03-31T10:44:37.208Z"
   },
   {
    "duration": 898,
    "start_time": "2023-03-31T10:44:37.239Z"
   },
   {
    "duration": 74,
    "start_time": "2023-03-31T10:44:38.139Z"
   },
   {
    "duration": 7,
    "start_time": "2023-03-31T10:44:38.221Z"
   },
   {
    "duration": 5,
    "start_time": "2023-03-31T10:44:38.230Z"
   },
   {
    "duration": 5,
    "start_time": "2023-03-31T10:44:38.236Z"
   },
   {
    "duration": 8,
    "start_time": "2023-03-31T10:44:38.243Z"
   },
   {
    "duration": 1437,
    "start_time": "2023-03-31T10:44:38.253Z"
   },
   {
    "duration": 393,
    "start_time": "2023-03-31T10:44:39.692Z"
   },
   {
    "duration": 1666,
    "start_time": "2023-03-31T10:44:40.087Z"
   },
   {
    "duration": 10,
    "start_time": "2023-03-31T10:44:41.755Z"
   },
   {
    "duration": 11,
    "start_time": "2023-03-31T10:44:41.769Z"
   },
   {
    "duration": 25,
    "start_time": "2023-03-31T10:44:41.783Z"
   },
   {
    "duration": 10,
    "start_time": "2023-03-31T10:44:41.817Z"
   },
   {
    "duration": 9,
    "start_time": "2023-03-31T10:44:41.829Z"
   },
   {
    "duration": 8,
    "start_time": "2023-03-31T10:44:41.840Z"
   },
   {
    "duration": 20,
    "start_time": "2023-03-31T10:44:41.850Z"
   },
   {
    "duration": 45,
    "start_time": "2023-03-31T10:44:41.872Z"
   },
   {
    "duration": 17,
    "start_time": "2023-03-31T10:44:41.924Z"
   },
   {
    "duration": 143,
    "start_time": "2023-03-31T10:44:41.943Z"
   },
   {
    "duration": 456,
    "start_time": "2023-03-31T10:45:49.497Z"
   },
   {
    "duration": 333,
    "start_time": "2023-03-31T10:45:53.418Z"
   },
   {
    "duration": 6,
    "start_time": "2023-03-31T10:46:51.439Z"
   },
   {
    "duration": 1081,
    "start_time": "2023-03-31T10:46:53.698Z"
   },
   {
    "duration": 481,
    "start_time": "2023-03-31T10:47:32.239Z"
   },
   {
    "duration": 5,
    "start_time": "2023-03-31T11:02:59.877Z"
   },
   {
    "duration": 11,
    "start_time": "2023-03-31T11:03:02.078Z"
   },
   {
    "duration": 8,
    "start_time": "2023-03-31T11:03:04.356Z"
   },
   {
    "duration": 10,
    "start_time": "2023-03-31T11:03:06.501Z"
   },
   {
    "duration": 9,
    "start_time": "2023-03-31T11:03:08.616Z"
   },
   {
    "duration": 5,
    "start_time": "2023-03-31T11:03:19.552Z"
   },
   {
    "duration": 103,
    "start_time": "2023-03-31T11:11:52.479Z"
   },
   {
    "duration": 79,
    "start_time": "2023-03-31T11:12:57.431Z"
   },
   {
    "duration": 104,
    "start_time": "2023-03-31T11:13:17.524Z"
   },
   {
    "duration": 7,
    "start_time": "2023-03-31T11:13:31.598Z"
   },
   {
    "duration": 10,
    "start_time": "2023-03-31T11:13:35.101Z"
   },
   {
    "duration": 9,
    "start_time": "2023-03-31T11:13:38.774Z"
   },
   {
    "duration": 10,
    "start_time": "2023-03-31T11:13:41.202Z"
   },
   {
    "duration": 8,
    "start_time": "2023-03-31T11:13:43.467Z"
   },
   {
    "duration": 4,
    "start_time": "2023-03-31T11:15:38.166Z"
   },
   {
    "duration": 7,
    "start_time": "2023-03-31T11:15:43.275Z"
   },
   {
    "duration": 11,
    "start_time": "2023-03-31T11:15:44.922Z"
   },
   {
    "duration": 7,
    "start_time": "2023-03-31T11:15:46.350Z"
   },
   {
    "duration": 9,
    "start_time": "2023-03-31T11:15:48.069Z"
   },
   {
    "duration": 6,
    "start_time": "2023-03-31T11:17:21.854Z"
   },
   {
    "duration": 10,
    "start_time": "2023-03-31T11:17:24.857Z"
   },
   {
    "duration": 9,
    "start_time": "2023-03-31T11:17:26.921Z"
   },
   {
    "duration": 7,
    "start_time": "2023-03-31T11:17:28.658Z"
   },
   {
    "duration": 9,
    "start_time": "2023-03-31T11:17:29.857Z"
   },
   {
    "duration": 5,
    "start_time": "2023-03-31T11:23:42.326Z"
   },
   {
    "duration": 8,
    "start_time": "2023-03-31T11:23:43.556Z"
   },
   {
    "duration": 8,
    "start_time": "2023-03-31T11:23:46.271Z"
   },
   {
    "duration": 14,
    "start_time": "2023-03-31T11:23:48.030Z"
   },
   {
    "duration": 9,
    "start_time": "2023-03-31T11:23:49.358Z"
   },
   {
    "duration": 6,
    "start_time": "2023-03-31T11:25:03.721Z"
   },
   {
    "duration": 9,
    "start_time": "2023-03-31T11:25:05.618Z"
   },
   {
    "duration": 8,
    "start_time": "2023-03-31T11:25:07.127Z"
   },
   {
    "duration": 10,
    "start_time": "2023-03-31T11:25:08.430Z"
   },
   {
    "duration": 8,
    "start_time": "2023-03-31T11:25:10.248Z"
   },
   {
    "duration": 1756,
    "start_time": "2023-03-31T11:30:37.957Z"
   },
   {
    "duration": 97,
    "start_time": "2023-03-31T11:30:39.716Z"
   },
   {
    "duration": 95,
    "start_time": "2023-03-31T11:30:39.816Z"
   },
   {
    "duration": 13,
    "start_time": "2023-03-31T11:30:39.914Z"
   },
   {
    "duration": 685,
    "start_time": "2023-03-31T11:30:39.935Z"
   },
   {
    "duration": 221,
    "start_time": "2023-03-31T11:30:40.627Z"
   },
   {
    "duration": 64,
    "start_time": "2023-03-31T11:30:40.851Z"
   },
   {
    "duration": 24,
    "start_time": "2023-03-31T11:30:40.921Z"
   },
   {
    "duration": 8,
    "start_time": "2023-03-31T11:30:40.947Z"
   },
   {
    "duration": 29,
    "start_time": "2023-03-31T11:30:41.005Z"
   },
   {
    "duration": 809,
    "start_time": "2023-03-31T11:30:41.037Z"
   },
   {
    "duration": 5,
    "start_time": "2023-03-31T11:30:41.849Z"
   },
   {
    "duration": 27,
    "start_time": "2023-03-31T11:30:41.856Z"
   },
   {
    "duration": 17,
    "start_time": "2023-03-31T11:30:41.888Z"
   },
   {
    "duration": 34,
    "start_time": "2023-03-31T11:30:41.908Z"
   },
   {
    "duration": 25,
    "start_time": "2023-03-31T11:30:41.945Z"
   },
   {
    "duration": 51,
    "start_time": "2023-03-31T11:30:41.972Z"
   },
   {
    "duration": 553,
    "start_time": "2023-03-31T11:30:42.028Z"
   },
   {
    "duration": 29,
    "start_time": "2023-03-31T11:30:42.583Z"
   },
   {
    "duration": 10,
    "start_time": "2023-03-31T11:30:42.620Z"
   },
   {
    "duration": 11,
    "start_time": "2023-03-31T11:30:42.632Z"
   },
   {
    "duration": 33,
    "start_time": "2023-03-31T11:30:42.644Z"
   },
   {
    "duration": 22,
    "start_time": "2023-03-31T11:30:42.678Z"
   },
   {
    "duration": 1267,
    "start_time": "2023-03-31T11:30:42.702Z"
   },
   {
    "duration": 489,
    "start_time": "2023-03-31T11:30:43.971Z"
   },
   {
    "duration": 1614,
    "start_time": "2023-03-31T11:30:44.462Z"
   },
   {
    "duration": 6,
    "start_time": "2023-03-31T11:30:46.078Z"
   },
   {
    "duration": 27,
    "start_time": "2023-03-31T11:30:46.086Z"
   },
   {
    "duration": 8,
    "start_time": "2023-03-31T11:30:46.115Z"
   },
   {
    "duration": 9,
    "start_time": "2023-03-31T11:30:46.125Z"
   },
   {
    "duration": 16,
    "start_time": "2023-03-31T11:30:46.136Z"
   },
   {
    "duration": 8,
    "start_time": "2023-03-31T11:30:46.154Z"
   },
   {
    "duration": 45,
    "start_time": "2023-03-31T11:30:46.164Z"
   },
   {
    "duration": 21,
    "start_time": "2023-03-31T11:30:46.211Z"
   },
   {
    "duration": 17,
    "start_time": "2023-03-31T11:30:46.234Z"
   },
   {
    "duration": 17,
    "start_time": "2023-03-31T11:30:46.253Z"
   },
   {
    "duration": 1442,
    "start_time": "2023-03-31T11:53:27.732Z"
   },
   {
    "duration": 42,
    "start_time": "2023-03-31T11:53:29.176Z"
   },
   {
    "duration": 56,
    "start_time": "2023-03-31T11:53:29.222Z"
   },
   {
    "duration": 27,
    "start_time": "2023-03-31T11:53:29.281Z"
   },
   {
    "duration": 265,
    "start_time": "2023-03-31T11:53:29.314Z"
   },
   {
    "duration": 110,
    "start_time": "2023-03-31T11:53:29.582Z"
   },
   {
    "duration": 11,
    "start_time": "2023-03-31T11:53:29.705Z"
   },
   {
    "duration": 25,
    "start_time": "2023-03-31T11:53:29.718Z"
   },
   {
    "duration": 10,
    "start_time": "2023-03-31T11:53:29.746Z"
   },
   {
    "duration": 49,
    "start_time": "2023-03-31T11:53:29.760Z"
   },
   {
    "duration": 475,
    "start_time": "2023-03-31T11:53:29.812Z"
   },
   {
    "duration": 3,
    "start_time": "2023-03-31T11:53:30.289Z"
   },
   {
    "duration": 51,
    "start_time": "2023-03-31T11:53:30.294Z"
   },
   {
    "duration": 36,
    "start_time": "2023-03-31T11:53:30.347Z"
   },
   {
    "duration": 60,
    "start_time": "2023-03-31T11:53:30.385Z"
   },
   {
    "duration": 20,
    "start_time": "2023-03-31T11:53:30.447Z"
   },
   {
    "duration": 56,
    "start_time": "2023-03-31T11:53:30.469Z"
   },
   {
    "duration": 446,
    "start_time": "2023-03-31T11:53:30.535Z"
   },
   {
    "duration": 23,
    "start_time": "2023-03-31T11:53:30.983Z"
   },
   {
    "duration": 10,
    "start_time": "2023-03-31T11:53:31.008Z"
   },
   {
    "duration": 28,
    "start_time": "2023-03-31T11:53:31.020Z"
   },
   {
    "duration": 24,
    "start_time": "2023-03-31T11:53:31.050Z"
   },
   {
    "duration": 60,
    "start_time": "2023-03-31T11:53:31.076Z"
   },
   {
    "duration": 1663,
    "start_time": "2023-03-31T11:53:31.138Z"
   },
   {
    "duration": 421,
    "start_time": "2023-03-31T11:53:32.809Z"
   },
   {
    "duration": 1632,
    "start_time": "2023-03-31T11:53:33.233Z"
   },
   {
    "duration": 5,
    "start_time": "2023-03-31T11:53:34.867Z"
   },
   {
    "duration": 37,
    "start_time": "2023-03-31T11:53:34.877Z"
   },
   {
    "duration": 12,
    "start_time": "2023-03-31T11:53:34.916Z"
   },
   {
    "duration": 10,
    "start_time": "2023-03-31T11:53:34.931Z"
   },
   {
    "duration": 10,
    "start_time": "2023-03-31T11:53:34.943Z"
   },
   {
    "duration": 15,
    "start_time": "2023-03-31T11:53:34.955Z"
   },
   {
    "duration": 38,
    "start_time": "2023-03-31T11:53:34.972Z"
   },
   {
    "duration": 24,
    "start_time": "2023-03-31T11:53:35.011Z"
   },
   {
    "duration": 22,
    "start_time": "2023-03-31T11:53:35.037Z"
   },
   {
    "duration": 53,
    "start_time": "2023-03-31T11:53:35.061Z"
   },
   {
    "duration": 1415,
    "start_time": "2023-03-31T12:02:21.026Z"
   },
   {
    "duration": 44,
    "start_time": "2023-03-31T12:02:22.443Z"
   },
   {
    "duration": 45,
    "start_time": "2023-03-31T12:02:22.587Z"
   },
   {
    "duration": 8,
    "start_time": "2023-03-31T12:02:23.348Z"
   },
   {
    "duration": 117,
    "start_time": "2023-03-31T12:03:59.733Z"
   },
   {
    "duration": 166,
    "start_time": "2023-03-31T12:04:14.755Z"
   },
   {
    "duration": 244,
    "start_time": "2023-03-31T12:06:01.765Z"
   },
   {
    "duration": 243,
    "start_time": "2023-03-31T12:06:16.923Z"
   },
   {
    "duration": 221,
    "start_time": "2023-03-31T12:07:23.545Z"
   },
   {
    "duration": 206,
    "start_time": "2023-03-31T12:07:33.326Z"
   },
   {
    "duration": 198,
    "start_time": "2023-03-31T12:07:57.247Z"
   },
   {
    "duration": 189,
    "start_time": "2023-03-31T12:08:39.826Z"
   },
   {
    "duration": 166,
    "start_time": "2023-03-31T12:09:05.229Z"
   },
   {
    "duration": 198,
    "start_time": "2023-03-31T12:09:40.824Z"
   },
   {
    "duration": 300,
    "start_time": "2023-03-31T12:10:21.226Z"
   },
   {
    "duration": 240,
    "start_time": "2023-03-31T12:11:55.105Z"
   },
   {
    "duration": 175,
    "start_time": "2023-03-31T12:12:57.512Z"
   },
   {
    "duration": 208,
    "start_time": "2023-03-31T12:13:25.172Z"
   },
   {
    "duration": 1332,
    "start_time": "2023-03-31T12:15:28.526Z"
   },
   {
    "duration": 35,
    "start_time": "2023-03-31T12:15:29.861Z"
   },
   {
    "duration": 235,
    "start_time": "2023-03-31T12:15:29.898Z"
   },
   {
    "duration": 30,
    "start_time": "2023-03-31T12:15:30.135Z"
   },
   {
    "duration": 9,
    "start_time": "2023-03-31T12:15:30.168Z"
   },
   {
    "duration": 351,
    "start_time": "2023-03-31T12:15:30.179Z"
   },
   {
    "duration": 121,
    "start_time": "2023-03-31T12:15:30.532Z"
   },
   {
    "duration": 9,
    "start_time": "2023-03-31T12:15:30.655Z"
   },
   {
    "duration": 72,
    "start_time": "2023-03-31T12:15:30.667Z"
   },
   {
    "duration": 31,
    "start_time": "2023-03-31T12:15:30.742Z"
   },
   {
    "duration": 57,
    "start_time": "2023-03-31T12:15:30.776Z"
   },
   {
    "duration": 807,
    "start_time": "2023-03-31T12:15:30.835Z"
   },
   {
    "duration": 6,
    "start_time": "2023-03-31T12:15:31.645Z"
   },
   {
    "duration": 29,
    "start_time": "2023-03-31T12:15:31.656Z"
   },
   {
    "duration": 55,
    "start_time": "2023-03-31T12:15:31.687Z"
   },
   {
    "duration": 29,
    "start_time": "2023-03-31T12:15:31.745Z"
   },
   {
    "duration": 22,
    "start_time": "2023-03-31T12:15:31.776Z"
   },
   {
    "duration": 49,
    "start_time": "2023-03-31T12:15:31.800Z"
   },
   {
    "duration": 672,
    "start_time": "2023-03-31T12:15:31.851Z"
   },
   {
    "duration": 23,
    "start_time": "2023-03-31T12:15:32.527Z"
   },
   {
    "duration": 58,
    "start_time": "2023-03-31T12:15:32.553Z"
   },
   {
    "duration": 13,
    "start_time": "2023-03-31T12:15:32.616Z"
   },
   {
    "duration": 18,
    "start_time": "2023-03-31T12:15:32.638Z"
   },
   {
    "duration": 48,
    "start_time": "2023-03-31T12:15:32.658Z"
   },
   {
    "duration": 3521,
    "start_time": "2023-03-31T12:15:32.708Z"
   },
   {
    "duration": 1272,
    "start_time": "2023-03-31T12:15:36.236Z"
   },
   {
    "duration": 2056,
    "start_time": "2023-03-31T12:15:37.511Z"
   },
   {
    "duration": 5,
    "start_time": "2023-03-31T12:15:39.569Z"
   },
   {
    "duration": 11,
    "start_time": "2023-03-31T12:15:39.577Z"
   },
   {
    "duration": 27,
    "start_time": "2023-03-31T12:15:39.590Z"
   },
   {
    "duration": 10,
    "start_time": "2023-03-31T12:15:39.619Z"
   },
   {
    "duration": 11,
    "start_time": "2023-03-31T12:15:39.631Z"
   },
   {
    "duration": 15,
    "start_time": "2023-03-31T12:15:39.644Z"
   },
   {
    "duration": 18,
    "start_time": "2023-03-31T12:15:39.662Z"
   },
   {
    "duration": 38,
    "start_time": "2023-03-31T12:15:39.683Z"
   },
   {
    "duration": 22,
    "start_time": "2023-03-31T12:15:39.724Z"
   },
   {
    "duration": 20,
    "start_time": "2023-03-31T12:15:39.749Z"
   },
   {
    "duration": 304,
    "start_time": "2023-03-31T12:29:45.170Z"
   },
   {
    "duration": 268,
    "start_time": "2023-03-31T12:29:57.818Z"
   },
   {
    "duration": 209,
    "start_time": "2023-03-31T12:30:09.370Z"
   },
   {
    "duration": 2961,
    "start_time": "2023-03-31T12:30:14.304Z"
   },
   {
    "duration": 538,
    "start_time": "2023-03-31T12:31:28.142Z"
   },
   {
    "duration": 680,
    "start_time": "2023-03-31T12:31:32.929Z"
   },
   {
    "duration": 604,
    "start_time": "2023-03-31T12:31:40.591Z"
   },
   {
    "duration": 509,
    "start_time": "2023-03-31T12:33:10.193Z"
   },
   {
    "duration": 1256,
    "start_time": "2023-03-31T12:43:27.279Z"
   },
   {
    "duration": 36,
    "start_time": "2023-03-31T12:43:28.537Z"
   },
   {
    "duration": 33,
    "start_time": "2023-03-31T12:43:28.574Z"
   },
   {
    "duration": 9,
    "start_time": "2023-03-31T12:43:28.615Z"
   },
   {
    "duration": 251,
    "start_time": "2023-03-31T12:43:28.627Z"
   },
   {
    "duration": 97,
    "start_time": "2023-03-31T12:43:28.879Z"
   },
   {
    "duration": 8,
    "start_time": "2023-03-31T12:43:28.978Z"
   },
   {
    "duration": 27,
    "start_time": "2023-03-31T12:43:29.003Z"
   },
   {
    "duration": 8,
    "start_time": "2023-03-31T12:43:29.032Z"
   },
   {
    "duration": 29,
    "start_time": "2023-03-31T12:43:29.043Z"
   },
   {
    "duration": 935,
    "start_time": "2023-03-31T12:43:29.073Z"
   },
   {
    "duration": 5,
    "start_time": "2023-03-31T12:43:30.021Z"
   },
   {
    "duration": 25,
    "start_time": "2023-03-31T12:43:30.028Z"
   },
   {
    "duration": 16,
    "start_time": "2023-03-31T12:43:30.056Z"
   },
   {
    "duration": 25,
    "start_time": "2023-03-31T12:43:30.104Z"
   },
   {
    "duration": 17,
    "start_time": "2023-03-31T12:43:30.131Z"
   },
   {
    "duration": 42,
    "start_time": "2023-03-31T12:43:30.202Z"
   },
   {
    "duration": 869,
    "start_time": "2023-03-31T12:43:30.246Z"
   },
   {
    "duration": 21,
    "start_time": "2023-03-31T12:43:31.118Z"
   },
   {
    "duration": 76,
    "start_time": "2023-03-31T12:43:31.141Z"
   },
   {
    "duration": 27,
    "start_time": "2023-03-31T12:43:31.220Z"
   },
   {
    "duration": 20,
    "start_time": "2023-03-31T12:43:31.249Z"
   },
   {
    "duration": 11,
    "start_time": "2023-03-31T12:43:31.304Z"
   },
   {
    "duration": 2703,
    "start_time": "2023-03-31T12:43:31.322Z"
   },
   {
    "duration": 491,
    "start_time": "2023-03-31T12:43:34.027Z"
   },
   {
    "duration": 1741,
    "start_time": "2023-03-31T12:43:34.520Z"
   },
   {
    "duration": 4,
    "start_time": "2023-03-31T12:43:36.263Z"
   },
   {
    "duration": 7,
    "start_time": "2023-03-31T12:43:36.271Z"
   },
   {
    "duration": 30,
    "start_time": "2023-03-31T12:43:36.280Z"
   },
   {
    "duration": 9,
    "start_time": "2023-03-31T12:43:36.318Z"
   },
   {
    "duration": 10,
    "start_time": "2023-03-31T12:43:36.329Z"
   },
   {
    "duration": 6,
    "start_time": "2023-03-31T12:43:36.341Z"
   },
   {
    "duration": 21,
    "start_time": "2023-03-31T12:43:36.348Z"
   },
   {
    "duration": 20,
    "start_time": "2023-03-31T12:43:36.371Z"
   },
   {
    "duration": 29,
    "start_time": "2023-03-31T12:43:36.393Z"
   },
   {
    "duration": 17,
    "start_time": "2023-03-31T12:43:36.424Z"
   },
   {
    "duration": 1365,
    "start_time": "2023-03-31T12:47:16.170Z"
   },
   {
    "duration": 35,
    "start_time": "2023-03-31T12:47:17.537Z"
   },
   {
    "duration": 34,
    "start_time": "2023-03-31T12:47:17.575Z"
   },
   {
    "duration": 10,
    "start_time": "2023-03-31T12:47:17.621Z"
   },
   {
    "duration": 243,
    "start_time": "2023-03-31T12:47:17.633Z"
   },
   {
    "duration": 100,
    "start_time": "2023-03-31T12:47:17.878Z"
   },
   {
    "duration": 8,
    "start_time": "2023-03-31T12:47:17.980Z"
   },
   {
    "duration": 16,
    "start_time": "2023-03-31T12:47:18.005Z"
   },
   {
    "duration": 10,
    "start_time": "2023-03-31T12:47:18.023Z"
   },
   {
    "duration": 28,
    "start_time": "2023-03-31T12:47:18.040Z"
   },
   {
    "duration": 1349,
    "start_time": "2023-03-31T12:47:18.071Z"
   },
   {
    "duration": 4,
    "start_time": "2023-03-31T12:47:19.423Z"
   },
   {
    "duration": 27,
    "start_time": "2023-03-31T12:47:19.429Z"
   },
   {
    "duration": 53,
    "start_time": "2023-03-31T12:47:19.458Z"
   },
   {
    "duration": 31,
    "start_time": "2023-03-31T12:47:19.514Z"
   },
   {
    "duration": 70,
    "start_time": "2023-03-31T12:47:19.547Z"
   },
   {
    "duration": 31,
    "start_time": "2023-03-31T12:47:19.619Z"
   },
   {
    "duration": 994,
    "start_time": "2023-03-31T12:47:19.652Z"
   },
   {
    "duration": 30,
    "start_time": "2023-03-31T12:47:20.705Z"
   },
   {
    "duration": 9,
    "start_time": "2023-03-31T12:47:20.738Z"
   },
   {
    "duration": 59,
    "start_time": "2023-03-31T12:47:20.749Z"
   },
   {
    "duration": 10,
    "start_time": "2023-03-31T12:47:20.810Z"
   },
   {
    "duration": 13,
    "start_time": "2023-03-31T12:47:20.826Z"
   },
   {
    "duration": 1434,
    "start_time": "2023-03-31T12:47:20.842Z"
   },
   {
    "duration": 413,
    "start_time": "2023-03-31T12:47:22.277Z"
   },
   {
    "duration": 1679,
    "start_time": "2023-03-31T12:47:22.692Z"
   },
   {
    "duration": 4,
    "start_time": "2023-03-31T12:47:24.373Z"
   },
   {
    "duration": 34,
    "start_time": "2023-03-31T12:47:24.381Z"
   },
   {
    "duration": 16,
    "start_time": "2023-03-31T12:47:24.417Z"
   },
   {
    "duration": 12,
    "start_time": "2023-03-31T12:47:24.435Z"
   },
   {
    "duration": 22,
    "start_time": "2023-03-31T12:47:24.450Z"
   },
   {
    "duration": 4,
    "start_time": "2023-03-31T12:47:24.474Z"
   },
   {
    "duration": 29,
    "start_time": "2023-03-31T12:47:24.480Z"
   },
   {
    "duration": 20,
    "start_time": "2023-03-31T12:47:24.513Z"
   },
   {
    "duration": 27,
    "start_time": "2023-03-31T12:47:24.535Z"
   },
   {
    "duration": 22,
    "start_time": "2023-03-31T12:47:24.564Z"
   },
   {
    "duration": 1146,
    "start_time": "2023-12-25T19:44:08.043Z"
   },
   {
    "duration": 76,
    "start_time": "2023-12-25T19:44:09.191Z"
   },
   {
    "duration": 26,
    "start_time": "2023-12-25T19:44:09.269Z"
   },
   {
    "duration": 73,
    "start_time": "2023-12-25T19:44:09.297Z"
   },
   {
    "duration": 246,
    "start_time": "2023-12-25T19:44:09.371Z"
   },
   {
    "duration": 81,
    "start_time": "2023-12-25T19:44:09.619Z"
   },
   {
    "duration": 6,
    "start_time": "2023-12-25T19:44:09.702Z"
   },
   {
    "duration": 13,
    "start_time": "2023-12-25T19:44:09.710Z"
   },
   {
    "duration": 7,
    "start_time": "2023-12-25T19:44:09.725Z"
   },
   {
    "duration": 25,
    "start_time": "2023-12-25T19:44:09.735Z"
   },
   {
    "duration": 398,
    "start_time": "2023-12-25T19:44:09.761Z"
   },
   {
    "duration": 3,
    "start_time": "2023-12-25T19:44:10.161Z"
   },
   {
    "duration": 24,
    "start_time": "2023-12-25T19:44:10.165Z"
   },
   {
    "duration": 8,
    "start_time": "2023-12-25T19:44:10.190Z"
   },
   {
    "duration": 34,
    "start_time": "2023-12-25T19:44:10.200Z"
   },
   {
    "duration": 18,
    "start_time": "2023-12-25T19:44:10.236Z"
   },
   {
    "duration": 50,
    "start_time": "2023-12-25T19:44:10.256Z"
   },
   {
    "duration": 780,
    "start_time": "2023-12-25T19:44:10.308Z"
   },
   {
    "duration": 23,
    "start_time": "2023-12-25T19:44:11.090Z"
   },
   {
    "duration": 7,
    "start_time": "2023-12-25T19:44:11.115Z"
   },
   {
    "duration": 64,
    "start_time": "2023-12-25T19:44:11.124Z"
   },
   {
    "duration": 13,
    "start_time": "2023-12-25T19:44:11.190Z"
   },
   {
    "duration": 11,
    "start_time": "2023-12-25T19:44:11.205Z"
   },
   {
    "duration": 1474,
    "start_time": "2023-12-25T19:44:11.218Z"
   },
   {
    "duration": 363,
    "start_time": "2023-12-25T19:44:12.695Z"
   },
   {
    "duration": 1573,
    "start_time": "2023-12-25T19:44:13.059Z"
   },
   {
    "duration": 5,
    "start_time": "2023-12-25T19:44:14.634Z"
   },
   {
    "duration": 32,
    "start_time": "2023-12-25T19:44:14.643Z"
   },
   {
    "duration": 16,
    "start_time": "2023-12-25T19:44:14.677Z"
   },
   {
    "duration": 14,
    "start_time": "2023-12-25T19:44:14.695Z"
   },
   {
    "duration": 41,
    "start_time": "2023-12-25T19:44:14.711Z"
   },
   {
    "duration": 40,
    "start_time": "2023-12-25T19:44:14.754Z"
   },
   {
    "duration": 26,
    "start_time": "2023-12-25T19:44:14.795Z"
   },
   {
    "duration": 25,
    "start_time": "2023-12-25T19:44:14.823Z"
   },
   {
    "duration": 39,
    "start_time": "2023-12-25T19:44:14.849Z"
   },
   {
    "duration": 32,
    "start_time": "2023-12-25T19:44:14.890Z"
   },
   {
    "duration": 6106,
    "start_time": "2023-12-26T09:44:35.411Z"
   },
   {
    "duration": 300,
    "start_time": "2023-12-26T09:44:41.520Z"
   },
   {
    "duration": 195,
    "start_time": "2023-12-26T09:44:41.823Z"
   },
   {
    "duration": 92,
    "start_time": "2023-12-26T09:44:42.022Z"
   },
   {
    "duration": 1796,
    "start_time": "2023-12-26T09:44:42.118Z"
   },
   {
    "duration": 586,
    "start_time": "2023-12-26T09:44:43.916Z"
   },
   {
    "duration": 10,
    "start_time": "2023-12-26T09:44:44.506Z"
   },
   {
    "duration": 95,
    "start_time": "2023-12-26T09:44:44.519Z"
   },
   {
    "duration": 86,
    "start_time": "2023-12-26T09:44:44.616Z"
   },
   {
    "duration": 98,
    "start_time": "2023-12-26T09:44:44.704Z"
   },
   {
    "duration": 2996,
    "start_time": "2023-12-26T09:44:44.804Z"
   },
   {
    "duration": 4,
    "start_time": "2023-12-26T09:44:47.802Z"
   },
   {
    "duration": 93,
    "start_time": "2023-12-26T09:44:47.810Z"
   },
   {
    "duration": 96,
    "start_time": "2023-12-26T09:44:47.908Z"
   },
   {
    "duration": 111,
    "start_time": "2023-12-26T09:44:48.007Z"
   },
   {
    "duration": 101,
    "start_time": "2023-12-26T09:44:48.199Z"
   },
   {
    "duration": 101,
    "start_time": "2023-12-26T09:44:48.302Z"
   },
   {
    "duration": 1901,
    "start_time": "2023-12-26T09:44:48.404Z"
   },
   {
    "duration": 99,
    "start_time": "2023-12-26T09:44:50.307Z"
   },
   {
    "duration": 93,
    "start_time": "2023-12-26T09:44:50.409Z"
   },
   {
    "duration": 15,
    "start_time": "2023-12-26T09:44:50.505Z"
   },
   {
    "duration": 7,
    "start_time": "2023-12-26T09:44:50.599Z"
   },
   {
    "duration": 96,
    "start_time": "2023-12-26T09:44:50.609Z"
   },
   {
    "duration": 6100,
    "start_time": "2023-12-26T09:44:50.709Z"
   },
   {
    "duration": 2105,
    "start_time": "2023-12-26T09:44:56.811Z"
   },
   {
    "duration": 5285,
    "start_time": "2023-12-26T09:44:58.919Z"
   },
   {
    "duration": 5,
    "start_time": "2023-12-26T09:45:04.206Z"
   },
   {
    "duration": 14,
    "start_time": "2023-12-26T09:45:04.213Z"
   },
   {
    "duration": 78,
    "start_time": "2023-12-26T09:45:04.229Z"
   },
   {
    "duration": 12,
    "start_time": "2023-12-26T09:45:04.309Z"
   },
   {
    "duration": 80,
    "start_time": "2023-12-26T09:45:04.324Z"
   },
   {
    "duration": 18,
    "start_time": "2023-12-26T09:45:04.407Z"
   },
   {
    "duration": 84,
    "start_time": "2023-12-26T09:45:04.428Z"
   },
   {
    "duration": 100,
    "start_time": "2023-12-26T09:45:04.514Z"
   },
   {
    "duration": 93,
    "start_time": "2023-12-26T09:45:04.616Z"
   },
   {
    "duration": 91,
    "start_time": "2023-12-26T09:45:04.711Z"
   }
  ],
  "kernelspec": {
   "display_name": "Python 3 (ipykernel)",
   "language": "python",
   "name": "python3"
  },
  "language_info": {
   "codemirror_mode": {
    "name": "ipython",
    "version": 3
   },
   "file_extension": ".py",
   "mimetype": "text/x-python",
   "name": "python",
   "nbconvert_exporter": "python",
   "pygments_lexer": "ipython3",
   "version": "3.9.5"
  },
  "toc": {
   "base_numbering": "1",
   "nav_menu": {},
   "number_sections": true,
   "sideBar": true,
   "skip_h1_title": true,
   "title_cell": "Table of Contents",
   "title_sidebar": "Contents",
   "toc_cell": false,
   "toc_position": {
    "height": "calc(100% - 180px)",
    "left": "10px",
    "top": "150px",
    "width": "165px"
   },
   "toc_section_display": true,
   "toc_window_display": true
  }
 },
 "nbformat": 4,
 "nbformat_minor": 2
}
